{
 "cells": [
  {
   "cell_type": "code",
   "execution_count": 1,
   "metadata": {},
   "outputs": [
    {
     "name": "stderr",
     "output_type": "stream",
     "text": [
      "/Users/smcaleese/Documents/masters-thesis-code/.env/lib/python3.12/site-packages/tqdm/auto.py:21: TqdmWarning: IProgress not found. Please update jupyter and ipywidgets. See https://ipywidgets.readthedocs.io/en/stable/user_install.html\n",
      "  from .autonotebook import tqdm as notebook_tqdm\n"
     ]
    }
   ],
   "source": [
    "from transformers import GPT2LMHeadModel, GPT2Tokenizer"
   ]
  },
  {
   "cell_type": "code",
   "execution_count": 2,
   "metadata": {},
   "outputs": [
    {
     "data": {
      "text/plain": [
       "GPT2LMHeadModel(\n",
       "  (transformer): GPT2Model(\n",
       "    (wte): Embedding(50257, 768)\n",
       "    (wpe): Embedding(1024, 768)\n",
       "    (drop): Dropout(p=0.1, inplace=False)\n",
       "    (h): ModuleList(\n",
       "      (0-11): 12 x GPT2Block(\n",
       "        (ln_1): LayerNorm((768,), eps=1e-05, elementwise_affine=True)\n",
       "        (attn): GPT2SdpaAttention(\n",
       "          (c_attn): Conv1D()\n",
       "          (c_proj): Conv1D()\n",
       "          (attn_dropout): Dropout(p=0.1, inplace=False)\n",
       "          (resid_dropout): Dropout(p=0.1, inplace=False)\n",
       "        )\n",
       "        (ln_2): LayerNorm((768,), eps=1e-05, elementwise_affine=True)\n",
       "        (mlp): GPT2MLP(\n",
       "          (c_fc): Conv1D()\n",
       "          (c_proj): Conv1D()\n",
       "          (act): NewGELUActivation()\n",
       "          (dropout): Dropout(p=0.1, inplace=False)\n",
       "        )\n",
       "      )\n",
       "    )\n",
       "    (ln_f): LayerNorm((768,), eps=1e-05, elementwise_affine=True)\n",
       "  )\n",
       "  (lm_head): Linear(in_features=768, out_features=50257, bias=False)\n",
       ")"
      ]
     },
     "execution_count": 2,
     "metadata": {},
     "output_type": "execute_result"
    }
   ],
   "source": [
    "tokenizer = GPT2Tokenizer.from_pretrained('gpt2')\n",
    "\n",
    "# Load pre-trained model\n",
    "model = GPT2LMHeadModel.from_pretrained('gpt2')\n",
    "model.eval()  # Put the model in evaluation mode"
   ]
  },
  {
   "cell_type": "code",
   "execution_count": 57,
   "metadata": {},
   "outputs": [
    {
     "name": "stdout",
     "output_type": "stream",
     "text": [
      "s: This movie was sadly under-promoted, sentence length: 97, perplexity: 30.56562042236328, normalized perplexity: 1.0301846265792847\n",
      "s: On a dark, gloomy New, sentence length: 456, perplexity: 32.744083404541016, normalized perplexity: 1.0059105157852173\n",
      "s: Haines is excellent as the, sentence length: 146, perplexity: 78.64765930175781, normalized perplexity: 1.0217351913452148\n"
     ]
    }
   ],
   "source": [
    "import torch\n",
    "\n",
    "def calculate_perplexity(sentence: str) -> float:\n",
    "    tokenize_input = tokenizer.encode(sentence, return_tensors=\"pt\")\n",
    "    loss = model(tokenize_input, labels=tokenize_input).loss\n",
    "    num_tokens = tokenize_input.size()[1]\n",
    "    normalized_loss = loss / num_tokens\n",
    "    perplexity = torch.exp(loss).item()\n",
    "    normalized_perplexity = torch.exp(normalized_loss).item()\n",
    "    # return normalized_perplexity\n",
    "    return perplexity, normalized_perplexity\n",
    "\n",
    "def normalize_perplexities(perplexities):\n",
    "    perplexity_values = [p for _, p in perplexities]\n",
    "    min_perplexity = min(perplexity_values)\n",
    "    max_perplexity = max(perplexity_values)\n",
    "    \n",
    "    normalized_results = []\n",
    "    for sentence, perplexity in perplexities:\n",
    "        if max_perplexity == min_perplexity:\n",
    "            normalized_score = 0  # All sentences have the same perplexity\n",
    "        else:\n",
    "            normalized_score = (perplexity - min_perplexity) / (max_perplexity - min_perplexity)\n",
    "        # Invert the score so that lower perplexity (better) maps to higher normalized score\n",
    "        # normalized_score = 1 - normalized_score\n",
    "        normalized_results.append((sentence, perplexity, normalized_score))\n",
    "    \n",
    "    return normalized_results\n",
    "\n",
    "# sentences = [\n",
    "#     \"The quick\",\n",
    "#     \"The quick brown\",\n",
    "#     \"The quick brown fox\",\n",
    "#     \"The quick brown fox jumps\",\n",
    "#     \"The quick brown fox jumps over\",\n",
    "# ]\n",
    "\n",
    "sentences = [\n",
    "    \"This movie was sadly under-promoted but proved to be truly exceptional. Entering the theatre I knew nothing about the film except that a friend wanted to see it. I was caught off guard with the high quality of the film. I couldn't image Ashton Kutcher in a serious role, but his performance truly exemplified his character. This movie is exceptional and deserves our monetary support, unlike so many other movies. It does not come lightly for me to recommend any movie, but in this case I highly recommend that everyone see it. This films is Truly Exceptional!\",\n",
    "    \"On a dark, gloomy New Year's Eve night, an ill nurse, her life slowly ebbing away, demands that David Holm be presented to her at once. We don't yet know who David Holm is, or why this nurse wishes to see him, but her only dying wish is to speak with him just one more time. On the other side of the town, nestled comfortably amongst the gravestones of the local cemetery, Holm (Victor Sjöström, who also directed) and two of his drunken associates merrily await the coming of the New Year. \"\"Here we can tell just when to drink the New Year in,\"\" exclaims Holm, casting a finger towards the large clock tower that looms through the darkness. Little does he know, however, that he will not be alive to greet it. To pass the time, Holm cheerfully recites a ghost story. He'd once had a friend name George, \"\"a merry fellow\"\" who was \"\"smarter than the rest of us.\"\" On one New Year's Eve several years ago, George has broken up a potentially disastrous brawl, fearing that the final man to draw his last breath before midnight would be condemned to drive the phantom chariot for the next year, doing Death's bidding and collecting the souls of the deceased. \"\"And, gentlemen, George died last New Year's Eve!\"\" concludes Holm happily, not bothering to contain his mocking skepticism of the man's beliefs. As fate has it, of course, an unexpected violent encounter results in Holm's death, just on the stroke of midnight. As the man's transparent spirit rises gingerly from his earthly body, he witnesses, to his horror, the distant approach of a phantom carriage. The driver, a frail cloaked figure - a sickle clasped tightly in his hand - steps down from the carriage and approaches. We are astonished to discover that the driver is none other than a decrepit George, preparing to pass on his ghastly duty to this year's successor. Considering the era in which 'Körkarlen' is made, the special effects in this film are absolutely superb. Cinematographer Julius Jaenzon used double-exposure photography to create the eerie, ghostly silhouette of the carriage and its damned driver. Even today, the end result is highly effective. A particularly impressive scene involves the phantom chariot travelling to the ocean floor to retrieve the soul of a drowned man. Another scene, eerily reminiscent of Jack Torrance (Jack Nicholson) in Stanley Kubrick's 'The Shining,' involves Holm breaking down the kitchen door with an axe in order to reach his fleeing wife and children. Genuinely ominous and unsettling in its execution, Victor Sjöström's 'Körkarlen' is a fine work of cinema, successfully portraying Holm's steady alcoholic decline, his inevitable day of judgment, and a final hopeful possibility of redemption.\",\n",
    "    \"Haines is excellent as the brash cadet who thinks West Point will really amount to something now that he has arrived. Haines displays his easy, goofy comic persona as he takes on West Point and Joan Crawford, the local beauty. Great fun for the first half. And amazingly touching after Haines's character goes too far and nearly gets shunned by fellow cadets. The new, humility-filled Haines get s alast-minute reprieve to play in the bill football game against Navy and, despite a broken arm, wins the game. Great, rousing entertainment by MGM in this Haines formula film, shows Billy at his best. William Bakewell also scores as the skinny follower. The handsome-but-goony character would be played by Clark Gable, Cary Grant, Gary Cooper and others in later decades, another take on the beautiful-but-daffy dames played by Carole Lombard and Marion Davies. West Point is a winner!\"\n",
    "]\n",
    "\n",
    "# perplexity_scores = [(s, calculate_perplexity(s)) for s in sentences]\n",
    "perplexity_scores = [[s, calculate_perplexity(s)] for s in sentences]\n",
    "# normalized_perplexity_scores = normalize_perplexities(perplexity_scores)\n",
    "\n",
    "# for (sentence, perplexity, normalized_score) in normalized_perplexity_scores:\n",
    "#     print(f\"sentence: {sentence}, perplexity: {perplexity}, normalized_score: {normalized_score}\")\n",
    "\n",
    "data = []\n",
    "for [s, (p, p2)] in perplexity_scores:\n",
    "    data.append((p, p2))\n",
    "    print(f\"s: {\" \".join(s.split()[:5])}, sentence length: {len(s.split())}, perplexity: {p}, normalized perplexity: {p2}\")\n"
   ]
  },
  {
   "cell_type": "code",
   "execution_count": 58,
   "metadata": {},
   "outputs": [
    {
     "data": {
      "text/plain": [
       "[(30.56562042236328, 1.0301846265792847),\n",
       " (32.744083404541016, 1.0059105157852173),\n",
       " (78.64765930175781, 1.0217351913452148)]"
      ]
     },
     "execution_count": 58,
     "metadata": {},
     "output_type": "execute_result"
    }
   ],
   "source": [
    "data"
   ]
  },
  {
   "cell_type": "code",
   "execution_count": 59,
   "metadata": {},
   "outputs": [
    {
     "data": {
      "text/plain": [
       "<matplotlib.legend.Legend at 0x171aecec0>"
      ]
     },
     "execution_count": 59,
     "metadata": {},
     "output_type": "execute_result"
    },
    {
     "data": {
      "image/png": "[encoded data removed]",
      "text/plain": [
       "<Figure size 640x480 with 1 Axes>"
      ]
     },
     "metadata": {},
     "output_type": "display_data"
    }
   ],
   "source": [
    "import matplotlib.pyplot as plt\n",
    "\n",
    "data1 = [p for p, _ in data]\n",
    "data2 = [p2 for _, p2 in data]\n",
    "\n",
    "plt.plot(data1, label=\"Perplexity\")\n",
    "plt.plot(data2, label=\"Normalized Perplexity\")\n",
    "plt.legend()"
   ]
  },
  {
   "cell_type": "code",
   "execution_count": 6,
   "metadata": {},
   "outputs": [
    {
     "name": "stderr",
     "output_type": "stream",
     "text": [
      "Some weights of the model checkpoint at bert-base-uncased were not used when initializing BertForMaskedLM: ['bert.pooler.dense.bias', 'bert.pooler.dense.weight', 'cls.seq_relationship.bias', 'cls.seq_relationship.weight']\n",
      "- This IS expected if you are initializing BertForMaskedLM from the checkpoint of a model trained on another task or with another architecture (e.g. initializing a BertForSequenceClassification model from a BertForPreTraining model).\n",
      "- This IS NOT expected if you are initializing BertForMaskedLM from the checkpoint of a model that you expect to be exactly identical (initializing a BertForSequenceClassification model from a BertForSequenceClassification model).\n"
     ]
    }
   ],
   "source": [
    "from transformers import BertTokenizer, BertForMaskedLM\n",
    "import torch\n",
    "\n",
    "device = 'cuda' if torch.cuda.is_available() else 'cpu'\n",
    "\n",
    "bert_tokenizer = BertTokenizer.from_pretrained('bert-base-uncased')\n",
    "bert_model = BertForMaskedLM.from_pretrained('bert-base-uncased').to(device)\n",
    "\n",
    "def calculate_perplexity_bert(text):\n",
    "    encodings = bert_tokenizer(text, return_tensors='pt').to(device)\n",
    "    print(f\"encodings: {encodings}\")\n",
    "    max_length = bert_model.config.max_position_embeddings\n",
    "    stride = 512\n",
    "    seq_len = encodings.input_ids.size(1)\n",
    "    \n",
    "    nlls = []\n",
    "    for i in range(0, seq_len, stride):\n",
    "        begin_loc = max(i + stride - max_length, 0)\n",
    "        end_loc = min(i + stride, seq_len)\n",
    "        trg_len = end_loc - i\n",
    "        input_ids = encodings.input_ids[:, begin_loc:end_loc].to(device)\n",
    "        target_ids = input_ids.clone()\n",
    "        target_ids[:, :-trg_len] = -100\n",
    "        \n",
    "        with torch.no_grad():\n",
    "            outputs = bert_model(input_ids, labels=target_ids)\n",
    "            neg_log_likelihood = outputs.loss\n",
    "        \n",
    "        nlls.append(neg_log_likelihood)\n",
    "    \n",
    "    ppl = torch.exp(torch.stack(nlls).mean()).item()\n",
    "    return ppl"
   ]
  },
  {
   "cell_type": "code",
   "execution_count": 7,
   "metadata": {},
   "outputs": [
    {
     "name": "stdout",
     "output_type": "stream",
     "text": [
      "encodings: {'input_ids': tensor([[  101,  4248,  1996,  8306, 13971,  2058,   102]]), 'token_type_ids': tensor([[0, 0, 0, 0, 0, 0, 0]]), 'attention_mask': tensor([[1, 1, 1, 1, 1, 1, 1]])}\n",
      "Perplexity: 5084.7802734375\n"
     ]
    }
   ],
   "source": [
    "# text = \"The quick brown fox jumps over the lazy dog.\"\n",
    "text = \"quick the brow lazy over\"\n",
    "perplexity = calculate_perplexity_bert(text)\n",
    "print(f\"Perplexity: {perplexity}\")"
   ]
  },
  {
   "cell_type": "code",
   "execution_count": null,
   "metadata": {},
   "outputs": [],
   "source": []
  }
 ],
 "metadata": {
  "kernelspec": {
   "display_name": ".env",
   "language": "python",
   "name": "python3"
  },
  "language_info": {
   "codemirror_mode": {
    "name": "ipython",
    "version": 3
   },
   "file_extension": ".py",
   "mimetype": "text/x-python",
   "name": "python",
   "nbconvert_exporter": "python",
   "pygments_lexer": "ipython3",
   "version": "3.12.4"
  }
 },
 "nbformat": 4,
 "nbformat_minor": 2
}
