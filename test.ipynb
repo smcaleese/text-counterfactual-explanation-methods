{
 "cells": [
  {
   "cell_type": "code",
   "execution_count": 1,
   "metadata": {},
   "outputs": [],
   "source": [
    "import re\n",
    "import textdistance\n",
    "from sklearn.feature_extraction.text import CountVectorizer\n",
    "from sklearn.metrics.pairwise import cosine_similarity"
   ]
  },
  {
   "cell_type": "code",
   "execution_count": 7,
   "metadata": {},
   "outputs": [],
   "source": [
    "def get_cosine_similarity(text1, text2):\n",
    "    vectorizer = CountVectorizer().fit_transform([text1, text2])\n",
    "    # return cosine_similarity(vectorizer)[0][1]\n",
    "    return cosine_similarity(vectorizer)"
   ]
  },
  {
   "cell_type": "code",
   "execution_count": 8,
   "metadata": {},
   "outputs": [
    {
     "name": "stdout",
     "output_type": "stream",
     "text": [
      "[[1.         0.75377836]\n",
      " [0.75377836 1.        ]]\n"
     ]
    }
   ],
   "source": [
    "text1 = \"The quick brown fox\"\n",
    "text2 = \"The quick brown fox jumps over the lazy dog\"\n",
    "output = get_cosine_similarity(text1, text2)\n",
    "print(output)"
   ]
  },
  {
   "cell_type": "code",
   "execution_count": 13,
   "metadata": {},
   "outputs": [
    {
     "name": "stdout",
     "output_type": "stream",
     "text": [
      "search: <re.Match object; span=(0, 20), match='<new>test text</new>'>\n",
      "search\n",
      "counterfactual text\n",
      "test text\n"
     ]
    }
   ],
   "source": [
    "import re\n",
    "\n",
    "counterfactual_text = None\n",
    "correct_output_format = False\n",
    "\n",
    "output = \"<new>test text</new>\"\n",
    "# output = \"<new>test text<\"\n",
    "# output = None\n",
    "\n",
    "if output:\n",
    "    search = re.search(\"<new>(.*?)</new>\", output)\n",
    "    print(f\"search: {search}\")\n",
    "\n",
    "if search:\n",
    "    print(\"search\")\n",
    "    counterfactual_text = search.group(1)\n",
    "if counterfactual_text:\n",
    "    print(\"counterfactual text\")\n",
    "    correct_output_format = True\n",
    "\n",
    "if not correct_output_format:\n",
    "    if output:\n",
    "        print(\"Failed to generate counterfactual surrounded by <new> tags\")\n",
    "        counterfactual_text = output[5:-6]\n",
    "    else:\n",
    "        counterfactual_text = \"No counterfactual generated.\"\n",
    "\n",
    "print(counterfactual_text)"
   ]
  },
  {
   "cell_type": "code",
   "execution_count": null,
   "metadata": {},
   "outputs": [],
   "source": []
  }
 ],
 "metadata": {
  "kernelspec": {
   "display_name": ".env",
   "language": "python",
   "name": "python3"
  },
  "language_info": {
   "codemirror_mode": {
    "name": "ipython",
    "version": 3
   },
   "file_extension": ".py",
   "mimetype": "text/x-python",
   "name": "python",
   "nbconvert_exporter": "python",
   "pygments_lexer": "ipython3",
   "version": "3.12.4"
  }
 },
 "nbformat": 4,
 "nbformat_minor": 2
}
