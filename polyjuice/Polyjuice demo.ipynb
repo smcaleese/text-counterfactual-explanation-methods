{
 "cells": [
  {
   "cell_type": "code",
   "execution_count": null,
   "id": "ddfb7eb9",
   "metadata": {},
   "outputs": [],
   "source": [
    "%load_ext autoreload\n",
    "%autoreload 2\n",
    "is_cuda = True"
   ]
  },
  {
   "cell_type": "markdown",
   "id": "1a64cd17",
   "metadata": {},
   "source": [
    "# General setup and perturbation"
   ]
  },
  {
   "cell_type": "code",
   "execution_count": 1,
   "id": "cb8a1819",
   "metadata": {},
   "outputs": [
    {
     "name": "stdout",
     "output_type": "stream",
     "text": [
      "Obtaining file:///Users/smcaleese/Documents/masters-thesis-code/polyjuice\n",
      "  Installing build dependencies ... \u001b[?25ldone\n",
      "\u001b[?25h  Checking if build backend supports build_editable ... \u001b[?25ldone\n",
      "\u001b[?25h  Getting requirements to build editable ... \u001b[?25ldone\n",
      "\u001b[?25h  Preparing editable metadata (pyproject.toml) ... \u001b[?25ldone\n",
      "\u001b[?25hRequirement already satisfied: munch>=2.5.0 in /Users/smcaleese/Documents/masters-thesis-code/.venv/lib/python3.12/site-packages (from polyjuice_nlp==0.1.5) (4.0.0)\n",
      "Requirement already satisfied: scipy in /Users/smcaleese/Documents/masters-thesis-code/.venv/lib/python3.12/site-packages (from polyjuice_nlp==0.1.5) (1.14.0)\n",
      "Requirement already satisfied: sentence-transformers>=1.1.0 in /Users/smcaleese/Documents/masters-thesis-code/.venv/lib/python3.12/site-packages (from polyjuice_nlp==0.1.5) (3.0.1)\n",
      "Requirement already satisfied: transformers>=4.5.1 in /Users/smcaleese/Documents/masters-thesis-code/.venv/lib/python3.12/site-packages (from polyjuice_nlp==0.1.5) (4.41.2)\n",
      "Requirement already satisfied: pattern>=3.6.0 in /Users/smcaleese/Documents/masters-thesis-code/.venv/lib/python3.12/site-packages (from polyjuice_nlp==0.1.5) (3.6)\n",
      "Requirement already satisfied: nltk in /Users/smcaleese/Documents/masters-thesis-code/.venv/lib/python3.12/site-packages (from polyjuice_nlp==0.1.5) (3.8.1)\n",
      "Requirement already satisfied: zss in /Users/smcaleese/Documents/masters-thesis-code/.venv/lib/python3.12/site-packages (from polyjuice_nlp==0.1.5) (1.2.0)\n",
      "Requirement already satisfied: spacy>=3.0.6 in /Users/smcaleese/Documents/masters-thesis-code/.venv/lib/python3.12/site-packages (from polyjuice_nlp==0.1.5) (3.7.5)\n",
      "Requirement already satisfied: future in /Users/smcaleese/Documents/masters-thesis-code/.venv/lib/python3.12/site-packages (from pattern>=3.6.0->polyjuice_nlp==0.1.5) (1.0.0)\n",
      "Requirement already satisfied: backports.csv in /Users/smcaleese/Documents/masters-thesis-code/.venv/lib/python3.12/site-packages (from pattern>=3.6.0->polyjuice_nlp==0.1.5) (1.0.7)\n",
      "Requirement already satisfied: mysqlclient in /Users/smcaleese/Documents/masters-thesis-code/.venv/lib/python3.12/site-packages (from pattern>=3.6.0->polyjuice_nlp==0.1.5) (2.2.4)\n",
      "Requirement already satisfied: beautifulsoup4 in /Users/smcaleese/Documents/masters-thesis-code/.venv/lib/python3.12/site-packages (from pattern>=3.6.0->polyjuice_nlp==0.1.5) (4.12.3)\n",
      "Requirement already satisfied: lxml in /Users/smcaleese/Documents/masters-thesis-code/.venv/lib/python3.12/site-packages (from pattern>=3.6.0->polyjuice_nlp==0.1.5) (5.2.2)\n",
      "Requirement already satisfied: feedparser in /Users/smcaleese/Documents/masters-thesis-code/.venv/lib/python3.12/site-packages (from pattern>=3.6.0->polyjuice_nlp==0.1.5) (6.0.11)\n",
      "Requirement already satisfied: pdfminer.six in /Users/smcaleese/Documents/masters-thesis-code/.venv/lib/python3.12/site-packages (from pattern>=3.6.0->polyjuice_nlp==0.1.5) (20231228)\n",
      "Requirement already satisfied: numpy in /Users/smcaleese/Documents/masters-thesis-code/.venv/lib/python3.12/site-packages (from pattern>=3.6.0->polyjuice_nlp==0.1.5) (1.26.4)\n",
      "Requirement already satisfied: python-docx in /Users/smcaleese/Documents/masters-thesis-code/.venv/lib/python3.12/site-packages (from pattern>=3.6.0->polyjuice_nlp==0.1.5) (1.1.2)\n",
      "Requirement already satisfied: cherrypy in /Users/smcaleese/Documents/masters-thesis-code/.venv/lib/python3.12/site-packages (from pattern>=3.6.0->polyjuice_nlp==0.1.5) (18.10.0)\n",
      "Requirement already satisfied: requests in /Users/smcaleese/Documents/masters-thesis-code/.venv/lib/python3.12/site-packages (from pattern>=3.6.0->polyjuice_nlp==0.1.5) (2.32.3)\n",
      "Requirement already satisfied: tqdm in /Users/smcaleese/Documents/masters-thesis-code/.venv/lib/python3.12/site-packages (from sentence-transformers>=1.1.0->polyjuice_nlp==0.1.5) (4.66.4)\n",
      "Requirement already satisfied: torch>=1.11.0 in /Users/smcaleese/Documents/masters-thesis-code/.venv/lib/python3.12/site-packages (from sentence-transformers>=1.1.0->polyjuice_nlp==0.1.5) (2.3.1)\n",
      "Requirement already satisfied: scikit-learn in /Users/smcaleese/Documents/masters-thesis-code/.venv/lib/python3.12/site-packages (from sentence-transformers>=1.1.0->polyjuice_nlp==0.1.5) (1.5.0)\n",
      "Requirement already satisfied: huggingface-hub>=0.15.1 in /Users/smcaleese/Documents/masters-thesis-code/.venv/lib/python3.12/site-packages (from sentence-transformers>=1.1.0->polyjuice_nlp==0.1.5) (0.23.4)\n",
      "Requirement already satisfied: Pillow in /Users/smcaleese/Documents/masters-thesis-code/.venv/lib/python3.12/site-packages (from sentence-transformers>=1.1.0->polyjuice_nlp==0.1.5) (10.3.0)\n",
      "Requirement already satisfied: spacy-legacy<3.1.0,>=3.0.11 in /Users/smcaleese/Documents/masters-thesis-code/.venv/lib/python3.12/site-packages (from spacy>=3.0.6->polyjuice_nlp==0.1.5) (3.0.12)\n",
      "Requirement already satisfied: spacy-loggers<2.0.0,>=1.0.0 in /Users/smcaleese/Documents/masters-thesis-code/.venv/lib/python3.12/site-packages (from spacy>=3.0.6->polyjuice_nlp==0.1.5) (1.0.5)\n",
      "Requirement already satisfied: murmurhash<1.1.0,>=0.28.0 in /Users/smcaleese/Documents/masters-thesis-code/.venv/lib/python3.12/site-packages (from spacy>=3.0.6->polyjuice_nlp==0.1.5) (1.0.10)\n",
      "Requirement already satisfied: cymem<2.1.0,>=2.0.2 in /Users/smcaleese/Documents/masters-thesis-code/.venv/lib/python3.12/site-packages (from spacy>=3.0.6->polyjuice_nlp==0.1.5) (2.0.8)\n",
      "Requirement already satisfied: preshed<3.1.0,>=3.0.2 in /Users/smcaleese/Documents/masters-thesis-code/.venv/lib/python3.12/site-packages (from spacy>=3.0.6->polyjuice_nlp==0.1.5) (3.0.9)\n",
      "Requirement already satisfied: thinc<8.3.0,>=8.2.2 in /Users/smcaleese/Documents/masters-thesis-code/.venv/lib/python3.12/site-packages (from spacy>=3.0.6->polyjuice_nlp==0.1.5) (8.2.5)\n",
      "Requirement already satisfied: wasabi<1.2.0,>=0.9.1 in /Users/smcaleese/Documents/masters-thesis-code/.venv/lib/python3.12/site-packages (from spacy>=3.0.6->polyjuice_nlp==0.1.5) (1.1.3)\n",
      "Requirement already satisfied: srsly<3.0.0,>=2.4.3 in /Users/smcaleese/Documents/masters-thesis-code/.venv/lib/python3.12/site-packages (from spacy>=3.0.6->polyjuice_nlp==0.1.5) (2.4.8)\n",
      "Requirement already satisfied: catalogue<2.1.0,>=2.0.6 in /Users/smcaleese/Documents/masters-thesis-code/.venv/lib/python3.12/site-packages (from spacy>=3.0.6->polyjuice_nlp==0.1.5) (2.0.10)\n",
      "Requirement already satisfied: weasel<0.5.0,>=0.1.0 in /Users/smcaleese/Documents/masters-thesis-code/.venv/lib/python3.12/site-packages (from spacy>=3.0.6->polyjuice_nlp==0.1.5) (0.4.1)\n",
      "Requirement already satisfied: typer<1.0.0,>=0.3.0 in /Users/smcaleese/Documents/masters-thesis-code/.venv/lib/python3.12/site-packages (from spacy>=3.0.6->polyjuice_nlp==0.1.5) (0.12.3)\n",
      "Requirement already satisfied: pydantic!=1.8,!=1.8.1,<3.0.0,>=1.7.4 in /Users/smcaleese/Documents/masters-thesis-code/.venv/lib/python3.12/site-packages (from spacy>=3.0.6->polyjuice_nlp==0.1.5) (2.7.4)\n",
      "Requirement already satisfied: jinja2 in /Users/smcaleese/Documents/masters-thesis-code/.venv/lib/python3.12/site-packages (from spacy>=3.0.6->polyjuice_nlp==0.1.5) (3.1.4)\n",
      "Requirement already satisfied: setuptools in /Users/smcaleese/Documents/masters-thesis-code/.venv/lib/python3.12/site-packages (from spacy>=3.0.6->polyjuice_nlp==0.1.5) (70.1.1)\n",
      "Requirement already satisfied: packaging>=20.0 in /Users/smcaleese/Documents/masters-thesis-code/.venv/lib/python3.12/site-packages (from spacy>=3.0.6->polyjuice_nlp==0.1.5) (24.1)\n",
      "Requirement already satisfied: langcodes<4.0.0,>=3.2.0 in /Users/smcaleese/Documents/masters-thesis-code/.venv/lib/python3.12/site-packages (from spacy>=3.0.6->polyjuice_nlp==0.1.5) (3.4.0)\n",
      "Requirement already satisfied: filelock in /Users/smcaleese/Documents/masters-thesis-code/.venv/lib/python3.12/site-packages (from transformers>=4.5.1->polyjuice_nlp==0.1.5) (3.15.4)\n",
      "Requirement already satisfied: pyyaml>=5.1 in /Users/smcaleese/Documents/masters-thesis-code/.venv/lib/python3.12/site-packages (from transformers>=4.5.1->polyjuice_nlp==0.1.5) (6.0.1)\n",
      "Requirement already satisfied: regex!=2019.12.17 in /Users/smcaleese/Documents/masters-thesis-code/.venv/lib/python3.12/site-packages (from transformers>=4.5.1->polyjuice_nlp==0.1.5) (2024.5.15)\n",
      "Requirement already satisfied: tokenizers<0.20,>=0.19 in /Users/smcaleese/Documents/masters-thesis-code/.venv/lib/python3.12/site-packages (from transformers>=4.5.1->polyjuice_nlp==0.1.5) (0.19.1)\n",
      "Requirement already satisfied: safetensors>=0.4.1 in /Users/smcaleese/Documents/masters-thesis-code/.venv/lib/python3.12/site-packages (from transformers>=4.5.1->polyjuice_nlp==0.1.5) (0.4.3)\n",
      "Requirement already satisfied: click in /Users/smcaleese/Documents/masters-thesis-code/.venv/lib/python3.12/site-packages (from nltk->polyjuice_nlp==0.1.5) (8.1.7)\n",
      "Requirement already satisfied: joblib in /Users/smcaleese/Documents/masters-thesis-code/.venv/lib/python3.12/site-packages (from nltk->polyjuice_nlp==0.1.5) (1.4.2)\n",
      "Requirement already satisfied: six in /Users/smcaleese/Documents/masters-thesis-code/.venv/lib/python3.12/site-packages (from zss->polyjuice_nlp==0.1.5) (1.16.0)\n",
      "Requirement already satisfied: fsspec>=2023.5.0 in /Users/smcaleese/Documents/masters-thesis-code/.venv/lib/python3.12/site-packages (from huggingface-hub>=0.15.1->sentence-transformers>=1.1.0->polyjuice_nlp==0.1.5) (2024.6.0)\n",
      "Requirement already satisfied: typing-extensions>=3.7.4.3 in /Users/smcaleese/Documents/masters-thesis-code/.venv/lib/python3.12/site-packages (from huggingface-hub>=0.15.1->sentence-transformers>=1.1.0->polyjuice_nlp==0.1.5) (4.12.2)\n",
      "Requirement already satisfied: language-data>=1.2 in /Users/smcaleese/Documents/masters-thesis-code/.venv/lib/python3.12/site-packages (from langcodes<4.0.0,>=3.2.0->spacy>=3.0.6->polyjuice_nlp==0.1.5) (1.2.0)\n",
      "Requirement already satisfied: annotated-types>=0.4.0 in /Users/smcaleese/Documents/masters-thesis-code/.venv/lib/python3.12/site-packages (from pydantic!=1.8,!=1.8.1,<3.0.0,>=1.7.4->spacy>=3.0.6->polyjuice_nlp==0.1.5) (0.7.0)\n",
      "Requirement already satisfied: pydantic-core==2.18.4 in /Users/smcaleese/Documents/masters-thesis-code/.venv/lib/python3.12/site-packages (from pydantic!=1.8,!=1.8.1,<3.0.0,>=1.7.4->spacy>=3.0.6->polyjuice_nlp==0.1.5) (2.18.4)\n",
      "Requirement already satisfied: charset-normalizer<4,>=2 in /Users/smcaleese/Documents/masters-thesis-code/.venv/lib/python3.12/site-packages (from requests->pattern>=3.6.0->polyjuice_nlp==0.1.5) (3.3.2)\n",
      "Requirement already satisfied: idna<4,>=2.5 in /Users/smcaleese/Documents/masters-thesis-code/.venv/lib/python3.12/site-packages (from requests->pattern>=3.6.0->polyjuice_nlp==0.1.5) (3.7)\n",
      "Requirement already satisfied: urllib3<3,>=1.21.1 in /Users/smcaleese/Documents/masters-thesis-code/.venv/lib/python3.12/site-packages (from requests->pattern>=3.6.0->polyjuice_nlp==0.1.5) (2.2.2)\n",
      "Requirement already satisfied: certifi>=2017.4.17 in /Users/smcaleese/Documents/masters-thesis-code/.venv/lib/python3.12/site-packages (from requests->pattern>=3.6.0->polyjuice_nlp==0.1.5) (2024.6.2)\n",
      "Requirement already satisfied: blis<0.8.0,>=0.7.8 in /Users/smcaleese/Documents/masters-thesis-code/.venv/lib/python3.12/site-packages (from thinc<8.3.0,>=8.2.2->spacy>=3.0.6->polyjuice_nlp==0.1.5) (0.7.11)\n",
      "Requirement already satisfied: confection<1.0.0,>=0.0.1 in /Users/smcaleese/Documents/masters-thesis-code/.venv/lib/python3.12/site-packages (from thinc<8.3.0,>=8.2.2->spacy>=3.0.6->polyjuice_nlp==0.1.5) (0.1.5)\n",
      "Requirement already satisfied: sympy in /Users/smcaleese/Documents/masters-thesis-code/.venv/lib/python3.12/site-packages (from torch>=1.11.0->sentence-transformers>=1.1.0->polyjuice_nlp==0.1.5) (1.12.1)\n",
      "Requirement already satisfied: networkx in /Users/smcaleese/Documents/masters-thesis-code/.venv/lib/python3.12/site-packages (from torch>=1.11.0->sentence-transformers>=1.1.0->polyjuice_nlp==0.1.5) (3.3)\n",
      "Requirement already satisfied: shellingham>=1.3.0 in /Users/smcaleese/Documents/masters-thesis-code/.venv/lib/python3.12/site-packages (from typer<1.0.0,>=0.3.0->spacy>=3.0.6->polyjuice_nlp==0.1.5) (1.5.4)\n",
      "Requirement already satisfied: rich>=10.11.0 in /Users/smcaleese/Documents/masters-thesis-code/.venv/lib/python3.12/site-packages (from typer<1.0.0,>=0.3.0->spacy>=3.0.6->polyjuice_nlp==0.1.5) (13.7.1)\n",
      "Requirement already satisfied: cloudpathlib<1.0.0,>=0.7.0 in /Users/smcaleese/Documents/masters-thesis-code/.venv/lib/python3.12/site-packages (from weasel<0.5.0,>=0.1.0->spacy>=3.0.6->polyjuice_nlp==0.1.5) (0.18.1)\n",
      "Requirement already satisfied: smart-open<8.0.0,>=5.2.1 in /Users/smcaleese/Documents/masters-thesis-code/.venv/lib/python3.12/site-packages (from weasel<0.5.0,>=0.1.0->spacy>=3.0.6->polyjuice_nlp==0.1.5) (7.0.4)\n",
      "Requirement already satisfied: soupsieve>1.2 in /Users/smcaleese/Documents/masters-thesis-code/.venv/lib/python3.12/site-packages (from beautifulsoup4->pattern>=3.6.0->polyjuice_nlp==0.1.5) (2.5)\n",
      "Requirement already satisfied: cheroot>=8.2.1 in /Users/smcaleese/Documents/masters-thesis-code/.venv/lib/python3.12/site-packages (from cherrypy->pattern>=3.6.0->polyjuice_nlp==0.1.5) (10.0.1)\n",
      "Requirement already satisfied: portend>=2.1.1 in /Users/smcaleese/Documents/masters-thesis-code/.venv/lib/python3.12/site-packages (from cherrypy->pattern>=3.6.0->polyjuice_nlp==0.1.5) (3.2.0)\n",
      "Requirement already satisfied: more-itertools in /Users/smcaleese/Documents/masters-thesis-code/.venv/lib/python3.12/site-packages (from cherrypy->pattern>=3.6.0->polyjuice_nlp==0.1.5) (10.3.0)\n",
      "Requirement already satisfied: zc.lockfile in /Users/smcaleese/Documents/masters-thesis-code/.venv/lib/python3.12/site-packages (from cherrypy->pattern>=3.6.0->polyjuice_nlp==0.1.5) (3.0.post1)\n",
      "Requirement already satisfied: jaraco.collections in /Users/smcaleese/Documents/masters-thesis-code/.venv/lib/python3.12/site-packages (from cherrypy->pattern>=3.6.0->polyjuice_nlp==0.1.5) (5.0.1)\n",
      "Requirement already satisfied: sgmllib3k in /Users/smcaleese/Documents/masters-thesis-code/.venv/lib/python3.12/site-packages (from feedparser->pattern>=3.6.0->polyjuice_nlp==0.1.5) (1.0.0)\n",
      "Requirement already satisfied: MarkupSafe>=2.0 in /Users/smcaleese/Documents/masters-thesis-code/.venv/lib/python3.12/site-packages (from jinja2->spacy>=3.0.6->polyjuice_nlp==0.1.5) (2.1.5)\n",
      "Requirement already satisfied: cryptography>=36.0.0 in /Users/smcaleese/Documents/masters-thesis-code/.venv/lib/python3.12/site-packages (from pdfminer.six->pattern>=3.6.0->polyjuice_nlp==0.1.5) (42.0.8)\n",
      "Requirement already satisfied: threadpoolctl>=3.1.0 in /Users/smcaleese/Documents/masters-thesis-code/.venv/lib/python3.12/site-packages (from scikit-learn->sentence-transformers>=1.1.0->polyjuice_nlp==0.1.5) (3.5.0)\n",
      "Requirement already satisfied: jaraco.functools in /Users/smcaleese/Documents/masters-thesis-code/.venv/lib/python3.12/site-packages (from cheroot>=8.2.1->cherrypy->pattern>=3.6.0->polyjuice_nlp==0.1.5) (4.0.1)\n",
      "Requirement already satisfied: cffi>=1.12 in /Users/smcaleese/Documents/masters-thesis-code/.venv/lib/python3.12/site-packages (from cryptography>=36.0.0->pdfminer.six->pattern>=3.6.0->polyjuice_nlp==0.1.5) (1.16.0)\n",
      "Requirement already satisfied: marisa-trie>=0.7.7 in /Users/smcaleese/Documents/masters-thesis-code/.venv/lib/python3.12/site-packages (from language-data>=1.2->langcodes<4.0.0,>=3.2.0->spacy>=3.0.6->polyjuice_nlp==0.1.5) (1.2.0)\n",
      "Requirement already satisfied: tempora>=1.8 in /Users/smcaleese/Documents/masters-thesis-code/.venv/lib/python3.12/site-packages (from portend>=2.1.1->cherrypy->pattern>=3.6.0->polyjuice_nlp==0.1.5) (5.6.0)\n",
      "Requirement already satisfied: markdown-it-py>=2.2.0 in /Users/smcaleese/Documents/masters-thesis-code/.venv/lib/python3.12/site-packages (from rich>=10.11.0->typer<1.0.0,>=0.3.0->spacy>=3.0.6->polyjuice_nlp==0.1.5) (3.0.0)\n",
      "Requirement already satisfied: pygments<3.0.0,>=2.13.0 in /Users/smcaleese/Documents/masters-thesis-code/.venv/lib/python3.12/site-packages (from rich>=10.11.0->typer<1.0.0,>=0.3.0->spacy>=3.0.6->polyjuice_nlp==0.1.5) (2.18.0)\n",
      "Requirement already satisfied: wrapt in /Users/smcaleese/Documents/masters-thesis-code/.venv/lib/python3.12/site-packages (from smart-open<8.0.0,>=5.2.1->weasel<0.5.0,>=0.1.0->spacy>=3.0.6->polyjuice_nlp==0.1.5) (1.16.0)\n",
      "Requirement already satisfied: jaraco.text in /Users/smcaleese/Documents/masters-thesis-code/.venv/lib/python3.12/site-packages (from jaraco.collections->cherrypy->pattern>=3.6.0->polyjuice_nlp==0.1.5) (3.12.1)\n",
      "Requirement already satisfied: mpmath<1.4.0,>=1.1.0 in /Users/smcaleese/Documents/masters-thesis-code/.venv/lib/python3.12/site-packages (from sympy->torch>=1.11.0->sentence-transformers>=1.1.0->polyjuice_nlp==0.1.5) (1.3.0)\n",
      "Requirement already satisfied: pycparser in /Users/smcaleese/Documents/masters-thesis-code/.venv/lib/python3.12/site-packages (from cffi>=1.12->cryptography>=36.0.0->pdfminer.six->pattern>=3.6.0->polyjuice_nlp==0.1.5) (2.22)\n",
      "Requirement already satisfied: mdurl~=0.1 in /Users/smcaleese/Documents/masters-thesis-code/.venv/lib/python3.12/site-packages (from markdown-it-py>=2.2.0->rich>=10.11.0->typer<1.0.0,>=0.3.0->spacy>=3.0.6->polyjuice_nlp==0.1.5) (0.1.2)\n",
      "Requirement already satisfied: jaraco.context>=4.1 in /Users/smcaleese/Documents/masters-thesis-code/.venv/lib/python3.12/site-packages (from jaraco.text->jaraco.collections->cherrypy->pattern>=3.6.0->polyjuice_nlp==0.1.5) (5.3.0)\n",
      "Requirement already satisfied: autocommand in /Users/smcaleese/Documents/masters-thesis-code/.venv/lib/python3.12/site-packages (from jaraco.text->jaraco.collections->cherrypy->pattern>=3.6.0->polyjuice_nlp==0.1.5) (2.2.2)\n",
      "Requirement already satisfied: inflect in /Users/smcaleese/Documents/masters-thesis-code/.venv/lib/python3.12/site-packages (from jaraco.text->jaraco.collections->cherrypy->pattern>=3.6.0->polyjuice_nlp==0.1.5) (7.3.0)\n",
      "Requirement already satisfied: typeguard>=4.0.1 in /Users/smcaleese/Documents/masters-thesis-code/.venv/lib/python3.12/site-packages (from inflect->jaraco.text->jaraco.collections->cherrypy->pattern>=3.6.0->polyjuice_nlp==0.1.5) (4.3.0)\n",
      "Building wheels for collected packages: polyjuice_nlp\n",
      "  Building editable for polyjuice_nlp (pyproject.toml) ... \u001b[?25ldone\n",
      "\u001b[?25h  Created wheel for polyjuice_nlp: filename=polyjuice_nlp-0.1.5-0.editable-py3-none-any.whl size=5964 sha256=a0fb4cd0cf088898c1a82113968350c6e875839df99f584e86de27b83ee05993\n",
      "  Stored in directory: /private/var/folders/t6/_lt6g5116z9f5127kxxf3qgc0000gn/T/pip-ephem-wheel-cache-ai1zlcuo/wheels/25/ab/5a/2c39cb2ced826c744df003583a7e2691ec72e79dc71b9ba517\n",
      "Successfully built polyjuice_nlp\n",
      "Installing collected packages: polyjuice_nlp\n",
      "Successfully installed polyjuice_nlp-0.1.5\n",
      "Note: you may need to restart the kernel to use updated packages.\n"
     ]
    }
   ],
   "source": [
    "%pip install -e ."
   ]
  },
  {
   "cell_type": "code",
   "execution_count": 2,
   "id": "05b1fe26",
   "metadata": {},
   "outputs": [
    {
     "name": "stdout",
     "output_type": "stream",
     "text": [
      "Collecting en-core-web-sm==3.7.1\n",
      "  Downloading https://github.com/explosion/spacy-models/releases/download/en_core_web_sm-3.7.1/en_core_web_sm-3.7.1-py3-none-any.whl (12.8 MB)\n",
      "\u001b[2K     \u001b[90m━━━━━━━━━━━━━━━━━━━━━━━━━━━━━━━━━━━━━━━━\u001b[0m \u001b[32m12.8/12.8 MB\u001b[0m \u001b[31m10.5 MB/s\u001b[0m eta \u001b[36m0:00:00\u001b[0m00:01\u001b[0m0:01\u001b[0m\n",
      "\u001b[?25hRequirement already satisfied: spacy<3.8.0,>=3.7.2 in /Users/smcaleese/Documents/masters-thesis-code/.venv/lib/python3.12/site-packages (from en-core-web-sm==3.7.1) (3.7.5)\n",
      "Requirement already satisfied: spacy-legacy<3.1.0,>=3.0.11 in /Users/smcaleese/Documents/masters-thesis-code/.venv/lib/python3.12/site-packages (from spacy<3.8.0,>=3.7.2->en-core-web-sm==3.7.1) (3.0.12)\n",
      "Requirement already satisfied: spacy-loggers<2.0.0,>=1.0.0 in /Users/smcaleese/Documents/masters-thesis-code/.venv/lib/python3.12/site-packages (from spacy<3.8.0,>=3.7.2->en-core-web-sm==3.7.1) (1.0.5)\n",
      "Requirement already satisfied: murmurhash<1.1.0,>=0.28.0 in /Users/smcaleese/Documents/masters-thesis-code/.venv/lib/python3.12/site-packages (from spacy<3.8.0,>=3.7.2->en-core-web-sm==3.7.1) (1.0.10)\n",
      "Requirement already satisfied: cymem<2.1.0,>=2.0.2 in /Users/smcaleese/Documents/masters-thesis-code/.venv/lib/python3.12/site-packages (from spacy<3.8.0,>=3.7.2->en-core-web-sm==3.7.1) (2.0.8)\n",
      "Requirement already satisfied: preshed<3.1.0,>=3.0.2 in /Users/smcaleese/Documents/masters-thesis-code/.venv/lib/python3.12/site-packages (from spacy<3.8.0,>=3.7.2->en-core-web-sm==3.7.1) (3.0.9)\n",
      "Requirement already satisfied: thinc<8.3.0,>=8.2.2 in /Users/smcaleese/Documents/masters-thesis-code/.venv/lib/python3.12/site-packages (from spacy<3.8.0,>=3.7.2->en-core-web-sm==3.7.1) (8.2.5)\n",
      "Requirement already satisfied: wasabi<1.2.0,>=0.9.1 in /Users/smcaleese/Documents/masters-thesis-code/.venv/lib/python3.12/site-packages (from spacy<3.8.0,>=3.7.2->en-core-web-sm==3.7.1) (1.1.3)\n",
      "Requirement already satisfied: srsly<3.0.0,>=2.4.3 in /Users/smcaleese/Documents/masters-thesis-code/.venv/lib/python3.12/site-packages (from spacy<3.8.0,>=3.7.2->en-core-web-sm==3.7.1) (2.4.8)\n",
      "Requirement already satisfied: catalogue<2.1.0,>=2.0.6 in /Users/smcaleese/Documents/masters-thesis-code/.venv/lib/python3.12/site-packages (from spacy<3.8.0,>=3.7.2->en-core-web-sm==3.7.1) (2.0.10)\n",
      "Requirement already satisfied: weasel<0.5.0,>=0.1.0 in /Users/smcaleese/Documents/masters-thesis-code/.venv/lib/python3.12/site-packages (from spacy<3.8.0,>=3.7.2->en-core-web-sm==3.7.1) (0.4.1)\n",
      "Requirement already satisfied: typer<1.0.0,>=0.3.0 in /Users/smcaleese/Documents/masters-thesis-code/.venv/lib/python3.12/site-packages (from spacy<3.8.0,>=3.7.2->en-core-web-sm==3.7.1) (0.12.3)\n",
      "Requirement already satisfied: tqdm<5.0.0,>=4.38.0 in /Users/smcaleese/Documents/masters-thesis-code/.venv/lib/python3.12/site-packages (from spacy<3.8.0,>=3.7.2->en-core-web-sm==3.7.1) (4.66.4)\n",
      "Requirement already satisfied: requests<3.0.0,>=2.13.0 in /Users/smcaleese/Documents/masters-thesis-code/.venv/lib/python3.12/site-packages (from spacy<3.8.0,>=3.7.2->en-core-web-sm==3.7.1) (2.32.3)\n",
      "Requirement already satisfied: pydantic!=1.8,!=1.8.1,<3.0.0,>=1.7.4 in /Users/smcaleese/Documents/masters-thesis-code/.venv/lib/python3.12/site-packages (from spacy<3.8.0,>=3.7.2->en-core-web-sm==3.7.1) (2.7.4)\n",
      "Requirement already satisfied: jinja2 in /Users/smcaleese/Documents/masters-thesis-code/.venv/lib/python3.12/site-packages (from spacy<3.8.0,>=3.7.2->en-core-web-sm==3.7.1) (3.1.4)\n",
      "Requirement already satisfied: setuptools in /Users/smcaleese/Documents/masters-thesis-code/.venv/lib/python3.12/site-packages (from spacy<3.8.0,>=3.7.2->en-core-web-sm==3.7.1) (70.1.1)\n",
      "Requirement already satisfied: packaging>=20.0 in /Users/smcaleese/Documents/masters-thesis-code/.venv/lib/python3.12/site-packages (from spacy<3.8.0,>=3.7.2->en-core-web-sm==3.7.1) (24.1)\n",
      "Requirement already satisfied: langcodes<4.0.0,>=3.2.0 in /Users/smcaleese/Documents/masters-thesis-code/.venv/lib/python3.12/site-packages (from spacy<3.8.0,>=3.7.2->en-core-web-sm==3.7.1) (3.4.0)\n",
      "Requirement already satisfied: numpy>=1.19.0 in /Users/smcaleese/Documents/masters-thesis-code/.venv/lib/python3.12/site-packages (from spacy<3.8.0,>=3.7.2->en-core-web-sm==3.7.1) (1.26.4)\n",
      "Requirement already satisfied: language-data>=1.2 in /Users/smcaleese/Documents/masters-thesis-code/.venv/lib/python3.12/site-packages (from langcodes<4.0.0,>=3.2.0->spacy<3.8.0,>=3.7.2->en-core-web-sm==3.7.1) (1.2.0)\n",
      "Requirement already satisfied: annotated-types>=0.4.0 in /Users/smcaleese/Documents/masters-thesis-code/.venv/lib/python3.12/site-packages (from pydantic!=1.8,!=1.8.1,<3.0.0,>=1.7.4->spacy<3.8.0,>=3.7.2->en-core-web-sm==3.7.1) (0.7.0)\n",
      "Requirement already satisfied: pydantic-core==2.18.4 in /Users/smcaleese/Documents/masters-thesis-code/.venv/lib/python3.12/site-packages (from pydantic!=1.8,!=1.8.1,<3.0.0,>=1.7.4->spacy<3.8.0,>=3.7.2->en-core-web-sm==3.7.1) (2.18.4)\n",
      "Requirement already satisfied: typing-extensions>=4.6.1 in /Users/smcaleese/Documents/masters-thesis-code/.venv/lib/python3.12/site-packages (from pydantic!=1.8,!=1.8.1,<3.0.0,>=1.7.4->spacy<3.8.0,>=3.7.2->en-core-web-sm==3.7.1) (4.12.2)\n",
      "Requirement already satisfied: charset-normalizer<4,>=2 in /Users/smcaleese/Documents/masters-thesis-code/.venv/lib/python3.12/site-packages (from requests<3.0.0,>=2.13.0->spacy<3.8.0,>=3.7.2->en-core-web-sm==3.7.1) (3.3.2)\n",
      "Requirement already satisfied: idna<4,>=2.5 in /Users/smcaleese/Documents/masters-thesis-code/.venv/lib/python3.12/site-packages (from requests<3.0.0,>=2.13.0->spacy<3.8.0,>=3.7.2->en-core-web-sm==3.7.1) (3.7)\n",
      "Requirement already satisfied: urllib3<3,>=1.21.1 in /Users/smcaleese/Documents/masters-thesis-code/.venv/lib/python3.12/site-packages (from requests<3.0.0,>=2.13.0->spacy<3.8.0,>=3.7.2->en-core-web-sm==3.7.1) (2.2.2)\n",
      "Requirement already satisfied: certifi>=2017.4.17 in /Users/smcaleese/Documents/masters-thesis-code/.venv/lib/python3.12/site-packages (from requests<3.0.0,>=2.13.0->spacy<3.8.0,>=3.7.2->en-core-web-sm==3.7.1) (2024.6.2)\n",
      "Requirement already satisfied: blis<0.8.0,>=0.7.8 in /Users/smcaleese/Documents/masters-thesis-code/.venv/lib/python3.12/site-packages (from thinc<8.3.0,>=8.2.2->spacy<3.8.0,>=3.7.2->en-core-web-sm==3.7.1) (0.7.11)\n",
      "Requirement already satisfied: confection<1.0.0,>=0.0.1 in /Users/smcaleese/Documents/masters-thesis-code/.venv/lib/python3.12/site-packages (from thinc<8.3.0,>=8.2.2->spacy<3.8.0,>=3.7.2->en-core-web-sm==3.7.1) (0.1.5)\n",
      "Requirement already satisfied: click>=8.0.0 in /Users/smcaleese/Documents/masters-thesis-code/.venv/lib/python3.12/site-packages (from typer<1.0.0,>=0.3.0->spacy<3.8.0,>=3.7.2->en-core-web-sm==3.7.1) (8.1.7)\n",
      "Requirement already satisfied: shellingham>=1.3.0 in /Users/smcaleese/Documents/masters-thesis-code/.venv/lib/python3.12/site-packages (from typer<1.0.0,>=0.3.0->spacy<3.8.0,>=3.7.2->en-core-web-sm==3.7.1) (1.5.4)\n",
      "Requirement already satisfied: rich>=10.11.0 in /Users/smcaleese/Documents/masters-thesis-code/.venv/lib/python3.12/site-packages (from typer<1.0.0,>=0.3.0->spacy<3.8.0,>=3.7.2->en-core-web-sm==3.7.1) (13.7.1)\n",
      "Requirement already satisfied: cloudpathlib<1.0.0,>=0.7.0 in /Users/smcaleese/Documents/masters-thesis-code/.venv/lib/python3.12/site-packages (from weasel<0.5.0,>=0.1.0->spacy<3.8.0,>=3.7.2->en-core-web-sm==3.7.1) (0.18.1)\n",
      "Requirement already satisfied: smart-open<8.0.0,>=5.2.1 in /Users/smcaleese/Documents/masters-thesis-code/.venv/lib/python3.12/site-packages (from weasel<0.5.0,>=0.1.0->spacy<3.8.0,>=3.7.2->en-core-web-sm==3.7.1) (7.0.4)\n",
      "Requirement already satisfied: MarkupSafe>=2.0 in /Users/smcaleese/Documents/masters-thesis-code/.venv/lib/python3.12/site-packages (from jinja2->spacy<3.8.0,>=3.7.2->en-core-web-sm==3.7.1) (2.1.5)\n",
      "Requirement already satisfied: marisa-trie>=0.7.7 in /Users/smcaleese/Documents/masters-thesis-code/.venv/lib/python3.12/site-packages (from language-data>=1.2->langcodes<4.0.0,>=3.2.0->spacy<3.8.0,>=3.7.2->en-core-web-sm==3.7.1) (1.2.0)\n",
      "Requirement already satisfied: markdown-it-py>=2.2.0 in /Users/smcaleese/Documents/masters-thesis-code/.venv/lib/python3.12/site-packages (from rich>=10.11.0->typer<1.0.0,>=0.3.0->spacy<3.8.0,>=3.7.2->en-core-web-sm==3.7.1) (3.0.0)\n",
      "Requirement already satisfied: pygments<3.0.0,>=2.13.0 in /Users/smcaleese/Documents/masters-thesis-code/.venv/lib/python3.12/site-packages (from rich>=10.11.0->typer<1.0.0,>=0.3.0->spacy<3.8.0,>=3.7.2->en-core-web-sm==3.7.1) (2.18.0)\n",
      "Requirement already satisfied: wrapt in /Users/smcaleese/Documents/masters-thesis-code/.venv/lib/python3.12/site-packages (from smart-open<8.0.0,>=5.2.1->weasel<0.5.0,>=0.1.0->spacy<3.8.0,>=3.7.2->en-core-web-sm==3.7.1) (1.16.0)\n",
      "Requirement already satisfied: mdurl~=0.1 in /Users/smcaleese/Documents/masters-thesis-code/.venv/lib/python3.12/site-packages (from markdown-it-py>=2.2.0->rich>=10.11.0->typer<1.0.0,>=0.3.0->spacy<3.8.0,>=3.7.2->en-core-web-sm==3.7.1) (0.1.2)\n",
      "Installing collected packages: en-core-web-sm\n",
      "Successfully installed en-core-web-sm-3.7.1\n",
      "\u001b[38;5;2m✔ Download and installation successful\u001b[0m\n",
      "You can now load the package via spacy.load('en_core_web_sm')\n"
     ]
    }
   ],
   "source": [
    "!python -m spacy download en_core_web_sm"
   ]
  },
  {
   "cell_type": "code",
   "execution_count": 3,
   "id": "fa8e72ac",
   "metadata": {},
   "outputs": [
    {
     "name": "stderr",
     "output_type": "stream",
     "text": [
      "Truncation was not explicitly activated but `max_length` is provided a specific value, please use `truncation=True` to explicitly truncate examples to max length. Defaulting to 'longest_first' truncation strategy. If you encode pairs of sequences (GLUE-style) with the tokenizer you can select this strategy more precisely by providing a specific strategy to `truncation`.\n",
      "Setting `pad_token_id` to `eos_token_id`:50256 for open-end generation.\n"
     ]
    },
    {
     "name": "stdout",
     "output_type": "stream",
     "text": [
      "Generated Text 1: Once upon a time, I had been reading an article about \"How to Be a Good Customer\" and \"The Most Important Customer\" by Mark Twain. I thought it was a very good book, and I was so excited to read it.\n",
      "\n",
      "Generated Text 2: Once upon a time, I was very much afraid that my husband and I would have to go to work together. I was worried that if he did not have the money he would be forced to go to work for us. I was also worried that\n",
      "Generated Text 3: Once upon a time, the planet was the center of galactic life. But the ancient inhabitants of the Milky Way had been wiped out by a mysterious force that had been unleashed upon the galaxy by a mysterious force known as the Vast Reaper. The V\n"
     ]
    }
   ],
   "source": [
    "from transformers import pipeline\n",
    "\n",
    "# Initialize the text generation pipeline\n",
    "generator = pipeline('text-generation', model='gpt2')\n",
    "\n",
    "# Define the prompt\n",
    "prompt = \"Once upon a time\"\n",
    "\n",
    "# Generate text\n",
    "generated_texts = generator(prompt, max_length=50, num_return_sequences=3, temperature=0.7, top_k=50, top_p=0.9)\n",
    "\n",
    "# Print the generated texts\n",
    "for i, generated_text in enumerate(generated_texts):\n",
    "    print(f\"Generated Text {i + 1}: {generated_text['generated_text']}\")\n"
   ]
  },
  {
   "cell_type": "code",
   "execution_count": 5,
   "id": "3a479f7f",
   "metadata": {},
   "outputs": [
    {
     "name": "stderr",
     "output_type": "stream",
     "text": [
      "Setting `pad_token_id` to `eos_token_id`:50256 for open-end generation.\n"
     ]
    },
    {
     "data": {
      "text/plain": [
       "[{'generated_text': 'A dog is embraced by the woman. <|perturb|> [negation] A dog is [BLANK] the woman. [SEP] not being cradled by [ANSWER] '},\n",
       " {'generated_text': 'A dog is embraced by the woman. <|perturb|> [negation] A dog is [BLANK] the woman. [SEP] not [ANSWER] '},\n",
       " {'generated_text': 'A dog is embraced by the woman. <|perturb|> [negation] A dog is [BLANK] the woman. [SEP] not being cradled by a person [ANSWER] '}]"
      ]
     },
     "execution_count": 5,
     "metadata": {},
     "output_type": "execute_result"
    }
   ],
   "source": [
    "from transformers import AutoTokenizer, AutoModelWithLMHead\n",
    "from transformers import pipeline, AutoTokenizer, AutoModelForCausalLM\n",
    "\n",
    "model_path = \"uw-hai/polyjuice\"\n",
    "generator = pipeline(\"text-generation\", \n",
    "    model=AutoModelForCausalLM.from_pretrained(model_path), \n",
    "    tokenizer=AutoTokenizer.from_pretrained(model_path),\n",
    "    framework=\"pt\")\n",
    "\n",
    "prompt_text = \"A dog is embraced by the woman. <|perturb|> [negation] A dog is [BLANK] the woman.\"\n",
    "generator(prompt_text, num_beams=3, num_return_sequences=3)\n"
   ]
  },
  {
   "cell_type": "code",
   "execution_count": 1,
   "id": "5a8e1fd2",
   "metadata": {},
   "outputs": [
    {
     "name": "stderr",
     "output_type": "stream",
     "text": [
      "/Users/smcaleese/Documents/masters-thesis-code/.venv/lib/python3.12/site-packages/tqdm/auto.py:21: TqdmWarning: IProgress not found. Please update jupyter and ipywidgets. See https://ipywidgets.readthedocs.io/en/stable/user_install.html\n",
      "  from .autonotebook import tqdm as notebook_tqdm\n"
     ]
    }
   ],
   "source": [
    "# initiate a wrapper.\n",
    "# model path is defaulted to our portable model:\n",
    "# https://huggingface.co/uw-hai/polyjuice\n",
    "# No need to change this unless you are using customized model\n",
    "from polyjuice import Polyjuice\n",
    "pj = Polyjuice(model_path=\"uw-hai/polyjuice\", is_cuda=True)"
   ]
  },
  {
   "cell_type": "code",
   "execution_count": 2,
   "id": "4c007e5b",
   "metadata": {},
   "outputs": [
    {
     "name": "stderr",
     "output_type": "stream",
     "text": [
      "INFO:polyjuice.polyjuice_wrapper:Setup Polyjuice.\n",
      "INFO:polyjuice.polyjuice_wrapper:Setup SpaCy processor.\n",
      "Truncation was not explicitly activated but `max_length` is provided a specific value, please use `truncation=True` to explicitly truncate examples to max length. Defaulting to 'longest_first' truncation strategy. If you encode pairs of sequences (GLUE-style) with the tokenizer you can select this strategy more precisely by providing a specific strategy to `truncation`.\n",
      "/Users/smcaleese/Documents/masters-thesis-code/.venv/lib/python3.12/site-packages/transformers/generation/configuration_utils.py:554: UserWarning: `num_beams` is set to None - defaulting to 1.\n",
      "  warnings.warn(\"`num_beams` is set to None - defaulting to 1.\", UserWarning)\n",
      "Setting `pad_token_id` to `eos_token_id`:50256 for open-end generation.\n",
      "Setting `pad_token_id` to `eos_token_id`:50256 for open-end generation.\n",
      "Setting `pad_token_id` to `eos_token_id`:50256 for open-end generation.\n",
      "Setting `pad_token_id` to `eos_token_id`:50256 for open-end generation.\n",
      "Setting `pad_token_id` to `eos_token_id`:50256 for open-end generation.\n",
      "Setting `pad_token_id` to `eos_token_id`:50256 for open-end generation.\n",
      "Setting `pad_token_id` to `eos_token_id`:50256 for open-end generation.\n",
      "Setting `pad_token_id` to `eos_token_id`:50256 for open-end generation.\n",
      "Setting `pad_token_id` to `eos_token_id`:50256 for open-end generation.\n",
      "Setting `pad_token_id` to `eos_token_id`:50256 for open-end generation.\n",
      "Setting `pad_token_id` to `eos_token_id`:50256 for open-end generation.\n",
      "Setting `pad_token_id` to `eos_token_id`:50256 for open-end generation.\n",
      "Setting `pad_token_id` to `eos_token_id`:50256 for open-end generation.\n",
      "Setting `pad_token_id` to `eos_token_id`:50256 for open-end generation.\n",
      "Setting `pad_token_id` to `eos_token_id`:50256 for open-end generation.\n",
      "INFO:polyjuice.polyjuice_wrapper:Setup perplexity scorer.\n"
     ]
    },
    {
     "data": {
      "text/plain": [
       "['It is great for any kids.', 'It is bad for kids.', 'Not is great for kids.']"
      ]
     },
     "execution_count": 2,
     "metadata": {},
     "output_type": "execute_result"
    }
   ],
   "source": [
    "# the base sentence\n",
    "text = \"It is great for kids.\"\n",
    "\n",
    "# perturb the sentence with one line:\n",
    "# When running it for the first time, the wrapper will automatically\n",
    "# load related models, e.g. the generator and the perplexity filter.\n",
    "perturbations = pj.perturb(text)\n",
    "perturbations"
   ]
  },
  {
   "cell_type": "code",
   "execution_count": 7,
   "id": "d0e3e5b0",
   "metadata": {},
   "outputs": [
    {
     "name": "stderr",
     "output_type": "stream",
     "text": [
      "Setting `pad_token_id` to `eos_token_id`:50256 for open-end generation.\n"
     ]
    },
    {
     "name": "stderr",
     "output_type": "stream",
     "text": [
      "Setting `pad_token_id` to `eos_token_id`:50256 for open-end generation.\n",
      "Setting `pad_token_id` to `eos_token_id`:50256 for open-end generation.\n"
     ]
    },
    {
     "data": {
      "text/plain": [
       "['Not is great for kids.', 'It is not for kids.', 'It is not great for kids.']"
      ]
     },
     "execution_count": 7,
     "metadata": {},
     "output_type": "execute_result"
    }
   ],
   "source": [
    "# To perturb with more controls,\n",
    "\n",
    "perturbations = pj.perturb(\n",
    "    orig_sent=text,\n",
    "    # can specify where to put the blank. Otherwise, it's automatically selected.\n",
    "    # Can be a list or a single sentence.\n",
    "    # blanked_sent=[\"It is [BLANK] for kids.\", \"It is great for [BLANK].\"],\n",
    "    # can also specify the ctrl code (a list or a single code.)\n",
    "    # The code should be from 'resemantic', 'restructure', 'negation', 'insert', 'lexical', 'shuffle', 'quantifier', 'delete'.\n",
    "    ctrl_code=\"negation\",\n",
    "    # Customzie perplexity score. \n",
    "    perplex_thred=20,\n",
    "    # number of perturbations to return\n",
    "    num_perturbations=3,\n",
    "    # the function also takes in additional arguments for huggingface generators.\n",
    "    num_beams=3\n",
    ")\n",
    "perturbations"
   ]
  },
  {
   "cell_type": "code",
   "execution_count": 8,
   "id": "8bac5621",
   "metadata": {},
   "outputs": [
    {
     "data": {
      "text/plain": [
       "'negation'"
      ]
     },
     "execution_count": 8,
     "metadata": {},
     "output_type": "execute_result"
    }
   ],
   "source": [
    "# detect the ctrl code from a given sentence pair\n",
    "pj.detect_ctrl_code(\"it's great for kids.\", 'It is great for kids but not for any adults.')"
   ]
  },
  {
   "cell_type": "markdown",
   "id": "81bcc528",
   "metadata": {},
   "source": [
    "# Select for diversity\n",
    "\n",
    "Having each perturbation be represented by its token changes, control code, and dependency tree strcuture, we greedily select the ones that are least similar to those already selected. This tries to avoid redundancy in common perturbations such as black -> white.\n"
   ]
  },
  {
   "cell_type": "code",
   "execution_count": 5,
   "id": "793f1239",
   "metadata": {
    "scrolled": true
   },
   "outputs": [
    {
     "name": "stderr",
     "output_type": "stream",
     "text": [
      "Setting `pad_token_id` to `eos_token_id`:50256 for open-end generation.\n",
      "Setting `pad_token_id` to `eos_token_id`:50256 for open-end generation.\n",
      "Setting `pad_token_id` to `eos_token_id`:50256 for open-end generation.\n",
      "Setting `pad_token_id` to `eos_token_id`:50256 for open-end generation.\n",
      "Setting `pad_token_id` to `eos_token_id`:50256 for open-end generation.\n",
      "Setting `pad_token_id` to `eos_token_id`:50256 for open-end generation.\n",
      "Setting `pad_token_id` to `eos_token_id`:50256 for open-end generation.\n",
      "Setting `pad_token_id` to `eos_token_id`:50256 for open-end generation.\n",
      "Setting `pad_token_id` to `eos_token_id`:50256 for open-end generation.\n",
      "Setting `pad_token_id` to `eos_token_id`:50256 for open-end generation.\n",
      "Setting `pad_token_id` to `eos_token_id`:50256 for open-end generation.\n",
      "Setting `pad_token_id` to `eos_token_id`:50256 for open-end generation.\n",
      "Setting `pad_token_id` to `eos_token_id`:50256 for open-end generation.\n",
      "Setting `pad_token_id` to `eos_token_id`:50256 for open-end generation.\n",
      "Setting `pad_token_id` to `eos_token_id`:50256 for open-end generation.\n"
     ]
    },
    {
     "data": {
      "text/plain": [
       "[('It is great for kids.', 'It is good for kids too.'),\n",
       " ('It is great for kids.', 'It is not great for kids.'),\n",
       " ('It is great for kids.', 'It is not for kids.'),\n",
       " ('It is great for kids.', 'It is terrible for kids.'),\n",
       " ('It is great for kids.', 'It is great for kids but not for adults.'),\n",
       " ('It is great for kids.', 'is great for kids.'),\n",
       " ('It is great for kids.', 'It is not good for kids.'),\n",
       " ('It is great for kids.', 'It is bad for kids too.'),\n",
       " ('It is great for kids.', 'It is good for kids.'),\n",
       " ('It is great for kids.', 'It is for kids.'),\n",
       " ('It is great for kids.', 'It is great for adults.'),\n",
       " ('It is great for kids.', 'It is great for any audience.'),\n",
       " ('It is great for kids.', 'It is bad for kids.')]"
      ]
     },
     "execution_count": 5,
     "metadata": {},
     "output_type": "execute_result"
    }
   ],
   "source": [
    "# over-generate some examples\n",
    "\n",
    "orig_text = \"It is great for kids.\"\n",
    "perturb_texts = pj.perturb(\n",
    "    orig_sent=orig_text, perplex_thred=10, num_perturbations=None, num_beams=3)\n",
    "orig_and_perturb_pairs = [(orig_text, perturb_text) for perturb_text in perturb_texts]\n",
    "orig_and_perturb_pairs"
   ]
  },
  {
   "cell_type": "code",
   "execution_count": 6,
   "id": "85693442",
   "metadata": {},
   "outputs": [
    {
     "name": "stderr",
     "output_type": "stream",
     "text": [
      "/Users/smcaleese/Documents/masters-thesis-code/.venv/lib/python3.12/site-packages/numpy/core/fromnumeric.py:3504: RuntimeWarning: Mean of empty slice.\n",
      "  return _methods._mean(a, axis=axis, dtype=dtype,\n",
      "/Users/smcaleese/Documents/masters-thesis-code/.venv/lib/python3.12/site-packages/numpy/core/_methods.py:129: RuntimeWarning: invalid value encountered in scalar divide\n",
      "  ret = ret.dtype.type(ret / rcount)\n"
     ]
    },
    {
     "data": {
      "text/plain": [
       "[('It is great for kids.', 'It is good for kids too.'),\n",
       " ('It is great for kids.', 'It is not great for kids.'),\n",
       " ('It is great for kids.', 'is great for kids.')]"
      ]
     },
     "execution_count": 6,
     "metadata": {},
     "output_type": "execute_result"
    }
   ],
   "source": [
    "sampled = pj.select_diverse_perturbations(\n",
    "    orig_and_perturb_pairs=orig_and_perturb_pairs, nsamples=3)\n",
    "sampled"
   ]
  },
  {
   "cell_type": "markdown",
   "id": "ca02b554",
   "metadata": {},
   "source": [
    "# Select surprising perturbations as counterfactual explanations\n",
    "\n",
    "Because different models/explainers may have different forms of predictions/feature weight computation methods, Polyjuice selection expects all predictions and feature weights to be precomputed. Here, we give an example of Quora Question Pair Detection. \n"
   ]
  },
  {
   "cell_type": "code",
   "execution_count": null,
   "id": "64272c50",
   "metadata": {},
   "outputs": [],
   "source": [
    "# set a perturbation base\n",
    "orig = (\n",
    "    \"How can I help a friend experiencing serious depression?\",\n",
    "    \"How do I help a friend who is in depression?\"\n",
    ")\n",
    "orig_label = 1\n",
    "\n",
    "# we perturb the second question."
   ]
  },
  {
   "cell_type": "code",
   "execution_count": null,
   "id": "3ca52692",
   "metadata": {},
   "outputs": [],
   "source": [
    "# get a model\n",
    "from transformers import pipeline, AutoTokenizer, AutoModelForSequenceClassification\n",
    "import torch\n",
    "model_name = \"textattack/bert-base-uncased-QQP\"\n",
    "tokenizer = AutoTokenizer.from_pretrained(model_name)\n",
    "model = AutoModelForSequenceClassification.from_pretrained(model_name)\n",
    "# sentiment analysis is a general name in Huggingface to load the pipeline for text classification tasks.\n",
    "# set device=-1 if you don't have a gpu\n",
    "pipe = pipeline(\n",
    "    \"sentiment-analysis\", model=model, tokenizer=tokenizer, \n",
    "    framework=\"pt\", device=0 if is_cuda else -1, return_all_scores=True)"
   ]
  },
  {
   "cell_type": "code",
   "execution_count": null,
   "id": "172c43d3",
   "metadata": {},
   "outputs": [],
   "source": [
    "# some wrapper for prediction\n",
    "import numpy as np\n",
    "def extract_predict_label(raw_pred):\n",
    "    raw_pred = sorted(raw_pred, key=lambda r: -r[\"score\"])\n",
    "    if raw_pred:\n",
    "        return raw_pred[0][\"label\"]\n",
    "    return None\n",
    "def predict(examples, predictor, batch_size=128):\n",
    "    raw_preds, preds, distribution = [], [], []\n",
    "    with torch.no_grad():\n",
    "        for e in (range(0, len(examples), batch_size)):\n",
    "            raw_preds.extend(predictor(examples[e:e+batch_size]))\n",
    "    for raw_pred in raw_preds:\n",
    "        raw_pred = raw_pred if type(raw_pred) == list else [raw_pred]\n",
    "        for m in raw_pred:\n",
    "            m[\"label\"] = int(m[\"label\"].split(\"_\")[1])\n",
    "    return raw_preds\n",
    "\n",
    "p = predict([orig], predictor=pipe)[0]\n",
    "(p, extract_predict_label(p))"
   ]
  },
  {
   "cell_type": "code",
   "execution_count": null,
   "id": "893571aa",
   "metadata": {
    "scrolled": true
   },
   "outputs": [],
   "source": [
    "## collect some base perturbations\n",
    "from polyjuice.generations import ALL_CTRL_CODES\n",
    "\n",
    "# perturb the second question in orig.\n",
    "perturb_idx = 1\n",
    "perturb_texts = pj.perturb(\n",
    "    orig[perturb_idx], \n",
    "    ctrl_code=ALL_CTRL_CODES, \n",
    "    num_perturbations=None, perplex_thred=10)\n",
    "\n",
    "perturb_texts\n"
   ]
  },
  {
   "cell_type": "code",
   "execution_count": null,
   "id": "1ee1ab28",
   "metadata": {},
   "outputs": [],
   "source": [
    "# To estimate feature importance, we set up shap explainer\n",
    "# install shap\n",
    "!pip install shap"
   ]
  },
  {
   "cell_type": "code",
   "execution_count": null,
   "id": "f71b6d05",
   "metadata": {},
   "outputs": [],
   "source": [
    "import shap\n",
    "import functools\n",
    "from copy import deepcopy\n",
    "# setup a prediction function for computing the shap feature importance\n",
    "\n",
    "def wrap_perturbed_instances(perturb_texts, orig, perturb_idx=1):\n",
    "    perturbs = []\n",
    "    for a in perturb_texts:\n",
    "        curr_example = deepcopy(list(orig))\n",
    "        curr_example[perturb_idx] = a\n",
    "        perturbs.append(tuple(curr_example))\n",
    "    return perturbs\n",
    "\n",
    "def predict_on_perturbs(perturb_texts, orig, predictor, perturb_idx=1):\n",
    "    perturbs = wrap_perturbed_instances(perturb_texts, orig, perturb_idx)\n",
    "    perturbs_preds = predict(perturbs, predictor=predictor)\n",
    "    perturbs_pred_dicts = [{p[\"label\"]: p[\"score\"] for p in perturbs_pred} for perturbs_pred in perturbs_preds]\n",
    "    orig_preds = predict([orig], predictor=predictor)\n",
    "    orig_pred = extract_predict_label(orig_preds[0])\n",
    "    # the return is probability of the originally predicted label\n",
    "    return [pr_dict[orig_pred] for pr_dict in perturbs_pred_dicts]\n",
    "def normalize_shap_importance(features, importances, is_use_abs=True):\n",
    "    normalized_features = {}\n",
    "    for idx, (f, v) in enumerate(zip(features, importances)):\n",
    "        f = f.strip('Ġ')\n",
    "        if not f.startswith(\"##\"): \n",
    "            key, val = \"\", 0\n",
    "        key += f.replace(\"#\", \"\").strip()\n",
    "        val += v\n",
    "        if (idx == len(features)-1 or (not features[idx+1].startswith(\"##\"))) and key != \"\":\n",
    "            normalized_features[key] = abs(val) if is_use_abs else val\n",
    "    return normalized_features\n",
    "def explain_with_shap(orig, predictor=pipe, tokenzier=pipe.tokenizer, perturb_idx=1):\n",
    "    predict_for_shap_func = functools.partial(\n",
    "        predict_on_perturbs, orig=orig, predictor=predictor, perturb_idx=perturb_idx)\n",
    "    shap_explainer = shap.Explainer(predict_for_shap_func, tokenizer) \n",
    "    exp = shap_explainer([str(orig[perturb_idx])])\n",
    "    return normalize_shap_importance(exp.data[0], exp.values[0])\n",
    "\n",
    "feature_importance_dict = explain_with_shap(orig)\n",
    "feature_importance_dict"
   ]
  },
  {
   "cell_type": "code",
   "execution_count": null,
   "id": "569debb3",
   "metadata": {},
   "outputs": [],
   "source": [
    "# get the predictions for original and also new instances\n",
    "orig_pred = predict([orig], predictor=pipe)[0]\n",
    "\n",
    "perturb_instances = wrap_perturbed_instances(perturb_texts, orig, perturb_idx)\n",
    "perturb_preds = predict(perturb_instances, predictor=pipe)\n",
    "\n",
    "surprises = pj.select_surprise_explanations(\n",
    "    orig_text=orig[perturb_idx], \n",
    "    perturb_texts=perturb_texts, \n",
    "    orig_pred=orig_pred, \n",
    "    perturb_preds=perturb_preds, \n",
    "    feature_importance_dict=feature_importance_dict)\n",
    "surprises"
   ]
  },
  {
   "cell_type": "code",
   "execution_count": null,
   "id": "bc3215f1",
   "metadata": {},
   "outputs": [],
   "source": []
  }
 ],
 "metadata": {
  "kernelspec": {
   "display_name": "Python 3",
   "language": "python",
   "name": "python3"
  },
  "language_info": {
   "codemirror_mode": {
    "name": "ipython",
    "version": 3
   },
   "file_extension": ".py",
   "mimetype": "text/x-python",
   "name": "python",
   "nbconvert_exporter": "python",
   "pygments_lexer": "ipython3",
   "version": "3.12.3"
  }
 },
 "nbformat": 4,
 "nbformat_minor": 5
}
