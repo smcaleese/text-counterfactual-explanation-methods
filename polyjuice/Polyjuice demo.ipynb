{
 "cells": [
  {
   "cell_type": "code",
   "execution_count": 1,
   "id": "ddfb7eb9",
   "metadata": {},
   "outputs": [],
   "source": [
    "%load_ext autoreload\n",
    "%autoreload 2\n",
    "is_cuda = True"
   ]
  },
  {
   "cell_type": "markdown",
   "id": "1a64cd17",
   "metadata": {},
   "source": [
    "# General setup and perturbation"
   ]
  },
  {
   "cell_type": "code",
   "execution_count": 2,
   "id": "cb8a1819",
   "metadata": {},
   "outputs": [
    {
     "name": "stdout",
     "output_type": "stream",
     "text": [
      "Obtaining file:///Users/smcaleese/Documents/masters-thesis-code/polyjuice\n",
      "  Installing build dependencies ... \u001b[?25ldone\n",
      "\u001b[?25h  Checking if build backend supports build_editable ... \u001b[?25ldone\n",
      "\u001b[?25h  Getting requirements to build editable ... \u001b[?25ldone\n",
      "\u001b[?25h  Preparing editable metadata (pyproject.toml) ... \u001b[?25ldone\n",
      "\u001b[?25hRequirement already satisfied: munch>=2.5.0 in /Users/smcaleese/Documents/masters-thesis-code/.env/lib/python3.12/site-packages (from polyjuice_nlp==0.1.5) (4.0.0)\n",
      "Requirement already satisfied: scipy in /Users/smcaleese/Documents/masters-thesis-code/.env/lib/python3.12/site-packages (from polyjuice_nlp==0.1.5) (1.14.0)\n",
      "Requirement already satisfied: sentence-transformers>=1.1.0 in /Users/smcaleese/Documents/masters-thesis-code/.env/lib/python3.12/site-packages (from polyjuice_nlp==0.1.5) (3.0.1)\n",
      "Requirement already satisfied: transformers>=4.5.1 in /Users/smcaleese/Documents/masters-thesis-code/.env/lib/python3.12/site-packages (from polyjuice_nlp==0.1.5) (4.42.3)\n",
      "Requirement already satisfied: pattern>=3.6.0 in /Users/smcaleese/Documents/masters-thesis-code/.env/lib/python3.12/site-packages (from polyjuice_nlp==0.1.5) (3.6)\n",
      "Requirement already satisfied: nltk in /Users/smcaleese/Documents/masters-thesis-code/.env/lib/python3.12/site-packages (from polyjuice_nlp==0.1.5) (3.8.1)\n",
      "Requirement already satisfied: zss in /Users/smcaleese/Documents/masters-thesis-code/.env/lib/python3.12/site-packages (from polyjuice_nlp==0.1.5) (1.2.0)\n",
      "Requirement already satisfied: spacy>=3.0.6 in /Users/smcaleese/Documents/masters-thesis-code/.env/lib/python3.12/site-packages (from polyjuice_nlp==0.1.5) (3.7.5)\n",
      "Requirement already satisfied: future in /Users/smcaleese/Documents/masters-thesis-code/.env/lib/python3.12/site-packages (from pattern>=3.6.0->polyjuice_nlp==0.1.5) (1.0.0)\n",
      "Requirement already satisfied: backports.csv in /Users/smcaleese/Documents/masters-thesis-code/.env/lib/python3.12/site-packages (from pattern>=3.6.0->polyjuice_nlp==0.1.5) (1.0.7)\n",
      "Requirement already satisfied: mysqlclient in /Users/smcaleese/Documents/masters-thesis-code/.env/lib/python3.12/site-packages (from pattern>=3.6.0->polyjuice_nlp==0.1.5) (2.2.4)\n",
      "Requirement already satisfied: beautifulsoup4 in /Users/smcaleese/Documents/masters-thesis-code/.env/lib/python3.12/site-packages (from pattern>=3.6.0->polyjuice_nlp==0.1.5) (4.12.3)\n",
      "Requirement already satisfied: lxml in /Users/smcaleese/Documents/masters-thesis-code/.env/lib/python3.12/site-packages (from pattern>=3.6.0->polyjuice_nlp==0.1.5) (5.2.2)\n",
      "Requirement already satisfied: feedparser in /Users/smcaleese/Documents/masters-thesis-code/.env/lib/python3.12/site-packages (from pattern>=3.6.0->polyjuice_nlp==0.1.5) (6.0.11)\n",
      "Requirement already satisfied: pdfminer.six in /Users/smcaleese/Documents/masters-thesis-code/.env/lib/python3.12/site-packages (from pattern>=3.6.0->polyjuice_nlp==0.1.5) (20240706)\n",
      "Requirement already satisfied: numpy in /Users/smcaleese/Documents/masters-thesis-code/.env/lib/python3.12/site-packages (from pattern>=3.6.0->polyjuice_nlp==0.1.5) (1.26.4)\n",
      "Requirement already satisfied: python-docx in /Users/smcaleese/Documents/masters-thesis-code/.env/lib/python3.12/site-packages (from pattern>=3.6.0->polyjuice_nlp==0.1.5) (1.1.2)\n",
      "Requirement already satisfied: cherrypy in /Users/smcaleese/Documents/masters-thesis-code/.env/lib/python3.12/site-packages (from pattern>=3.6.0->polyjuice_nlp==0.1.5) (18.10.0)\n",
      "Requirement already satisfied: requests in /Users/smcaleese/Documents/masters-thesis-code/.env/lib/python3.12/site-packages (from pattern>=3.6.0->polyjuice_nlp==0.1.5) (2.32.3)\n",
      "Requirement already satisfied: tqdm in /Users/smcaleese/Documents/masters-thesis-code/.env/lib/python3.12/site-packages (from sentence-transformers>=1.1.0->polyjuice_nlp==0.1.5) (4.66.4)\n",
      "Requirement already satisfied: torch>=1.11.0 in /Users/smcaleese/Documents/masters-thesis-code/.env/lib/python3.12/site-packages (from sentence-transformers>=1.1.0->polyjuice_nlp==0.1.5) (2.3.1)\n",
      "Requirement already satisfied: scikit-learn in /Users/smcaleese/Documents/masters-thesis-code/.env/lib/python3.12/site-packages (from sentence-transformers>=1.1.0->polyjuice_nlp==0.1.5) (1.5.1)\n",
      "Requirement already satisfied: huggingface-hub>=0.15.1 in /Users/smcaleese/Documents/masters-thesis-code/.env/lib/python3.12/site-packages (from sentence-transformers>=1.1.0->polyjuice_nlp==0.1.5) (0.23.4)\n",
      "Requirement already satisfied: Pillow in /Users/smcaleese/Documents/masters-thesis-code/.env/lib/python3.12/site-packages (from sentence-transformers>=1.1.0->polyjuice_nlp==0.1.5) (10.4.0)\n",
      "Requirement already satisfied: spacy-legacy<3.1.0,>=3.0.11 in /Users/smcaleese/Documents/masters-thesis-code/.env/lib/python3.12/site-packages (from spacy>=3.0.6->polyjuice_nlp==0.1.5) (3.0.12)\n",
      "Requirement already satisfied: spacy-loggers<2.0.0,>=1.0.0 in /Users/smcaleese/Documents/masters-thesis-code/.env/lib/python3.12/site-packages (from spacy>=3.0.6->polyjuice_nlp==0.1.5) (1.0.5)\n",
      "Requirement already satisfied: murmurhash<1.1.0,>=0.28.0 in /Users/smcaleese/Documents/masters-thesis-code/.env/lib/python3.12/site-packages (from spacy>=3.0.6->polyjuice_nlp==0.1.5) (1.0.10)\n",
      "Requirement already satisfied: cymem<2.1.0,>=2.0.2 in /Users/smcaleese/Documents/masters-thesis-code/.env/lib/python3.12/site-packages (from spacy>=3.0.6->polyjuice_nlp==0.1.5) (2.0.8)\n",
      "Requirement already satisfied: preshed<3.1.0,>=3.0.2 in /Users/smcaleese/Documents/masters-thesis-code/.env/lib/python3.12/site-packages (from spacy>=3.0.6->polyjuice_nlp==0.1.5) (3.0.9)\n",
      "Requirement already satisfied: thinc<8.3.0,>=8.2.2 in /Users/smcaleese/Documents/masters-thesis-code/.env/lib/python3.12/site-packages (from spacy>=3.0.6->polyjuice_nlp==0.1.5) (8.2.5)\n",
      "Requirement already satisfied: wasabi<1.2.0,>=0.9.1 in /Users/smcaleese/Documents/masters-thesis-code/.env/lib/python3.12/site-packages (from spacy>=3.0.6->polyjuice_nlp==0.1.5) (1.1.3)\n",
      "Requirement already satisfied: srsly<3.0.0,>=2.4.3 in /Users/smcaleese/Documents/masters-thesis-code/.env/lib/python3.12/site-packages (from spacy>=3.0.6->polyjuice_nlp==0.1.5) (2.4.8)\n",
      "Requirement already satisfied: catalogue<2.1.0,>=2.0.6 in /Users/smcaleese/Documents/masters-thesis-code/.env/lib/python3.12/site-packages (from spacy>=3.0.6->polyjuice_nlp==0.1.5) (2.0.10)\n",
      "Requirement already satisfied: weasel<0.5.0,>=0.1.0 in /Users/smcaleese/Documents/masters-thesis-code/.env/lib/python3.12/site-packages (from spacy>=3.0.6->polyjuice_nlp==0.1.5) (0.4.1)\n",
      "Requirement already satisfied: typer<1.0.0,>=0.3.0 in /Users/smcaleese/Documents/masters-thesis-code/.env/lib/python3.12/site-packages (from spacy>=3.0.6->polyjuice_nlp==0.1.5) (0.12.3)\n",
      "Requirement already satisfied: pydantic!=1.8,!=1.8.1,<3.0.0,>=1.7.4 in /Users/smcaleese/Documents/masters-thesis-code/.env/lib/python3.12/site-packages (from spacy>=3.0.6->polyjuice_nlp==0.1.5) (2.8.2)\n",
      "Requirement already satisfied: jinja2 in /Users/smcaleese/Documents/masters-thesis-code/.env/lib/python3.12/site-packages (from spacy>=3.0.6->polyjuice_nlp==0.1.5) (3.1.4)\n",
      "Requirement already satisfied: setuptools in /Users/smcaleese/Documents/masters-thesis-code/.env/lib/python3.12/site-packages (from spacy>=3.0.6->polyjuice_nlp==0.1.5) (71.0.3)\n",
      "Requirement already satisfied: packaging>=20.0 in /Users/smcaleese/Documents/masters-thesis-code/.env/lib/python3.12/site-packages (from spacy>=3.0.6->polyjuice_nlp==0.1.5) (24.1)\n",
      "Requirement already satisfied: langcodes<4.0.0,>=3.2.0 in /Users/smcaleese/Documents/masters-thesis-code/.env/lib/python3.12/site-packages (from spacy>=3.0.6->polyjuice_nlp==0.1.5) (3.4.0)\n",
      "Requirement already satisfied: filelock in /Users/smcaleese/Documents/masters-thesis-code/.env/lib/python3.12/site-packages (from transformers>=4.5.1->polyjuice_nlp==0.1.5) (3.15.4)\n",
      "Requirement already satisfied: pyyaml>=5.1 in /Users/smcaleese/Documents/masters-thesis-code/.env/lib/python3.12/site-packages (from transformers>=4.5.1->polyjuice_nlp==0.1.5) (6.0.1)\n",
      "Requirement already satisfied: regex!=2019.12.17 in /Users/smcaleese/Documents/masters-thesis-code/.env/lib/python3.12/site-packages (from transformers>=4.5.1->polyjuice_nlp==0.1.5) (2024.5.15)\n",
      "Requirement already satisfied: safetensors>=0.4.1 in /Users/smcaleese/Documents/masters-thesis-code/.env/lib/python3.12/site-packages (from transformers>=4.5.1->polyjuice_nlp==0.1.5) (0.4.3)\n",
      "Requirement already satisfied: tokenizers<0.20,>=0.19 in /Users/smcaleese/Documents/masters-thesis-code/.env/lib/python3.12/site-packages (from transformers>=4.5.1->polyjuice_nlp==0.1.5) (0.19.1)\n",
      "Requirement already satisfied: click in /Users/smcaleese/Documents/masters-thesis-code/.env/lib/python3.12/site-packages (from nltk->polyjuice_nlp==0.1.5) (8.1.7)\n",
      "Requirement already satisfied: joblib in /Users/smcaleese/Documents/masters-thesis-code/.env/lib/python3.12/site-packages (from nltk->polyjuice_nlp==0.1.5) (1.4.2)\n",
      "Requirement already satisfied: six in /Users/smcaleese/Documents/masters-thesis-code/.env/lib/python3.12/site-packages (from zss->polyjuice_nlp==0.1.5) (1.16.0)\n",
      "Requirement already satisfied: fsspec>=2023.5.0 in /Users/smcaleese/Documents/masters-thesis-code/.env/lib/python3.12/site-packages (from huggingface-hub>=0.15.1->sentence-transformers>=1.1.0->polyjuice_nlp==0.1.5) (2024.5.0)\n",
      "Requirement already satisfied: typing-extensions>=3.7.4.3 in /Users/smcaleese/Documents/masters-thesis-code/.env/lib/python3.12/site-packages (from huggingface-hub>=0.15.1->sentence-transformers>=1.1.0->polyjuice_nlp==0.1.5) (4.12.2)\n",
      "Requirement already satisfied: language-data>=1.2 in /Users/smcaleese/Documents/masters-thesis-code/.env/lib/python3.12/site-packages (from langcodes<4.0.0,>=3.2.0->spacy>=3.0.6->polyjuice_nlp==0.1.5) (1.2.0)\n",
      "Requirement already satisfied: annotated-types>=0.4.0 in /Users/smcaleese/Documents/masters-thesis-code/.env/lib/python3.12/site-packages (from pydantic!=1.8,!=1.8.1,<3.0.0,>=1.7.4->spacy>=3.0.6->polyjuice_nlp==0.1.5) (0.7.0)\n",
      "Requirement already satisfied: pydantic-core==2.20.1 in /Users/smcaleese/Documents/masters-thesis-code/.env/lib/python3.12/site-packages (from pydantic!=1.8,!=1.8.1,<3.0.0,>=1.7.4->spacy>=3.0.6->polyjuice_nlp==0.1.5) (2.20.1)\n",
      "Requirement already satisfied: charset-normalizer<4,>=2 in /Users/smcaleese/Documents/masters-thesis-code/.env/lib/python3.12/site-packages (from requests->pattern>=3.6.0->polyjuice_nlp==0.1.5) (3.3.2)\n",
      "Requirement already satisfied: idna<4,>=2.5 in /Users/smcaleese/Documents/masters-thesis-code/.env/lib/python3.12/site-packages (from requests->pattern>=3.6.0->polyjuice_nlp==0.1.5) (3.7)\n",
      "Requirement already satisfied: urllib3<3,>=1.21.1 in /Users/smcaleese/Documents/masters-thesis-code/.env/lib/python3.12/site-packages (from requests->pattern>=3.6.0->polyjuice_nlp==0.1.5) (2.2.2)\n",
      "Requirement already satisfied: certifi>=2017.4.17 in /Users/smcaleese/Documents/masters-thesis-code/.env/lib/python3.12/site-packages (from requests->pattern>=3.6.0->polyjuice_nlp==0.1.5) (2024.7.4)\n",
      "Requirement already satisfied: blis<0.8.0,>=0.7.8 in /Users/smcaleese/Documents/masters-thesis-code/.env/lib/python3.12/site-packages (from thinc<8.3.0,>=8.2.2->spacy>=3.0.6->polyjuice_nlp==0.1.5) (0.7.11)\n",
      "Requirement already satisfied: confection<1.0.0,>=0.0.1 in /Users/smcaleese/Documents/masters-thesis-code/.env/lib/python3.12/site-packages (from thinc<8.3.0,>=8.2.2->spacy>=3.0.6->polyjuice_nlp==0.1.5) (0.1.5)\n",
      "Requirement already satisfied: sympy in /Users/smcaleese/Documents/masters-thesis-code/.env/lib/python3.12/site-packages (from torch>=1.11.0->sentence-transformers>=1.1.0->polyjuice_nlp==0.1.5) (1.12.1)\n",
      "Requirement already satisfied: networkx in /Users/smcaleese/Documents/masters-thesis-code/.env/lib/python3.12/site-packages (from torch>=1.11.0->sentence-transformers>=1.1.0->polyjuice_nlp==0.1.5) (3.3)\n",
      "Requirement already satisfied: shellingham>=1.3.0 in /Users/smcaleese/Documents/masters-thesis-code/.env/lib/python3.12/site-packages (from typer<1.0.0,>=0.3.0->spacy>=3.0.6->polyjuice_nlp==0.1.5) (1.5.4)\n",
      "Requirement already satisfied: rich>=10.11.0 in /Users/smcaleese/Documents/masters-thesis-code/.env/lib/python3.12/site-packages (from typer<1.0.0,>=0.3.0->spacy>=3.0.6->polyjuice_nlp==0.1.5) (13.7.1)\n",
      "Requirement already satisfied: cloudpathlib<1.0.0,>=0.7.0 in /Users/smcaleese/Documents/masters-thesis-code/.env/lib/python3.12/site-packages (from weasel<0.5.0,>=0.1.0->spacy>=3.0.6->polyjuice_nlp==0.1.5) (0.18.1)\n",
      "Requirement already satisfied: smart-open<8.0.0,>=5.2.1 in /Users/smcaleese/Documents/masters-thesis-code/.env/lib/python3.12/site-packages (from weasel<0.5.0,>=0.1.0->spacy>=3.0.6->polyjuice_nlp==0.1.5) (7.0.4)\n",
      "Requirement already satisfied: soupsieve>1.2 in /Users/smcaleese/Documents/masters-thesis-code/.env/lib/python3.12/site-packages (from beautifulsoup4->pattern>=3.6.0->polyjuice_nlp==0.1.5) (2.5)\n",
      "Requirement already satisfied: cheroot>=8.2.1 in /Users/smcaleese/Documents/masters-thesis-code/.env/lib/python3.12/site-packages (from cherrypy->pattern>=3.6.0->polyjuice_nlp==0.1.5) (10.0.1)\n",
      "Requirement already satisfied: portend>=2.1.1 in /Users/smcaleese/Documents/masters-thesis-code/.env/lib/python3.12/site-packages (from cherrypy->pattern>=3.6.0->polyjuice_nlp==0.1.5) (3.2.0)\n",
      "Requirement already satisfied: more-itertools in /Users/smcaleese/Documents/masters-thesis-code/.env/lib/python3.12/site-packages (from cherrypy->pattern>=3.6.0->polyjuice_nlp==0.1.5) (10.3.0)\n",
      "Requirement already satisfied: zc.lockfile in /Users/smcaleese/Documents/masters-thesis-code/.env/lib/python3.12/site-packages (from cherrypy->pattern>=3.6.0->polyjuice_nlp==0.1.5) (3.0.post1)\n",
      "Requirement already satisfied: jaraco.collections in /Users/smcaleese/Documents/masters-thesis-code/.env/lib/python3.12/site-packages (from cherrypy->pattern>=3.6.0->polyjuice_nlp==0.1.5) (5.0.1)\n",
      "Requirement already satisfied: sgmllib3k in /Users/smcaleese/Documents/masters-thesis-code/.env/lib/python3.12/site-packages (from feedparser->pattern>=3.6.0->polyjuice_nlp==0.1.5) (1.0.0)\n",
      "Requirement already satisfied: MarkupSafe>=2.0 in /Users/smcaleese/Documents/masters-thesis-code/.env/lib/python3.12/site-packages (from jinja2->spacy>=3.0.6->polyjuice_nlp==0.1.5) (2.1.5)\n",
      "Requirement already satisfied: cryptography>=36.0.0 in /Users/smcaleese/Documents/masters-thesis-code/.env/lib/python3.12/site-packages (from pdfminer.six->pattern>=3.6.0->polyjuice_nlp==0.1.5) (42.0.8)\n",
      "Requirement already satisfied: threadpoolctl>=3.1.0 in /Users/smcaleese/Documents/masters-thesis-code/.env/lib/python3.12/site-packages (from scikit-learn->sentence-transformers>=1.1.0->polyjuice_nlp==0.1.5) (3.5.0)\n",
      "Requirement already satisfied: jaraco.functools in /Users/smcaleese/Documents/masters-thesis-code/.env/lib/python3.12/site-packages (from cheroot>=8.2.1->cherrypy->pattern>=3.6.0->polyjuice_nlp==0.1.5) (4.0.1)\n",
      "Requirement already satisfied: cffi>=1.12 in /Users/smcaleese/Documents/masters-thesis-code/.env/lib/python3.12/site-packages (from cryptography>=36.0.0->pdfminer.six->pattern>=3.6.0->polyjuice_nlp==0.1.5) (1.16.0)\n",
      "Requirement already satisfied: marisa-trie>=0.7.7 in /Users/smcaleese/Documents/masters-thesis-code/.env/lib/python3.12/site-packages (from language-data>=1.2->langcodes<4.0.0,>=3.2.0->spacy>=3.0.6->polyjuice_nlp==0.1.5) (1.2.0)\n",
      "Requirement already satisfied: tempora>=1.8 in /Users/smcaleese/Documents/masters-thesis-code/.env/lib/python3.12/site-packages (from portend>=2.1.1->cherrypy->pattern>=3.6.0->polyjuice_nlp==0.1.5) (5.6.0)\n",
      "Requirement already satisfied: markdown-it-py>=2.2.0 in /Users/smcaleese/Documents/masters-thesis-code/.env/lib/python3.12/site-packages (from rich>=10.11.0->typer<1.0.0,>=0.3.0->spacy>=3.0.6->polyjuice_nlp==0.1.5) (3.0.0)\n",
      "Requirement already satisfied: pygments<3.0.0,>=2.13.0 in /Users/smcaleese/Documents/masters-thesis-code/.env/lib/python3.12/site-packages (from rich>=10.11.0->typer<1.0.0,>=0.3.0->spacy>=3.0.6->polyjuice_nlp==0.1.5) (2.18.0)\n",
      "Requirement already satisfied: wrapt in /Users/smcaleese/Documents/masters-thesis-code/.env/lib/python3.12/site-packages (from smart-open<8.0.0,>=5.2.1->weasel<0.5.0,>=0.1.0->spacy>=3.0.6->polyjuice_nlp==0.1.5) (1.16.0)\n",
      "Requirement already satisfied: jaraco.text in /Users/smcaleese/Documents/masters-thesis-code/.env/lib/python3.12/site-packages (from jaraco.collections->cherrypy->pattern>=3.6.0->polyjuice_nlp==0.1.5) (3.14.0)\n",
      "Requirement already satisfied: mpmath<1.4.0,>=1.1.0 in /Users/smcaleese/Documents/masters-thesis-code/.env/lib/python3.12/site-packages (from sympy->torch>=1.11.0->sentence-transformers>=1.1.0->polyjuice_nlp==0.1.5) (1.3.0)\n",
      "Requirement already satisfied: pycparser in /Users/smcaleese/Documents/masters-thesis-code/.env/lib/python3.12/site-packages (from cffi>=1.12->cryptography>=36.0.0->pdfminer.six->pattern>=3.6.0->polyjuice_nlp==0.1.5) (2.22)\n",
      "Requirement already satisfied: mdurl~=0.1 in /Users/smcaleese/Documents/masters-thesis-code/.env/lib/python3.12/site-packages (from markdown-it-py>=2.2.0->rich>=10.11.0->typer<1.0.0,>=0.3.0->spacy>=3.0.6->polyjuice_nlp==0.1.5) (0.1.2)\n",
      "Requirement already satisfied: jaraco.context>=4.1 in /Users/smcaleese/Documents/masters-thesis-code/.env/lib/python3.12/site-packages (from jaraco.text->jaraco.collections->cherrypy->pattern>=3.6.0->polyjuice_nlp==0.1.5) (5.3.0)\n",
      "Requirement already satisfied: autocommand in /Users/smcaleese/Documents/masters-thesis-code/.env/lib/python3.12/site-packages (from jaraco.text->jaraco.collections->cherrypy->pattern>=3.6.0->polyjuice_nlp==0.1.5) (2.2.2)\n",
      "Requirement already satisfied: inflect in /Users/smcaleese/Documents/masters-thesis-code/.env/lib/python3.12/site-packages (from jaraco.text->jaraco.collections->cherrypy->pattern>=3.6.0->polyjuice_nlp==0.1.5) (7.3.1)\n",
      "Requirement already satisfied: typeguard>=4.0.1 in /Users/smcaleese/Documents/masters-thesis-code/.env/lib/python3.12/site-packages (from inflect->jaraco.text->jaraco.collections->cherrypy->pattern>=3.6.0->polyjuice_nlp==0.1.5) (4.3.0)\n",
      "Building wheels for collected packages: polyjuice_nlp\n",
      "  Building editable for polyjuice_nlp (pyproject.toml) ... \u001b[?25ldone\n",
      "\u001b[?25h  Created wheel for polyjuice_nlp: filename=polyjuice_nlp-0.1.5-0.editable-py3-none-any.whl size=5973 sha256=fad040ee48f454aa4529d7f5f862d5a3893534f2b562b837641f81307e8f57c4\n",
      "  Stored in directory: /private/var/folders/t6/_lt6g5116z9f5127kxxf3qgc0000gn/T/pip-ephem-wheel-cache-a0kjcstj/wheels/25/ab/5a/2c39cb2ced826c744df003583a7e2691ec72e79dc71b9ba517\n",
      "Successfully built polyjuice_nlp\n",
      "Installing collected packages: polyjuice_nlp\n",
      "  Attempting uninstall: polyjuice_nlp\n",
      "    Found existing installation: polyjuice_nlp 0.1.5\n",
      "    Uninstalling polyjuice_nlp-0.1.5:\n",
      "      Successfully uninstalled polyjuice_nlp-0.1.5\n",
      "Successfully installed polyjuice_nlp-0.1.5\n",
      "\n",
      "\u001b[1m[\u001b[0m\u001b[34;49mnotice\u001b[0m\u001b[1;39;49m]\u001b[0m\u001b[39;49m A new release of pip is available: \u001b[0m\u001b[31;49m24.0\u001b[0m\u001b[39;49m -> \u001b[0m\u001b[32;49m24.1.2\u001b[0m\n",
      "\u001b[1m[\u001b[0m\u001b[34;49mnotice\u001b[0m\u001b[1;39;49m]\u001b[0m\u001b[39;49m To update, run: \u001b[0m\u001b[32;49mpip install --upgrade pip\u001b[0m\n",
      "Note: you may need to restart the kernel to use updated packages.\n"
     ]
    }
   ],
   "source": [
    "%pip install -e ."
   ]
  },
  {
   "cell_type": "code",
   "execution_count": 3,
   "id": "05b1fe26",
   "metadata": {},
   "outputs": [
    {
     "name": "stdout",
     "output_type": "stream",
     "text": [
      "Collecting en-core-web-sm==3.7.1\n",
      "  Downloading https://github.com/explosion/spacy-models/releases/download/en_core_web_sm-3.7.1/en_core_web_sm-3.7.1-py3-none-any.whl (12.8 MB)\n",
      "\u001b[2K     \u001b[90m━━━━━━━━━━━━━━━━━━━━━━━━━━━━━━━━━━━━━━━━\u001b[0m \u001b[32m12.8/12.8 MB\u001b[0m \u001b[31m12.7 MB/s\u001b[0m eta \u001b[36m0:00:00\u001b[0m00:01\u001b[0m00:01\u001b[0m\n",
      "\u001b[?25hRequirement already satisfied: spacy<3.8.0,>=3.7.2 in /Users/smcaleese/Documents/masters-thesis-code/.env/lib/python3.12/site-packages (from en-core-web-sm==3.7.1) (3.7.5)\n",
      "Requirement already satisfied: spacy-legacy<3.1.0,>=3.0.11 in /Users/smcaleese/Documents/masters-thesis-code/.env/lib/python3.12/site-packages (from spacy<3.8.0,>=3.7.2->en-core-web-sm==3.7.1) (3.0.12)\n",
      "Requirement already satisfied: spacy-loggers<2.0.0,>=1.0.0 in /Users/smcaleese/Documents/masters-thesis-code/.env/lib/python3.12/site-packages (from spacy<3.8.0,>=3.7.2->en-core-web-sm==3.7.1) (1.0.5)\n",
      "Requirement already satisfied: murmurhash<1.1.0,>=0.28.0 in /Users/smcaleese/Documents/masters-thesis-code/.env/lib/python3.12/site-packages (from spacy<3.8.0,>=3.7.2->en-core-web-sm==3.7.1) (1.0.10)\n",
      "Requirement already satisfied: cymem<2.1.0,>=2.0.2 in /Users/smcaleese/Documents/masters-thesis-code/.env/lib/python3.12/site-packages (from spacy<3.8.0,>=3.7.2->en-core-web-sm==3.7.1) (2.0.8)\n",
      "Requirement already satisfied: preshed<3.1.0,>=3.0.2 in /Users/smcaleese/Documents/masters-thesis-code/.env/lib/python3.12/site-packages (from spacy<3.8.0,>=3.7.2->en-core-web-sm==3.7.1) (3.0.9)\n",
      "Requirement already satisfied: thinc<8.3.0,>=8.2.2 in /Users/smcaleese/Documents/masters-thesis-code/.env/lib/python3.12/site-packages (from spacy<3.8.0,>=3.7.2->en-core-web-sm==3.7.1) (8.2.5)\n",
      "Requirement already satisfied: wasabi<1.2.0,>=0.9.1 in /Users/smcaleese/Documents/masters-thesis-code/.env/lib/python3.12/site-packages (from spacy<3.8.0,>=3.7.2->en-core-web-sm==3.7.1) (1.1.3)\n",
      "Requirement already satisfied: srsly<3.0.0,>=2.4.3 in /Users/smcaleese/Documents/masters-thesis-code/.env/lib/python3.12/site-packages (from spacy<3.8.0,>=3.7.2->en-core-web-sm==3.7.1) (2.4.8)\n",
      "Requirement already satisfied: catalogue<2.1.0,>=2.0.6 in /Users/smcaleese/Documents/masters-thesis-code/.env/lib/python3.12/site-packages (from spacy<3.8.0,>=3.7.2->en-core-web-sm==3.7.1) (2.0.10)\n",
      "Requirement already satisfied: weasel<0.5.0,>=0.1.0 in /Users/smcaleese/Documents/masters-thesis-code/.env/lib/python3.12/site-packages (from spacy<3.8.0,>=3.7.2->en-core-web-sm==3.7.1) (0.4.1)\n",
      "Requirement already satisfied: typer<1.0.0,>=0.3.0 in /Users/smcaleese/Documents/masters-thesis-code/.env/lib/python3.12/site-packages (from spacy<3.8.0,>=3.7.2->en-core-web-sm==3.7.1) (0.12.3)\n",
      "Requirement already satisfied: tqdm<5.0.0,>=4.38.0 in /Users/smcaleese/Documents/masters-thesis-code/.env/lib/python3.12/site-packages (from spacy<3.8.0,>=3.7.2->en-core-web-sm==3.7.1) (4.66.4)\n",
      "Requirement already satisfied: requests<3.0.0,>=2.13.0 in /Users/smcaleese/Documents/masters-thesis-code/.env/lib/python3.12/site-packages (from spacy<3.8.0,>=3.7.2->en-core-web-sm==3.7.1) (2.32.3)\n",
      "Requirement already satisfied: pydantic!=1.8,!=1.8.1,<3.0.0,>=1.7.4 in /Users/smcaleese/Documents/masters-thesis-code/.env/lib/python3.12/site-packages (from spacy<3.8.0,>=3.7.2->en-core-web-sm==3.7.1) (2.8.2)\n",
      "Requirement already satisfied: jinja2 in /Users/smcaleese/Documents/masters-thesis-code/.env/lib/python3.12/site-packages (from spacy<3.8.0,>=3.7.2->en-core-web-sm==3.7.1) (3.1.4)\n",
      "Requirement already satisfied: setuptools in /Users/smcaleese/Documents/masters-thesis-code/.env/lib/python3.12/site-packages (from spacy<3.8.0,>=3.7.2->en-core-web-sm==3.7.1) (71.0.3)\n",
      "Requirement already satisfied: packaging>=20.0 in /Users/smcaleese/Documents/masters-thesis-code/.env/lib/python3.12/site-packages (from spacy<3.8.0,>=3.7.2->en-core-web-sm==3.7.1) (24.1)\n",
      "Requirement already satisfied: langcodes<4.0.0,>=3.2.0 in /Users/smcaleese/Documents/masters-thesis-code/.env/lib/python3.12/site-packages (from spacy<3.8.0,>=3.7.2->en-core-web-sm==3.7.1) (3.4.0)\n",
      "Requirement already satisfied: numpy>=1.19.0 in /Users/smcaleese/Documents/masters-thesis-code/.env/lib/python3.12/site-packages (from spacy<3.8.0,>=3.7.2->en-core-web-sm==3.7.1) (1.26.4)\n",
      "Requirement already satisfied: language-data>=1.2 in /Users/smcaleese/Documents/masters-thesis-code/.env/lib/python3.12/site-packages (from langcodes<4.0.0,>=3.2.0->spacy<3.8.0,>=3.7.2->en-core-web-sm==3.7.1) (1.2.0)\n",
      "Requirement already satisfied: annotated-types>=0.4.0 in /Users/smcaleese/Documents/masters-thesis-code/.env/lib/python3.12/site-packages (from pydantic!=1.8,!=1.8.1,<3.0.0,>=1.7.4->spacy<3.8.0,>=3.7.2->en-core-web-sm==3.7.1) (0.7.0)\n",
      "Requirement already satisfied: pydantic-core==2.20.1 in /Users/smcaleese/Documents/masters-thesis-code/.env/lib/python3.12/site-packages (from pydantic!=1.8,!=1.8.1,<3.0.0,>=1.7.4->spacy<3.8.0,>=3.7.2->en-core-web-sm==3.7.1) (2.20.1)\n",
      "Requirement already satisfied: typing-extensions>=4.6.1 in /Users/smcaleese/Documents/masters-thesis-code/.env/lib/python3.12/site-packages (from pydantic!=1.8,!=1.8.1,<3.0.0,>=1.7.4->spacy<3.8.0,>=3.7.2->en-core-web-sm==3.7.1) (4.12.2)\n",
      "Requirement already satisfied: charset-normalizer<4,>=2 in /Users/smcaleese/Documents/masters-thesis-code/.env/lib/python3.12/site-packages (from requests<3.0.0,>=2.13.0->spacy<3.8.0,>=3.7.2->en-core-web-sm==3.7.1) (3.3.2)\n",
      "Requirement already satisfied: idna<4,>=2.5 in /Users/smcaleese/Documents/masters-thesis-code/.env/lib/python3.12/site-packages (from requests<3.0.0,>=2.13.0->spacy<3.8.0,>=3.7.2->en-core-web-sm==3.7.1) (3.7)\n",
      "Requirement already satisfied: urllib3<3,>=1.21.1 in /Users/smcaleese/Documents/masters-thesis-code/.env/lib/python3.12/site-packages (from requests<3.0.0,>=2.13.0->spacy<3.8.0,>=3.7.2->en-core-web-sm==3.7.1) (2.2.2)\n",
      "Requirement already satisfied: certifi>=2017.4.17 in /Users/smcaleese/Documents/masters-thesis-code/.env/lib/python3.12/site-packages (from requests<3.0.0,>=2.13.0->spacy<3.8.0,>=3.7.2->en-core-web-sm==3.7.1) (2024.7.4)\n",
      "Requirement already satisfied: blis<0.8.0,>=0.7.8 in /Users/smcaleese/Documents/masters-thesis-code/.env/lib/python3.12/site-packages (from thinc<8.3.0,>=8.2.2->spacy<3.8.0,>=3.7.2->en-core-web-sm==3.7.1) (0.7.11)\n",
      "Requirement already satisfied: confection<1.0.0,>=0.0.1 in /Users/smcaleese/Documents/masters-thesis-code/.env/lib/python3.12/site-packages (from thinc<8.3.0,>=8.2.2->spacy<3.8.0,>=3.7.2->en-core-web-sm==3.7.1) (0.1.5)\n",
      "Requirement already satisfied: click>=8.0.0 in /Users/smcaleese/Documents/masters-thesis-code/.env/lib/python3.12/site-packages (from typer<1.0.0,>=0.3.0->spacy<3.8.0,>=3.7.2->en-core-web-sm==3.7.1) (8.1.7)\n",
      "Requirement already satisfied: shellingham>=1.3.0 in /Users/smcaleese/Documents/masters-thesis-code/.env/lib/python3.12/site-packages (from typer<1.0.0,>=0.3.0->spacy<3.8.0,>=3.7.2->en-core-web-sm==3.7.1) (1.5.4)\n",
      "Requirement already satisfied: rich>=10.11.0 in /Users/smcaleese/Documents/masters-thesis-code/.env/lib/python3.12/site-packages (from typer<1.0.0,>=0.3.0->spacy<3.8.0,>=3.7.2->en-core-web-sm==3.7.1) (13.7.1)\n",
      "Requirement already satisfied: cloudpathlib<1.0.0,>=0.7.0 in /Users/smcaleese/Documents/masters-thesis-code/.env/lib/python3.12/site-packages (from weasel<0.5.0,>=0.1.0->spacy<3.8.0,>=3.7.2->en-core-web-sm==3.7.1) (0.18.1)\n",
      "Requirement already satisfied: smart-open<8.0.0,>=5.2.1 in /Users/smcaleese/Documents/masters-thesis-code/.env/lib/python3.12/site-packages (from weasel<0.5.0,>=0.1.0->spacy<3.8.0,>=3.7.2->en-core-web-sm==3.7.1) (7.0.4)\n",
      "Requirement already satisfied: MarkupSafe>=2.0 in /Users/smcaleese/Documents/masters-thesis-code/.env/lib/python3.12/site-packages (from jinja2->spacy<3.8.0,>=3.7.2->en-core-web-sm==3.7.1) (2.1.5)\n",
      "Requirement already satisfied: marisa-trie>=0.7.7 in /Users/smcaleese/Documents/masters-thesis-code/.env/lib/python3.12/site-packages (from language-data>=1.2->langcodes<4.0.0,>=3.2.0->spacy<3.8.0,>=3.7.2->en-core-web-sm==3.7.1) (1.2.0)\n",
      "Requirement already satisfied: markdown-it-py>=2.2.0 in /Users/smcaleese/Documents/masters-thesis-code/.env/lib/python3.12/site-packages (from rich>=10.11.0->typer<1.0.0,>=0.3.0->spacy<3.8.0,>=3.7.2->en-core-web-sm==3.7.1) (3.0.0)\n",
      "Requirement already satisfied: pygments<3.0.0,>=2.13.0 in /Users/smcaleese/Documents/masters-thesis-code/.env/lib/python3.12/site-packages (from rich>=10.11.0->typer<1.0.0,>=0.3.0->spacy<3.8.0,>=3.7.2->en-core-web-sm==3.7.1) (2.18.0)\n",
      "Requirement already satisfied: wrapt in /Users/smcaleese/Documents/masters-thesis-code/.env/lib/python3.12/site-packages (from smart-open<8.0.0,>=5.2.1->weasel<0.5.0,>=0.1.0->spacy<3.8.0,>=3.7.2->en-core-web-sm==3.7.1) (1.16.0)\n",
      "Requirement already satisfied: mdurl~=0.1 in /Users/smcaleese/Documents/masters-thesis-code/.env/lib/python3.12/site-packages (from markdown-it-py>=2.2.0->rich>=10.11.0->typer<1.0.0,>=0.3.0->spacy<3.8.0,>=3.7.2->en-core-web-sm==3.7.1) (0.1.2)\n",
      "\n",
      "\u001b[1m[\u001b[0m\u001b[34;49mnotice\u001b[0m\u001b[1;39;49m]\u001b[0m\u001b[39;49m A new release of pip is available: \u001b[0m\u001b[31;49m24.0\u001b[0m\u001b[39;49m -> \u001b[0m\u001b[32;49m24.1.2\u001b[0m\n",
      "\u001b[1m[\u001b[0m\u001b[34;49mnotice\u001b[0m\u001b[1;39;49m]\u001b[0m\u001b[39;49m To update, run: \u001b[0m\u001b[32;49mpip install --upgrade pip\u001b[0m\n",
      "\u001b[38;5;2m✔ Download and installation successful\u001b[0m\n",
      "You can now load the package via spacy.load('en_core_web_sm')\n"
     ]
    }
   ],
   "source": [
    "!python -m spacy download en_core_web_sm"
   ]
  },
  {
   "cell_type": "code",
   "execution_count": 56,
   "id": "8ec30a12",
   "metadata": {},
   "outputs": [
    {
     "name": "stderr",
     "output_type": "stream",
     "text": [
      "INFO:polyjuice.polyjuice_wrapper:Setup Polyjuice.\n",
      "INFO:polyjuice.polyjuice_wrapper:Setup SpaCy processor.\n",
      "INFO:polyjuice.polyjuice_wrapper:Generating on these prompts:\n",
      "INFO:polyjuice.polyjuice_wrapper: | On a dark, gloomy New Year's Eve night, an ill nurse, her life slowly ebbing away, demands that David Holm be presented to her at once. We don't yet know who David Holm is, or why this nurse wishes to see him, but her only dying wish is to speak with him just one more time. On the other side of the town, nestled comfortably amongst the gravestones of the local cemetery, Holm (Victor Sjöström, who also directed) and two of his drunken associates merrily await the coming of the New Year. Here we can tell just when to drink <|perturb|> [negation] [BLANK]\n",
      "INFO:polyjuice.polyjuice_wrapper: | On a dark, gloomy New Year's Eve night, an ill nurse, her life slowly ebbing away, demands that David Holm be presented to her at once. We don't yet know who David Holm is, or why this nurse wishes to see him, but her only dying wish is to speak with him just one more time. On the other side of the town, nestled comfortably amongst the gravestones of the local cemetery, Holm (Victor Sjöström, who also directed) and two of his drunken associates merrily await the coming of the New Year. Here we can tell just when to drink <|perturb|> [negation] On a dark, gloomy New Year's Eve night, an ill nurse, her life slowly ebbing away, demands that David Holm be presented to her at once. We don't yet know who David Holm is, or why this nurse wishes to see him, but her only dying wish is [BLANK]. On the other side of the town, nestled comfortably amongst the gravestones of the local cemetery, Holm (Victor Sjöström, who also directed) and two of his drunken associates merrily await the coming of the New Year. Here we can tell just when to drink\n",
      "INFO:polyjuice.polyjuice_wrapper: | On a dark, gloomy New Year's Eve night, an ill nurse, her life slowly ebbing away, demands that David Holm be presented to her at once. We don't yet know who David Holm is, or why this nurse wishes to see him, but her only dying wish is to speak with him just one more time. On the other side of the town, nestled comfortably amongst the gravestones of the local cemetery, Holm (Victor Sjöström, who also directed) and two of his drunken associates merrily await the coming of the New Year. Here we can tell just when to drink <|perturb|> [negation] On a dark, gloomy New Year's Eve night, an ill nurse, her life slowly ebbing away, demands that David Holm be presented to her at once. We don't yet know who David Holm is, or why this nurse wishes to see him, but her only dying wish is to speak with him just one more time. On the other side of the town, nestled comfortably amongst the gravestones of the local cemetery, Holm (Victor Sjöström, who also directed) and two of his drunken associates merrily await the coming of [BLANK] New Year. Here we can tell just when to drink\n",
      "Truncation was not explicitly activated but `max_length` is provided a specific value, please use `truncation=True` to explicitly truncate examples to max length. Defaulting to 'longest_first' truncation strategy. If you encode pairs of sequences (GLUE-style) with the tokenizer you can select this strategy more precisely by providing a specific strategy to `truncation`.\n",
      "Setting `pad_token_id` to `eos_token_id`:50256 for open-end generation.\n"
     ]
    },
    {
     "name": "stdout",
     "output_type": "stream",
     "text": [
      "orig_doc: On a dark, gloomy New Year's Eve night, an ill nurse, her life slowly ebbing away, demands that David Holm be presented to her at once. We don't yet know who David Holm is, or why this nurse wishes to see him, but her only dying wish is to speak with him just one more time. On the other side of the town, nestled comfortably amongst the gravestones of the local cemetery, Holm (Victor Sjöström, who also directed) and two of his drunken associates merrily await the coming of the New Year. Here we can tell just when to drink, ctrl_codes: ['negation'], blanked_sents: {'[BLANK]', \"On a dark, gloomy New Year's Eve night, an ill nurse, her life slowly ebbing away, demands that David Holm be presented to her at once. We don't yet know who David Holm is, or why this nurse wishes to see him, but her only dying wish is [BLANK]. On the other side of the town, nestled comfortably amongst the gravestones of the local cemetery, Holm (Victor Sjöström, who also directed) and two of his drunken associates merrily await the coming of the New Year. Here we can tell just when to drink\", \"On a dark, gloomy New Year's Eve night, an ill nurse, her life slowly ebbing away, demands that David Holm be presented to her at once. We don't yet know who David Holm is, or why this nurse wishes to see him, but her only dying wish is to speak with him just one more time. On the other side of the town, nestled comfortably amongst the gravestones of the local cemetery, Holm (Victor Sjöström, who also directed) and two of his drunken associates merrily await the coming of [BLANK] New Year. Here we can tell just when to drink\"}\n",
      "blanked_sents length: 3\n"
     ]
    },
    {
     "name": "stderr",
     "output_type": "stream",
     "text": [
      "Setting `pad_token_id` to `eos_token_id`:50256 for open-end generation.\n",
      "Setting `pad_token_id` to `eos_token_id`:50256 for open-end generation.\n"
     ]
    }
   ],
   "source": [
    "from polyjuice import Polyjuice\n",
    "# initiate a wrapper.\n",
    "# model path is defaulted to our portable model:\n",
    "# https://huggingface.co/uw-hai/polyjuice\n",
    "# No need to change this unless you are using customized model\n",
    "pj = Polyjuice(model_path=\"uw-hai/polyjuice\", is_cuda=True)\n",
    "\n",
    "# the base sentence\n",
    "# text = \"I liked the movie.\"\n",
    "text = \"On a dark, gloomy New Year's Eve night, an ill nurse, her life slowly ebbing away, demands that David Holm be presented to her at once. We don't yet know who David Holm is, or why this nurse wishes to see him, but her only dying wish is to speak with him just one more time. On the other side of the town, nestled comfortably amongst the gravestones of the local cemetery, Holm (Victor Sjöström, who also directed) and two of his drunken associates merrily await the coming of the New Year. Here we can tell just when to drink\"\n",
    "\n",
    "# perturb the sentence with one line:\n",
    "# When running it for the first time, the wrapper will automatically\n",
    "# load related models, e.g. the generator and the perplexity filter.\n",
    "\n",
    "perturbations = pj.perturb(\n",
    "    orig_sent=text,\n",
    "    ctrl_code=\"negation\",\n",
    "    num_perturbations=1,\n",
    "    perplex_thred=None,\n",
    "    verbose=True,\n",
    ")\n",
    "\n",
    "\n",
    "# return: ['It is bad for kids too.',\n",
    "# \"It 's great for kids.\",\n",
    "# 'It is great even for kids.']"
   ]
  },
  {
   "cell_type": "code",
   "execution_count": 53,
   "id": "41bae310",
   "metadata": {},
   "outputs": [
    {
     "data": {
      "text/plain": [
       "[]"
      ]
     },
     "execution_count": 53,
     "metadata": {},
     "output_type": "execute_result"
    }
   ],
   "source": [
    "perturbations"
   ]
  },
  {
   "cell_type": "code",
   "execution_count": 22,
   "id": "7f75da7d",
   "metadata": {},
   "outputs": [],
   "source": [
    "from transformers import pipeline, AutoModelForCausalLM, AutoTokenizer\n",
    "\n",
    "def load_generator(model_path=\"uw-hai/polyjuice\", is_cuda=True):\n",
    "    return pipeline(\"text-generation\", \n",
    "        model=AutoModelForCausalLM.from_pretrained(model_path),\n",
    "        tokenizer=AutoTokenizer.from_pretrained(model_path),\n",
    "        framework=\"pt\", device=\"cpu\")"
   ]
  },
  {
   "cell_type": "code",
   "execution_count": 48,
   "id": "36fb59ee",
   "metadata": {},
   "outputs": [],
   "source": [
    "import torch\n",
    "import re\n",
    "\n",
    "generator = load_generator()\n",
    "# prompts = [\"I liked the movie. <|perturb|> [negation] [BLANK] liked the movie.\"]\n",
    "prompts = [\"On a dark, gloomy New Year's Eve night, an ill nurse, her life slowly ebbing away, demands that David Holm be presented to her at once. We don't yet know who David Holm is, or why this nurse wishes to see him, but her only dying wish is to speak with him just one more time. On the other side of the town, nestled comfortably amongst the gravestones of the local cemetery, Holm (Victor Sjöström, who also directed) and two of his drunken associates merrily await the coming of the New Year. Here we can tell just when to drink <|perturb|> [negation] [BLANK]\"]\n",
    "\n",
    "def batched_generate(generator, \n",
    "    examples, \n",
    "    temperature=1, \n",
    "    num_beams=None,\n",
    "    num_return_sequences=3, \n",
    "    do_sample=True, \n",
    "    batch_size=128, **kwargs):\n",
    "    preds_list = []\n",
    "    with torch.no_grad():\n",
    "        for e in (range(0, len(examples), batch_size)):\n",
    "            preds_list += generator(\n",
    "                examples[e:e+batch_size],\n",
    "                temperature=temperature,\n",
    "                num_beams=num_beams,\n",
    "                max_length=1000,\n",
    "                early_stopping=False,\n",
    "                num_return_sequences=num_return_sequences, \n",
    "                **kwargs\n",
    "            )\n",
    "    return preds_list\n",
    "\n",
    "PERETURB_TOK = \"<|perturb|>\"\n",
    "\n",
    "def remove_blanks(text):\n",
    "    try:\n",
    "        before, answers = text.split(SEP_TOK)\n",
    "        answers = [x.strip() for x in answers.split(ANSWER_TOK)][:-1]\n",
    "        answers = [x if x != EMPTY_TOK else '' for x in answers]\n",
    "        for a in answers:\n",
    "            if a == '':\n",
    "                before = re.sub(r' %s' % re.escape(BLANK_TOK), a, before, count=1)\n",
    "            else:\n",
    "                before = re.sub(r'%s' % re.escape(BLANK_TOK), a, before, count=1)\n",
    "        return before, answers\n",
    "    except:\n",
    "        return text, []\n",
    "\n",
    "def split_ctrl_code(text):\n",
    "    r = re.search(r'\\[(?P<code>[a-z]+)\\](?P<text>.+)', text)\n",
    "    if r:\n",
    "        return r.group(\"code\").strip(), r.group(\"text\").strip()\n",
    "    return \"\", text\n",
    "\n",
    "def generate_on_prompts(generator, prompts, temperature=1, \n",
    "    num_beams=None, do_sample=True, batch_size=128, **kwargs):\n",
    "    preds_list = batched_generate(generator, prompts,\n",
    "        temperature=temperature, \n",
    "        num_beams=num_beams, \n",
    "        do_sample=do_sample, batch_size=batch_size, **kwargs)\n",
    "    # if len(prompts) == 1:\n",
    "    #     preds_list = [preds_list]\n",
    "    preds_list_cleaned = []\n",
    "    for prompt, preds in zip(prompts, preds_list):\n",
    "        print(f\"preds: {preds}\")\n",
    "        prev_list = set()\n",
    "        for s in preds:\n",
    "            # print(f\"s: {s}\")\n",
    "            total_sequence = s[\"generated_text\"].split(PERETURB_TOK)[-1]\n",
    "            normalized, _ = remove_blanks(total_sequence)\n",
    "            input_ctrl_code, normalized = split_ctrl_code(normalized)\n",
    "            prev_list.add((input_ctrl_code, normalized))\n",
    "        preds_list_cleaned.append(list(prev_list))\n",
    "    return preds_list_cleaned"
   ]
  },
  {
   "cell_type": "code",
   "execution_count": 49,
   "id": "fa889096",
   "metadata": {},
   "outputs": [
    {
     "name": "stderr",
     "output_type": "stream",
     "text": [
      "Truncation was not explicitly activated but `max_length` is provided a specific value, please use `truncation=True` to explicitly truncate examples to max length. Defaulting to 'longest_first' truncation strategy. If you encode pairs of sequences (GLUE-style) with the tokenizer you can select this strategy more precisely by providing a specific strategy to `truncation`.\n",
      "Setting `pad_token_id` to `eos_token_id`:50256 for open-end generation.\n"
     ]
    },
    {
     "name": "stdout",
     "output_type": "stream",
     "text": [
      "preds: [{'generated_text': \"On a dark, gloomy New Year's Eve night, an ill nurse, her life slowly ebbing away, demands that David Holm be presented to her at once. We don't yet know who David Holm is, or why this nurse wishes to see him, but her only dying wish is to speak with him just one more time. On the other side of the town, nestled comfortably amongst the gravestones of the local cemetery, Holm (Victor Sjöström, who also directed) and two of his drunken associates merrily await the coming of the New Year. Here we can tell just when to drink <|perturb|> [negation] [BLANK] [SEP] On a dark, gloomy New Year's Eve, a nurse, her life slowly eases, and joyfully, comes to an abrupt ending, when a drunken girl, played by a chest-puffing John Caffari, whom we first meet as he looses a girlfriend, comes to love for the first time with Tina and how he has lost her, and how he has lost himself and how he has lost himself and how he has lost himself and how he has lost himself and how he has lost himself and how he has lost himself and how he has lost himself and how he has lost himself and how he has lost himself and how he has lost himself and how he has lost himself and how he has lost himself and how he has lost himself and how he has lost himself and how he has lost himself and how he has lost himself and how he has lost himself and how he has lost himself and how he has lost himself and how he has lost himself and how he has lost himself and how he has lost himself and how he has lost himself and how he has lost himself and how he has lost himself and how he has lost himself and how he has lost himself and how he has lost himself and how he has lost himself and how he has lost himself and how he has lost himself and how he has lost himself and how he has lost himself and how he has lost himself and how he has lost himself and how he has lost himself and how he has lost himself and how he has lost himself and how he has lost himself and how he has lost himself and how he has lost himself and how he has lost himself and how he has lost himself and how he has lost himself and how he has lost himself and how he has lost himself and how he has lost himself and how he has lost himself and how he has lost himself and how he has lost himself and how he has lost himself and how he has lost himself and how he has lost himself and how he has lost himself and how he has lost himself and how he has lost himself and how he has lost himself and how he has lost himself and how he has lost himself and how he has lost himself and how he has lost himself and how he has lost himself and how he has lost himself and how he has lost himself and how he has lost himself and how he has lost himself and how he has lost himself and how he has lost himself and how he has lost himself and how he has lost himself and how he has lost himself and how he has lost himself and how he has lost himself and how he has lost himself and how he has lost himself and how he has lost himself and how he has lost himself and how he has lost himself and how he has lost himself and how he has lost himself and how he has lost himself and how he has lost himself and how he has lost himself and how he has lost himself and how he has lost himself and [ANSWER] \"}, {'generated_text': \"On a dark, gloomy New Year's Eve night, an ill nurse, her life slowly ebbing away, demands that David Holm be presented to her at once. We don't yet know who David Holm is, or why this nurse wishes to see him, but her only dying wish is to speak with him just one more time. On the other side of the town, nestled comfortably amongst the gravestones of the local cemetery, Holm (Victor Sjöström, who also directed) and two of his drunken associates merrily await the coming of the New Year. Here we can tell just when to drink <|perturb|> [negation] [BLANK] [SEP] On a dark, gloomy New Year's Eve, a nurse, her life slowly eases, and joyfully, comes to an abrupt ending, when a drunken girl, played by a chest-puffing John Caffari, whom we first meet as he looses a girlfriend, comes to love for the first time with Tina and how he has lost her, and how he has lost himself and how he has lost himself and how he has lost himself and how he has lost himself and how he has lost himself and how he has lost himself and how he has lost himself and how he has lost himself and how he has lost himself and how he has lost himself and how he has lost himself and how he has lost himself and how he has lost himself and how he has lost himself and how he has lost himself and how he has lost himself and how he has lost himself and how he has lost himself and how he has lost himself and how he has lost himself and how he has lost himself and how he has lost himself and how he has lost himself and how he has lost himself and how he has lost himself and how he has lost himself and how he has lost himself and how he has lost himself and how he has lost himself and how he has lost himself and how he has lost himself and how he has lost himself and how he has lost himself and how he has lost himself and how he has lost himself and how he has lost himself and how he has lost himself and how he has lost himself and how he has lost himself and how he has lost himself and how he has lost himself and how he has lost himself and how he has lost himself and how he has lost himself and how he has lost himself and how he has lost himself and how he has lost himself and how he has lost himself and how he has lost himself and how he has lost himself and how he has lost himself and how he has lost himself and how he has lost himself and how he has lost himself and how he has lost himself and how he has lost himself and how he has lost himself and how he has lost himself and how he has lost himself and how he has lost himself and how he has lost himself and how he has lost himself and how he has lost himself and how he has lost himself and how he has lost himself and how he has lost himself and how he has lost himself and how he has lost himself and how he has lost himself and how he has lost himself and how he has lost himself and how he has lost himself and how he has lost himself and how he has lost himself and how he has lost himself and how he has lost himself and how he has lost himself and how he has lost himself and how he has lost himself and how he has lost himself and how he has lost himself and how he has lost himself and how he has lost himself and how he has lost himself and [ANSWER] \"}, {'generated_text': \"On a dark, gloomy New Year's Eve night, an ill nurse, her life slowly ebbing away, demands that David Holm be presented to her at once. We don't yet know who David Holm is, or why this nurse wishes to see him, but her only dying wish is to speak with him just one more time. On the other side of the town, nestled comfortably amongst the gravestones of the local cemetery, Holm (Victor Sjöström, who also directed) and two of his drunken associates merrily await the coming of the New Year. Here we can tell just when to drink <|perturb|> [negation] [BLANK] [SEP] On a dark, gloomy New Year's Eve, a nurse, her life slowly eases, and joyfully, comes to an abrupt ending, when a drunken girl, played by a chest-puffing John Caffari, whom we first meet as he looses a girlfriend, comes to love for the first time with Tina and how he has lost her, and how he has lost himself and how he has lost himself and how he has lost himself and how he has lost himself and how he has lost himself and how he has lost himself and how he has lost himself and how he has lost himself and how he has lost himself and how he has lost himself and how he has lost himself and how he has lost himself and how he has lost himself and how he has lost himself and how he has lost himself and how he has lost himself and how he has lost himself and how he has lost himself and how he has lost himself and how he has lost himself and how he has lost himself and how he has lost himself and how he has lost himself and how he has lost himself and how he has lost himself and how he has lost himself and how he has lost himself and how he has lost himself and how he has lost himself and how he has lost himself and how he has lost himself and how he has lost himself and how he has lost himself and how he has lost himself and how he has lost himself and how he has lost himself and how he has lost himself and how he has lost himself and how he has lost himself and how he has lost himself and how he has lost himself and how he has lost himself and how he has lost himself and how he has lost himself and how he has lost himself and how he has lost himself and how he has lost himself and how he has lost himself and how he has lost himself and how he has lost himself and how he has lost himself and how he has lost himself and how he has lost himself and how he has lost himself and how he has lost himself and how he has lost himself and how he has lost himself and how he has lost himself and how he has lost himself and how he has lost himself and how he has lost himself and how he has lost himself and how he has lost himself and how he has lost himself and how he has lost himself and how he has lost himself and how he has lost himself and how he has lost himself and how he has lost himself and how he has lost himself and how he has lost himself and how he has lost himself and how he has lost himself and how he has lost himself and how he has lost himself and how he has lost himself and how he has lost himself and how he has lost himself and how he has lost himself and how he has lost himself and how he has lost himself and how he has lost himself and how he has lost himself and [ANSWER] \"}]\n"
     ]
    },
    {
     "data": {
      "text/plain": [
       "[[('negation',\n",
       "   \"[BLANK] [SEP] On a dark, gloomy New Year's Eve, a nurse, her life slowly eases, and joyfully, comes to an abrupt ending, when a drunken girl, played by a chest-puffing John Caffari, whom we first meet as he looses a girlfriend, comes to love for the first time with Tina and how he has lost her, and how he has lost himself and how he has lost himself and how he has lost himself and how he has lost himself and how he has lost himself and how he has lost himself and how he has lost himself and how he has lost himself and how he has lost himself and how he has lost himself and how he has lost himself and how he has lost himself and how he has lost himself and how he has lost himself and how he has lost himself and how he has lost himself and how he has lost himself and how he has lost himself and how he has lost himself and how he has lost himself and how he has lost himself and how he has lost himself and how he has lost himself and how he has lost himself and how he has lost himself and how he has lost himself and how he has lost himself and how he has lost himself and how he has lost himself and how he has lost himself and how he has lost himself and how he has lost himself and how he has lost himself and how he has lost himself and how he has lost himself and how he has lost himself and how he has lost himself and how he has lost himself and how he has lost himself and how he has lost himself and how he has lost himself and how he has lost himself and how he has lost himself and how he has lost himself and how he has lost himself and how he has lost himself and how he has lost himself and how he has lost himself and how he has lost himself and how he has lost himself and how he has lost himself and how he has lost himself and how he has lost himself and how he has lost himself and how he has lost himself and how he has lost himself and how he has lost himself and how he has lost himself and how he has lost himself and how he has lost himself and how he has lost himself and how he has lost himself and how he has lost himself and how he has lost himself and how he has lost himself and how he has lost himself and how he has lost himself and how he has lost himself and how he has lost himself and how he has lost himself and how he has lost himself and how he has lost himself and how he has lost himself and how he has lost himself and how he has lost himself and how he has lost himself and how he has lost himself and how he has lost himself and how he has lost himself and how he has lost himself and how he has lost himself and how he has lost himself and how he has lost himself and how he has lost himself and how he has lost himself and [ANSWER]\"),\n",
       "  ('negation',\n",
       "   \"[BLANK] [SEP] On a dark, gloomy New Year's Eve, a nurse, her life slowly eases, and joyfully, comes to an abrupt ending, when a drunken girl, played by a chest-puffing John Caffari, whom we first meet as he looses a girlfriend, comes to love for the first time with Tina and how he has lost her, and how he has lost himself and how he has lost himself and how he has lost himself and how he has lost himself and how he has lost himself and how he has lost himself and how he has lost himself and how he has lost himself and how he has lost himself and how he has lost himself and how he has lost himself and how he has lost himself and how he has lost himself and how he has lost himself and how he has lost himself and how he has lost himself and how he has lost himself and how he has lost himself and how he has lost himself and how he has lost himself and how he has lost himself and how he has lost himself and how he has lost himself and how he has lost himself and how he has lost himself and how he has lost himself and how he has lost himself and how he has lost himself and how he has lost himself and how he has lost himself and how he has lost himself and how he has lost himself and how he has lost himself and how he has lost himself and how he has lost himself and how he has lost himself and how he has lost himself and how he has lost himself and how he has lost himself and how he has lost himself and how he has lost himself and how he has lost himself and how he has lost himself and how he has lost himself and how he has lost himself and how he has lost himself and how he has lost himself and how he has lost himself and how he has lost himself and how he has lost himself and how he has lost himself and how he has lost himself and how he has lost himself and how he has lost himself and how he has lost himself and how he has lost himself and how he has lost himself and how he has lost himself and how he has lost himself and how he has lost himself and how he has lost himself and how he has lost himself and how he has lost himself and how he has lost himself and how he has lost himself and how he has lost himself and how he has lost himself and how he has lost himself and how he has lost himself and how he has lost himself and how he has lost himself and how he has lost himself and how he has lost himself and how he has lost himself and how he has lost himself and how he has lost himself and how he has lost himself and how he has lost himself and how he has lost himself and how he has lost himself and how he has lost himself and how he has lost himself and how he has lost himself and [ANSWER]\"),\n",
       "  ('negation',\n",
       "   \"[BLANK] [SEP] On a dark, gloomy New Year's Eve, a nurse, her life slowly eases, and joyfully, comes to an abrupt ending, when a drunken girl, played by a chest-puffing John Caffari, whom we first meet as he looses a girlfriend, comes to love for the first time with Tina and how he has lost her, and how he has lost himself and how he has lost himself and how he has lost himself and how he has lost himself and how he has lost himself and how he has lost himself and how he has lost himself and how he has lost himself and how he has lost himself and how he has lost himself and how he has lost himself and how he has lost himself and how he has lost himself and how he has lost himself and how he has lost himself and how he has lost himself and how he has lost himself and how he has lost himself and how he has lost himself and how he has lost himself and how he has lost himself and how he has lost himself and how he has lost himself and how he has lost himself and how he has lost himself and how he has lost himself and how he has lost himself and how he has lost himself and how he has lost himself and how he has lost himself and how he has lost himself and how he has lost himself and how he has lost himself and how he has lost himself and how he has lost himself and how he has lost himself and how he has lost himself and how he has lost himself and how he has lost himself and how he has lost himself and how he has lost himself and how he has lost himself and how he has lost himself and how he has lost himself and how he has lost himself and how he has lost himself and how he has lost himself and how he has lost himself and how he has lost himself and how he has lost himself and how he has lost himself and how he has lost himself and how he has lost himself and how he has lost himself and how he has lost himself and how he has lost himself and how he has lost himself and how he has lost himself and how he has lost himself and how he has lost himself and how he has lost himself and how he has lost himself and how he has lost himself and how he has lost himself and how he has lost himself and how he has lost himself and how he has lost himself and how he has lost himself and how he has lost himself and how he has lost himself and how he has lost himself and how he has lost himself and how he has lost himself and how he has lost himself and how he has lost himself and how he has lost himself and how he has lost himself and how he has lost himself and how he has lost himself and how he has lost himself and how he has lost himself and how he has lost himself and how he has lost himself and how he has lost himself and [ANSWER]\")]]"
      ]
     },
     "execution_count": 49,
     "metadata": {},
     "output_type": "execute_result"
    }
   ],
   "source": [
    "output = generate_on_prompts(generator, prompts, num_beams=5, batch_size=1)\n",
    "output"
   ]
  },
  {
   "cell_type": "code",
   "execution_count": 51,
   "id": "fce5c983",
   "metadata": {},
   "outputs": [
    {
     "name": "stderr",
     "output_type": "stream",
     "text": [
      "INFO:polyjuice.polyjuice_wrapper:Generating on these prompts:\n",
      "INFO:polyjuice.polyjuice_wrapper: | On a dark, gloomy New Year's Eve night, an ill nurse, her life slowly ebbing away, demands that David Holm be presented to her at once. We don't yet know who David Holm is, or why this nurse wishes to see him, but her only dying wish is to speak with him just one more time. On the other side of the town, nestled comfortably amongst the gravestones of the local cemetery, Holm (Victor Sjöström, who also directed) and two of his drunken associates merrily await the coming of the New Year. Here we can tell just when to drink <|perturb|> [negation] On a dark, gloomy New Year's Eve night, an ill nurse, her life slowly ebbing away, demands that [BLANK] Holm be presented to her at once. We don't yet know who David Holm is, or why this nurse wishes to see him, but her only dying wish is to speak with him just one more time. On the other side of the town, nestled comfortably amongst the gravestones of the local cemetery, Holm (Victor Sjöström, who also directed) and two of his drunken associates merrily await the coming of the New Year. Here we can tell just when to drink\n",
      "INFO:polyjuice.polyjuice_wrapper: | On a dark, gloomy New Year's Eve night, an ill nurse, her life slowly ebbing away, demands that David Holm be presented to her at once. We don't yet know who David Holm is, or why this nurse wishes to see him, but her only dying wish is to speak with him just one more time. On the other side of the town, nestled comfortably amongst the gravestones of the local cemetery, Holm (Victor Sjöström, who also directed) and two of his drunken associates merrily await the coming of the New Year. Here we can tell just when to drink <|perturb|> [negation] [BLANK]\n",
      "INFO:polyjuice.polyjuice_wrapper: | On a dark, gloomy New Year's Eve night, an ill nurse, her life slowly ebbing away, demands that David Holm be presented to her at once. We don't yet know who David Holm is, or why this nurse wishes to see him, but her only dying wish is to speak with him just one more time. On the other side of the town, nestled comfortably amongst the gravestones of the local cemetery, Holm (Victor Sjöström, who also directed) and two of his drunken associates merrily await the coming of the New Year. Here we can tell just when to drink <|perturb|> [negation] On a dark, gloomy New Year's Eve night, an ill nurse, her life slowly ebbing away, demands that David Holm be presented to her at once. We don't yet know who David Holm is, or why this nurse wishes to see him, but her only dying wish is to speak with him just one more time. On the other side of the town, nestled comfortably amongst the gravestones of the local cemetery, Holm (Victor Sjöström, who also directed) and two of his drunken associates merrily await the coming of [BLANK] New Year. Here we can tell just when to drink\n",
      "Setting `pad_token_id` to `eos_token_id`:50256 for open-end generation.\n"
     ]
    },
    {
     "name": "stdout",
     "output_type": "stream",
     "text": [
      "Attempt: 1\n",
      "orig_doc: On a dark, gloomy New Year's Eve night, an ill nurse, her life slowly ebbing away, demands that David Holm be presented to her at once. We don't yet know who David Holm is, or why this nurse wishes to see him, but her only dying wish is to speak with him just one more time. On the other side of the town, nestled comfortably amongst the gravestones of the local cemetery, Holm (Victor Sjöström, who also directed) and two of his drunken associates merrily await the coming of the New Year. Here we can tell just when to drink, ctrl_codes: ['negation'], blanked_sents: {\"On a dark, gloomy New Year's Eve night, an ill nurse, her life slowly ebbing away, demands that [BLANK] Holm be presented to her at once. We don't yet know who David Holm is, or why this nurse wishes to see him, but her only dying wish is to speak with him just one more time. On the other side of the town, nestled comfortably amongst the gravestones of the local cemetery, Holm (Victor Sjöström, who also directed) and two of his drunken associates merrily await the coming of the New Year. Here we can tell just when to drink\", '[BLANK]', \"On a dark, gloomy New Year's Eve night, an ill nurse, her life slowly ebbing away, demands that David Holm be presented to her at once. We don't yet know who David Holm is, or why this nurse wishes to see him, but her only dying wish is to speak with him just one more time. On the other side of the town, nestled comfortably amongst the gravestones of the local cemetery, Holm (Victor Sjöström, who also directed) and two of his drunken associates merrily await the coming of [BLANK] New Year. Here we can tell just when to drink\"}\n",
      "blanked_sents length: 3\n"
     ]
    },
    {
     "name": "stderr",
     "output_type": "stream",
     "text": [
      "Setting `pad_token_id` to `eos_token_id`:50256 for open-end generation.\n",
      "Setting `pad_token_id` to `eos_token_id`:50256 for open-end generation.\n",
      "INFO:polyjuice.polyjuice_wrapper:Generating on these prompts:\n",
      "INFO:polyjuice.polyjuice_wrapper: | On a dark, gloomy New Year's Eve night, an ill nurse, her life slowly ebbing away, demands that David Holm be presented to her at once. We don't yet know who David Holm is, or why this nurse wishes to see him, but her only dying wish is to speak with him just one more time. On the other side of the town, nestled comfortably amongst the gravestones of the local cemetery, Holm (Victor Sjöström, who also directed) and two of his drunken associates merrily await the coming of the New Year. Here we can tell just when to drink <|perturb|> [negation] On a dark, gloomy New Year's Eve night, an ill nurse, her life slowly ebbing away, demands that David Holm be presented to her at once. We don't yet know who David [BLANK] Holm is, or why this nurse wishes to see him, but her only dying wish is to speak with him just one more time. On the other side of the town, nestled comfortably amongst the gravestones of the local cemetery, Holm (Victor Sjöström, who also directed) and two of his drunken associates merrily await the coming of the New Year. Here we can tell just when to drink\n",
      "INFO:polyjuice.polyjuice_wrapper: | On a dark, gloomy New Year's Eve night, an ill nurse, her life slowly ebbing away, demands that David Holm be presented to her at once. We don't yet know who David Holm is, or why this nurse wishes to see him, but her only dying wish is to speak with him just one more time. On the other side of the town, nestled comfortably amongst the gravestones of the local cemetery, Holm (Victor Sjöström, who also directed) and two of his drunken associates merrily await the coming of the New Year. Here we can tell just when to drink <|perturb|> [negation] [BLANK]\n",
      "INFO:polyjuice.polyjuice_wrapper: | On a dark, gloomy New Year's Eve night, an ill nurse, her life slowly ebbing away, demands that David Holm be presented to her at once. We don't yet know who David Holm is, or why this nurse wishes to see him, but her only dying wish is to speak with him just one more time. On the other side of the town, nestled comfortably amongst the gravestones of the local cemetery, Holm (Victor Sjöström, who also directed) and two of his drunken associates merrily await the coming of the New Year. Here we can tell just when to drink <|perturb|> [negation] On a dark, gloomy New Year's Eve night, an ill nurse, her life slowly ebbing away, demands that David Holm be presented to her at once. We don't yet know who David Holm is, or why this nurse wishes to see him, but her only dying wish is to speak with him just one more time. On the other [BLANK] of the town, nestled comfortably amongst the gravestones of the local cemetery, Holm (Victor Sjöström, who also directed) and two of his drunken associates merrily await the coming of the New Year. Here we can tell just when to drink\n",
      "Setting `pad_token_id` to `eos_token_id`:50256 for open-end generation.\n"
     ]
    },
    {
     "name": "stdout",
     "output_type": "stream",
     "text": [
      "Attempt: 2\n",
      "orig_doc: On a dark, gloomy New Year's Eve night, an ill nurse, her life slowly ebbing away, demands that David Holm be presented to her at once. We don't yet know who David Holm is, or why this nurse wishes to see him, but her only dying wish is to speak with him just one more time. On the other side of the town, nestled comfortably amongst the gravestones of the local cemetery, Holm (Victor Sjöström, who also directed) and two of his drunken associates merrily await the coming of the New Year. Here we can tell just when to drink, ctrl_codes: ['negation'], blanked_sents: {\"On a dark, gloomy New Year's Eve night, an ill nurse, her life slowly ebbing away, demands that David Holm be presented to her at once. We don't yet know who David [BLANK] Holm is, or why this nurse wishes to see him, but her only dying wish is to speak with him just one more time. On the other side of the town, nestled comfortably amongst the gravestones of the local cemetery, Holm (Victor Sjöström, who also directed) and two of his drunken associates merrily await the coming of the New Year. Here we can tell just when to drink\", '[BLANK]', \"On a dark, gloomy New Year's Eve night, an ill nurse, her life slowly ebbing away, demands that David Holm be presented to her at once. We don't yet know who David Holm is, or why this nurse wishes to see him, but her only dying wish is to speak with him just one more time. On the other [BLANK] of the town, nestled comfortably amongst the gravestones of the local cemetery, Holm (Victor Sjöström, who also directed) and two of his drunken associates merrily await the coming of the New Year. Here we can tell just when to drink\"}\n",
      "blanked_sents length: 3\n"
     ]
    },
    {
     "name": "stderr",
     "output_type": "stream",
     "text": [
      "Setting `pad_token_id` to `eos_token_id`:50256 for open-end generation.\n",
      "Setting `pad_token_id` to `eos_token_id`:50256 for open-end generation.\n",
      "INFO:polyjuice.polyjuice_wrapper:Generating on these prompts:\n",
      "INFO:polyjuice.polyjuice_wrapper: | On a dark, gloomy New Year's Eve night, an ill nurse, her life slowly ebbing away, demands that David Holm be presented to her at once. We don't yet know who David Holm is, or why this nurse wishes to see him, but her only dying wish is to speak with him just one more time. On the other side of the town, nestled comfortably amongst the gravestones of the local cemetery, Holm (Victor Sjöström, who also directed) and two of his drunken associates merrily await the coming of the New Year. Here we can tell just when to drink <|perturb|> [negation] On a dark, gloomy New Year's Eve night, an ill nurse, her life slowly ebbing away, demands that David Holm be presented to her at once. We don't yet know who David Holm is, or why this nurse wishes to see him, but her only dying wish is to speak [BLANK] with him just one more time. On the other side of the town, nestled comfortably amongst the gravestones of the local cemetery, Holm (Victor Sjöström, who also directed) and two of his drunken associates merrily await the coming of the New Year. Here we can tell just when to drink\n",
      "INFO:polyjuice.polyjuice_wrapper: | On a dark, gloomy New Year's Eve night, an ill nurse, her life slowly ebbing away, demands that David Holm be presented to her at once. We don't yet know who David Holm is, or why this nurse wishes to see him, but her only dying wish is to speak with him just one more time. On the other side of the town, nestled comfortably amongst the gravestones of the local cemetery, Holm (Victor Sjöström, who also directed) and two of his drunken associates merrily await the coming of the New Year. Here we can tell just when to drink <|perturb|> [negation] [BLANK]\n",
      "INFO:polyjuice.polyjuice_wrapper: | On a dark, gloomy New Year's Eve night, an ill nurse, her life slowly ebbing away, demands that David Holm be presented to her at once. We don't yet know who David Holm is, or why this nurse wishes to see him, but her only dying wish is to speak with him just one more time. On the other side of the town, nestled comfortably amongst the gravestones of the local cemetery, Holm (Victor Sjöström, who also directed) and two of his drunken associates merrily await the coming of the New Year. Here we can tell just when to drink <|perturb|> [negation] On a dark, gloomy New Year's Eve night, an ill nurse, her life slowly ebbing away, demands that David Holm be presented to her at once. We don't yet know who David Holm is, or why this nurse wishes to see him, but her only dying wish is to speak with him just one more time. [BLANK], nestled comfortably amongst the gravestones of the local cemetery, Holm (Victor Sjöström, who also directed) and two of his drunken associates merrily await the coming of the New Year. Here we can tell just when to drink\n",
      "Setting `pad_token_id` to `eos_token_id`:50256 for open-end generation.\n"
     ]
    },
    {
     "name": "stdout",
     "output_type": "stream",
     "text": [
      "Attempt: 3\n",
      "orig_doc: On a dark, gloomy New Year's Eve night, an ill nurse, her life slowly ebbing away, demands that David Holm be presented to her at once. We don't yet know who David Holm is, or why this nurse wishes to see him, but her only dying wish is to speak with him just one more time. On the other side of the town, nestled comfortably amongst the gravestones of the local cemetery, Holm (Victor Sjöström, who also directed) and two of his drunken associates merrily await the coming of the New Year. Here we can tell just when to drink, ctrl_codes: ['negation'], blanked_sents: {\"On a dark, gloomy New Year's Eve night, an ill nurse, her life slowly ebbing away, demands that David Holm be presented to her at once. We don't yet know who David Holm is, or why this nurse wishes to see him, but her only dying wish is to speak [BLANK] with him just one more time. On the other side of the town, nestled comfortably amongst the gravestones of the local cemetery, Holm (Victor Sjöström, who also directed) and two of his drunken associates merrily await the coming of the New Year. Here we can tell just when to drink\", '[BLANK]', \"On a dark, gloomy New Year's Eve night, an ill nurse, her life slowly ebbing away, demands that David Holm be presented to her at once. We don't yet know who David Holm is, or why this nurse wishes to see him, but her only dying wish is to speak with him just one more time. [BLANK], nestled comfortably amongst the gravestones of the local cemetery, Holm (Victor Sjöström, who also directed) and two of his drunken associates merrily await the coming of the New Year. Here we can tell just when to drink\"}\n",
      "blanked_sents length: 3\n"
     ]
    },
    {
     "name": "stderr",
     "output_type": "stream",
     "text": [
      "Setting `pad_token_id` to `eos_token_id`:50256 for open-end generation.\n",
      "Setting `pad_token_id` to `eos_token_id`:50256 for open-end generation.\n",
      "INFO:polyjuice.polyjuice_wrapper:Generating on these prompts:\n",
      "INFO:polyjuice.polyjuice_wrapper: | On a dark, gloomy New Year's Eve night, an ill nurse, her life slowly ebbing away, demands that David Holm be presented to her at once. We don't yet know who David Holm is, or why this nurse wishes to see him, but her only dying wish is to speak with him just one more time. On the other side of the town, nestled comfortably amongst the gravestones of the local cemetery, Holm (Victor Sjöström, who also directed) and two of his drunken associates merrily await the coming of the New Year. Here we can tell just when to drink <|perturb|> [negation] On a dark, gloomy New Year's Eve night, an ill nurse, her life slowly ebbing away, demands that David Holm be presented to her at once. We don't yet know who David Holm is, or why this nurse wishes to see him, but her only dying wish is to speak with him just one more time. On the other side of the town, nestled comfortably amongst the gravestones of the local cemetery, Holm (Victor Sjöström, who also directed) and two of his drunken associates merrily await the coming [BLANK] of the New Year. Here we can tell just when to drink\n",
      "INFO:polyjuice.polyjuice_wrapper: | On a dark, gloomy New Year's Eve night, an ill nurse, her life slowly ebbing away, demands that David Holm be presented to her at once. We don't yet know who David Holm is, or why this nurse wishes to see him, but her only dying wish is to speak with him just one more time. On the other side of the town, nestled comfortably amongst the gravestones of the local cemetery, Holm (Victor Sjöström, who also directed) and two of his drunken associates merrily await the coming of the New Year. Here we can tell just when to drink <|perturb|> [negation] On a dark, gloomy New Year's Eve night, an ill nurse, her life slowly ebbing away, demands that David Holm be presented to her at once. We don't yet know who David Holm is, or why this nurse wishes to see him, but her only dying wish is to speak [BLANK] just one more time. On the other side of the town, nestled comfortably amongst the gravestones of the local cemetery, Holm (Victor Sjöström, who also directed) and two of his drunken associates merrily await the coming of the New Year. Here we can tell just when to drink\n",
      "INFO:polyjuice.polyjuice_wrapper: | On a dark, gloomy New Year's Eve night, an ill nurse, her life slowly ebbing away, demands that David Holm be presented to her at once. We don't yet know who David Holm is, or why this nurse wishes to see him, but her only dying wish is to speak with him just one more time. On the other side of the town, nestled comfortably amongst the gravestones of the local cemetery, Holm (Victor Sjöström, who also directed) and two of his drunken associates merrily await the coming of the New Year. Here we can tell just when to drink <|perturb|> [negation] [BLANK]\n",
      "Setting `pad_token_id` to `eos_token_id`:50256 for open-end generation.\n"
     ]
    },
    {
     "name": "stdout",
     "output_type": "stream",
     "text": [
      "Attempt: 4\n",
      "orig_doc: On a dark, gloomy New Year's Eve night, an ill nurse, her life slowly ebbing away, demands that David Holm be presented to her at once. We don't yet know who David Holm is, or why this nurse wishes to see him, but her only dying wish is to speak with him just one more time. On the other side of the town, nestled comfortably amongst the gravestones of the local cemetery, Holm (Victor Sjöström, who also directed) and two of his drunken associates merrily await the coming of the New Year. Here we can tell just when to drink, ctrl_codes: ['negation'], blanked_sents: {\"On a dark, gloomy New Year's Eve night, an ill nurse, her life slowly ebbing away, demands that David Holm be presented to her at once. We don't yet know who David Holm is, or why this nurse wishes to see him, but her only dying wish is to speak with him just one more time. On the other side of the town, nestled comfortably amongst the gravestones of the local cemetery, Holm (Victor Sjöström, who also directed) and two of his drunken associates merrily await the coming [BLANK] of the New Year. Here we can tell just when to drink\", \"On a dark, gloomy New Year's Eve night, an ill nurse, her life slowly ebbing away, demands that David Holm be presented to her at once. We don't yet know who David Holm is, or why this nurse wishes to see him, but her only dying wish is to speak [BLANK] just one more time. On the other side of the town, nestled comfortably amongst the gravestones of the local cemetery, Holm (Victor Sjöström, who also directed) and two of his drunken associates merrily await the coming of the New Year. Here we can tell just when to drink\", '[BLANK]'}\n",
      "blanked_sents length: 3\n"
     ]
    },
    {
     "name": "stderr",
     "output_type": "stream",
     "text": [
      "Setting `pad_token_id` to `eos_token_id`:50256 for open-end generation.\n",
      "Setting `pad_token_id` to `eos_token_id`:50256 for open-end generation.\n",
      "INFO:polyjuice.polyjuice_wrapper:Generating on these prompts:\n",
      "INFO:polyjuice.polyjuice_wrapper: | On a dark, gloomy New Year's Eve night, an ill nurse, her life slowly ebbing away, demands that David Holm be presented to her at once. We don't yet know who David Holm is, or why this nurse wishes to see him, but her only dying wish is to speak with him just one more time. On the other side of the town, nestled comfortably amongst the gravestones of the local cemetery, Holm (Victor Sjöström, who also directed) and two of his drunken associates merrily await the coming of the New Year. Here we can tell just when to drink <|perturb|> [negation] On a dark, gloomy New Year's Eve night, an ill [BLANK], her life slowly ebbing away, demands that David Holm be presented to her at once. We don't yet know who David Holm is, or why this nurse wishes to see him, but her only dying wish is to speak with him just one more time. On the other side of the town, nestled comfortably amongst the gravestones of the local cemetery, Holm (Victor Sjöström, who also directed) and two of his drunken associates merrily await the coming of the New Year. Here we can tell just when to drink\n",
      "INFO:polyjuice.polyjuice_wrapper: | On a dark, gloomy New Year's Eve night, an ill nurse, her life slowly ebbing away, demands that David Holm be presented to her at once. We don't yet know who David Holm is, or why this nurse wishes to see him, but her only dying wish is to speak with him just one more time. On the other side of the town, nestled comfortably amongst the gravestones of the local cemetery, Holm (Victor Sjöström, who also directed) and two of his drunken associates merrily await the coming of the New Year. Here we can tell just when to drink <|perturb|> [negation] On a dark, gloomy New Year's Eve night, an ill nurse, her life slowly ebbing [BLANK] away, demands that David Holm be presented to her at once. We don't yet know who David Holm is, or why this nurse wishes to see him, but her only dying wish is to speak with him just one more time. On the other side of the town, nestled comfortably amongst the gravestones of the local cemetery, Holm (Victor Sjöström, who also directed) and two of his drunken associates merrily await the coming of the New Year. Here we can tell just when to drink\n",
      "INFO:polyjuice.polyjuice_wrapper: | On a dark, gloomy New Year's Eve night, an ill nurse, her life slowly ebbing away, demands that David Holm be presented to her at once. We don't yet know who David Holm is, or why this nurse wishes to see him, but her only dying wish is to speak with him just one more time. On the other side of the town, nestled comfortably amongst the gravestones of the local cemetery, Holm (Victor Sjöström, who also directed) and two of his drunken associates merrily await the coming of the New Year. Here we can tell just when to drink <|perturb|> [negation] [BLANK]\n",
      "Setting `pad_token_id` to `eos_token_id`:50256 for open-end generation.\n"
     ]
    },
    {
     "name": "stdout",
     "output_type": "stream",
     "text": [
      "Attempt: 5\n",
      "orig_doc: On a dark, gloomy New Year's Eve night, an ill nurse, her life slowly ebbing away, demands that David Holm be presented to her at once. We don't yet know who David Holm is, or why this nurse wishes to see him, but her only dying wish is to speak with him just one more time. On the other side of the town, nestled comfortably amongst the gravestones of the local cemetery, Holm (Victor Sjöström, who also directed) and two of his drunken associates merrily await the coming of the New Year. Here we can tell just when to drink, ctrl_codes: ['negation'], blanked_sents: {\"On a dark, gloomy New Year's Eve night, an ill [BLANK], her life slowly ebbing away, demands that David Holm be presented to her at once. We don't yet know who David Holm is, or why this nurse wishes to see him, but her only dying wish is to speak with him just one more time. On the other side of the town, nestled comfortably amongst the gravestones of the local cemetery, Holm (Victor Sjöström, who also directed) and two of his drunken associates merrily await the coming of the New Year. Here we can tell just when to drink\", \"On a dark, gloomy New Year's Eve night, an ill nurse, her life slowly ebbing [BLANK] away, demands that David Holm be presented to her at once. We don't yet know who David Holm is, or why this nurse wishes to see him, but her only dying wish is to speak with him just one more time. On the other side of the town, nestled comfortably amongst the gravestones of the local cemetery, Holm (Victor Sjöström, who also directed) and two of his drunken associates merrily await the coming of the New Year. Here we can tell just when to drink\", '[BLANK]'}\n",
      "blanked_sents length: 3\n"
     ]
    },
    {
     "name": "stderr",
     "output_type": "stream",
     "text": [
      "Setting `pad_token_id` to `eos_token_id`:50256 for open-end generation.\n",
      "Setting `pad_token_id` to `eos_token_id`:50256 for open-end generation.\n"
     ]
    },
    {
     "ename": "KeyboardInterrupt",
     "evalue": "",
     "output_type": "error",
     "traceback": [
      "\u001b[0;31m---------------------------------------------------------------------------\u001b[0m",
      "\u001b[0;31mKeyboardInterrupt\u001b[0m                         Traceback (most recent call last)",
      "Cell \u001b[0;32mIn[51], line 8\u001b[0m\n\u001b[1;32m      6\u001b[0m \u001b[38;5;28;01mfor\u001b[39;00m i \u001b[38;5;129;01min\u001b[39;00m \u001b[38;5;28mrange\u001b[39m(max_attempts):\n\u001b[1;32m      7\u001b[0m     \u001b[38;5;28mprint\u001b[39m(\u001b[38;5;124mf\u001b[39m\u001b[38;5;124m\"\u001b[39m\u001b[38;5;124mAttempt: \u001b[39m\u001b[38;5;132;01m{\u001b[39;00mi\u001b[38;5;250m \u001b[39m\u001b[38;5;241m+\u001b[39m\u001b[38;5;250m \u001b[39m\u001b[38;5;241m1\u001b[39m\u001b[38;5;132;01m}\u001b[39;00m\u001b[38;5;124m\"\u001b[39m)\n\u001b[0;32m----> 8\u001b[0m     perturbations \u001b[38;5;241m=\u001b[39m \u001b[43mpj\u001b[49m\u001b[38;5;241;43m.\u001b[39;49m\u001b[43mperturb\u001b[49m\u001b[43m(\u001b[49m\n\u001b[1;32m      9\u001b[0m \u001b[43m        \u001b[49m\u001b[43morig_sent\u001b[49m\u001b[38;5;241;43m=\u001b[39;49m\u001b[43mtext\u001b[49m\u001b[43m,\u001b[49m\n\u001b[1;32m     10\u001b[0m \u001b[43m        \u001b[49m\u001b[43mctrl_code\u001b[49m\u001b[38;5;241;43m=\u001b[39;49m\u001b[38;5;124;43m\"\u001b[39;49m\u001b[38;5;124;43mnegation\u001b[39;49m\u001b[38;5;124;43m\"\u001b[39;49m\u001b[43m,\u001b[49m\n\u001b[1;32m     11\u001b[0m \u001b[43m        \u001b[49m\u001b[43mnum_perturbations\u001b[49m\u001b[38;5;241;43m=\u001b[39;49m\u001b[38;5;241;43m3\u001b[39;49m\u001b[43m,\u001b[49m\n\u001b[1;32m     12\u001b[0m \u001b[43m        \u001b[49m\u001b[43mperplex_thred\u001b[49m\u001b[38;5;241;43m=\u001b[39;49m\u001b[38;5;28;43;01mNone\u001b[39;49;00m\u001b[43m,\u001b[49m\n\u001b[1;32m     13\u001b[0m \u001b[43m        \u001b[49m\u001b[43mverbose\u001b[49m\u001b[38;5;241;43m=\u001b[39;49m\u001b[38;5;28;43;01mTrue\u001b[39;49;00m\u001b[43m,\u001b[49m\n\u001b[1;32m     14\u001b[0m \u001b[43m    \u001b[49m\u001b[43m)\u001b[49m\n\u001b[1;32m     15\u001b[0m     \u001b[38;5;28;01mif\u001b[39;00m perturbations:\n\u001b[1;32m     16\u001b[0m         \u001b[38;5;28;01mbreak\u001b[39;00m\n",
      "File \u001b[0;32m~/Documents/masters-thesis-code/polyjuice/polyjuice/polyjuice_wrapper.py:259\u001b[0m, in \u001b[0;36mPolyjuice.perturb\u001b[0;34m(self, orig_sent, blanked_sent, is_complete_blank, ctrl_code, perplex_thred, num_perturbations, verbose, **kwargs)\u001b[0m\n\u001b[1;32m    257\u001b[0m     \u001b[38;5;28;01mcontinue\u001b[39;00m\n\u001b[1;32m    258\u001b[0m is_vaild \u001b[38;5;241m=\u001b[39m \u001b[38;5;28;01mTrue\u001b[39;00m\n\u001b[0;32m--> 259\u001b[0m generated_doc \u001b[38;5;241m=\u001b[39m \u001b[38;5;28;43mself\u001b[39;49m\u001b[38;5;241;43m.\u001b[39;49m\u001b[43m_process\u001b[49m\u001b[43m(\u001b[49m\u001b[43mgenerated\u001b[49m\u001b[43m)\u001b[49m\n\u001b[1;32m    260\u001b[0m eop \u001b[38;5;241m=\u001b[39m compute_edit_ops(orig_doc, generated_doc)\n\u001b[1;32m    261\u001b[0m \u001b[38;5;28;01mif\u001b[39;00m perplex_thred \u001b[38;5;129;01mis\u001b[39;00m \u001b[38;5;129;01mnot\u001b[39;00m \u001b[38;5;28;01mNone\u001b[39;00m:\n",
      "File \u001b[0;32m~/Documents/masters-thesis-code/polyjuice/polyjuice/polyjuice_wrapper.py:88\u001b[0m, in \u001b[0;36mPolyjuice._process\u001b[0;34m(self, sentence)\u001b[0m\n\u001b[1;32m     86\u001b[0m \u001b[38;5;28;01mdef\u001b[39;00m \u001b[38;5;21m_process\u001b[39m(\u001b[38;5;28mself\u001b[39m, sentence: \u001b[38;5;28mstr\u001b[39m):\n\u001b[1;32m     87\u001b[0m     \u001b[38;5;28;01mif\u001b[39;00m \u001b[38;5;129;01mnot\u001b[39;00m \u001b[38;5;28mself\u001b[39m\u001b[38;5;241m.\u001b[39mvalidate_and_load_model(\u001b[38;5;124m\"\u001b[39m\u001b[38;5;124mspacy_processor\u001b[39m\u001b[38;5;124m\"\u001b[39m): \u001b[38;5;28;01mreturn\u001b[39;00m \u001b[38;5;28;01mNone\u001b[39;00m\n\u001b[0;32m---> 88\u001b[0m     \u001b[38;5;28;01mreturn\u001b[39;00m \u001b[38;5;28;43mself\u001b[39;49m\u001b[38;5;241;43m.\u001b[39;49m\u001b[43mspacy_processor\u001b[49m\u001b[43m(\u001b[49m\u001b[38;5;28;43mstr\u001b[39;49m\u001b[43m(\u001b[49m\u001b[43msentence\u001b[49m\u001b[43m)\u001b[49m\u001b[43m)\u001b[49m\n",
      "File \u001b[0;32m~/Documents/masters-thesis-code/.env/lib/python3.12/site-packages/spacy/language.py:1049\u001b[0m, in \u001b[0;36mLanguage.__call__\u001b[0;34m(self, text, disable, component_cfg)\u001b[0m\n\u001b[1;32m   1047\u001b[0m     error_handler \u001b[38;5;241m=\u001b[39m proc\u001b[38;5;241m.\u001b[39mget_error_handler()\n\u001b[1;32m   1048\u001b[0m \u001b[38;5;28;01mtry\u001b[39;00m:\n\u001b[0;32m-> 1049\u001b[0m     doc \u001b[38;5;241m=\u001b[39m \u001b[43mproc\u001b[49m\u001b[43m(\u001b[49m\u001b[43mdoc\u001b[49m\u001b[43m,\u001b[49m\u001b[43m \u001b[49m\u001b[38;5;241;43m*\u001b[39;49m\u001b[38;5;241;43m*\u001b[39;49m\u001b[43mcomponent_cfg\u001b[49m\u001b[38;5;241;43m.\u001b[39;49m\u001b[43mget\u001b[49m\u001b[43m(\u001b[49m\u001b[43mname\u001b[49m\u001b[43m,\u001b[49m\u001b[43m \u001b[49m\u001b[43m{\u001b[49m\u001b[43m}\u001b[49m\u001b[43m)\u001b[49m\u001b[43m)\u001b[49m  \u001b[38;5;66;03m# type: ignore[call-arg]\u001b[39;00m\n\u001b[1;32m   1050\u001b[0m \u001b[38;5;28;01mexcept\u001b[39;00m \u001b[38;5;167;01mKeyError\u001b[39;00m \u001b[38;5;28;01mas\u001b[39;00m e:\n\u001b[1;32m   1051\u001b[0m     \u001b[38;5;66;03m# This typically happens if a component is not initialized\u001b[39;00m\n\u001b[1;32m   1052\u001b[0m     \u001b[38;5;28;01mraise\u001b[39;00m \u001b[38;5;167;01mValueError\u001b[39;00m(Errors\u001b[38;5;241m.\u001b[39mE109\u001b[38;5;241m.\u001b[39mformat(name\u001b[38;5;241m=\u001b[39mname)) \u001b[38;5;28;01mfrom\u001b[39;00m \u001b[38;5;21;01me\u001b[39;00m\n",
      "File \u001b[0;32m~/Documents/masters-thesis-code/.env/lib/python3.12/site-packages/spacy/pipeline/trainable_pipe.pyx:52\u001b[0m, in \u001b[0;36mspacy.pipeline.trainable_pipe.TrainablePipe.__call__\u001b[0;34m()\u001b[0m\n",
      "File \u001b[0;32m~/Documents/masters-thesis-code/.env/lib/python3.12/site-packages/spacy/pipeline/transition_parser.pyx:264\u001b[0m, in \u001b[0;36mspacy.pipeline.transition_parser.Parser.predict\u001b[0;34m()\u001b[0m\n",
      "File \u001b[0;32m~/Documents/masters-thesis-code/.env/lib/python3.12/site-packages/spacy/pipeline/transition_parser.pyx:285\u001b[0m, in \u001b[0;36mspacy.pipeline.transition_parser.Parser.greedy_parse\u001b[0;34m()\u001b[0m\n",
      "File \u001b[0;32m~/Documents/masters-thesis-code/.env/lib/python3.12/site-packages/thinc/model.py:334\u001b[0m, in \u001b[0;36mModel.predict\u001b[0;34m(self, X)\u001b[0m\n\u001b[1;32m    330\u001b[0m \u001b[38;5;28;01mdef\u001b[39;00m \u001b[38;5;21mpredict\u001b[39m(\u001b[38;5;28mself\u001b[39m, X: InT) \u001b[38;5;241m-\u001b[39m\u001b[38;5;241m>\u001b[39m OutT:\n\u001b[1;32m    331\u001b[0m \u001b[38;5;250m    \u001b[39m\u001b[38;5;124;03m\"\"\"Call the model's `forward` function with `is_train=False`, and return\u001b[39;00m\n\u001b[1;32m    332\u001b[0m \u001b[38;5;124;03m    only the output, instead of the `(output, callback)` tuple.\u001b[39;00m\n\u001b[1;32m    333\u001b[0m \u001b[38;5;124;03m    \"\"\"\u001b[39;00m\n\u001b[0;32m--> 334\u001b[0m     \u001b[38;5;28;01mreturn\u001b[39;00m \u001b[38;5;28;43mself\u001b[39;49m\u001b[38;5;241;43m.\u001b[39;49m\u001b[43m_func\u001b[49m\u001b[43m(\u001b[49m\u001b[38;5;28;43mself\u001b[39;49m\u001b[43m,\u001b[49m\u001b[43m \u001b[49m\u001b[43mX\u001b[49m\u001b[43m,\u001b[49m\u001b[43m \u001b[49m\u001b[43mis_train\u001b[49m\u001b[38;5;241;43m=\u001b[39;49m\u001b[38;5;28;43;01mFalse\u001b[39;49;00m\u001b[43m)\u001b[49m[\u001b[38;5;241m0\u001b[39m]\n",
      "File \u001b[0;32m~/Documents/masters-thesis-code/.env/lib/python3.12/site-packages/spacy/ml/tb_framework.py:34\u001b[0m, in \u001b[0;36mforward\u001b[0;34m(model, X, is_train)\u001b[0m\n\u001b[1;32m     33\u001b[0m \u001b[38;5;28;01mdef\u001b[39;00m \u001b[38;5;21mforward\u001b[39m(model, X, is_train):\n\u001b[0;32m---> 34\u001b[0m     step_model \u001b[38;5;241m=\u001b[39m \u001b[43mParserStepModel\u001b[49m\u001b[43m(\u001b[49m\n\u001b[1;32m     35\u001b[0m \u001b[43m        \u001b[49m\u001b[43mX\u001b[49m\u001b[43m,\u001b[49m\n\u001b[1;32m     36\u001b[0m \u001b[43m        \u001b[49m\u001b[43mmodel\u001b[49m\u001b[38;5;241;43m.\u001b[39;49m\u001b[43mlayers\u001b[49m\u001b[43m,\u001b[49m\n\u001b[1;32m     37\u001b[0m \u001b[43m        \u001b[49m\u001b[43munseen_classes\u001b[49m\u001b[38;5;241;43m=\u001b[39;49m\u001b[43mmodel\u001b[49m\u001b[38;5;241;43m.\u001b[39;49m\u001b[43mattrs\u001b[49m\u001b[43m[\u001b[49m\u001b[38;5;124;43m\"\u001b[39;49m\u001b[38;5;124;43munseen_classes\u001b[39;49m\u001b[38;5;124;43m\"\u001b[39;49m\u001b[43m]\u001b[49m\u001b[43m,\u001b[49m\n\u001b[1;32m     38\u001b[0m \u001b[43m        \u001b[49m\u001b[43mtrain\u001b[49m\u001b[38;5;241;43m=\u001b[39;49m\u001b[43mis_train\u001b[49m\u001b[43m,\u001b[49m\n\u001b[1;32m     39\u001b[0m \u001b[43m        \u001b[49m\u001b[43mhas_upper\u001b[49m\u001b[38;5;241;43m=\u001b[39;49m\u001b[43mmodel\u001b[49m\u001b[38;5;241;43m.\u001b[39;49m\u001b[43mattrs\u001b[49m\u001b[43m[\u001b[49m\u001b[38;5;124;43m\"\u001b[39;49m\u001b[38;5;124;43mhas_upper\u001b[39;49m\u001b[38;5;124;43m\"\u001b[39;49m\u001b[43m]\u001b[49m\u001b[43m,\u001b[49m\n\u001b[1;32m     40\u001b[0m \u001b[43m    \u001b[49m\u001b[43m)\u001b[49m\n\u001b[1;32m     42\u001b[0m     \u001b[38;5;28;01mreturn\u001b[39;00m step_model, step_model\u001b[38;5;241m.\u001b[39mfinish_steps\n",
      "File \u001b[0;32m~/Documents/masters-thesis-code/.env/lib/python3.12/site-packages/spacy/ml/parser_model.pyx:250\u001b[0m, in \u001b[0;36mspacy.ml.parser_model.ParserStepModel.__init__\u001b[0;34m()\u001b[0m\n",
      "File \u001b[0;32m~/Documents/masters-thesis-code/.env/lib/python3.12/site-packages/thinc/model.py:310\u001b[0m, in \u001b[0;36mModel.__call__\u001b[0;34m(self, X, is_train)\u001b[0m\n\u001b[1;32m    307\u001b[0m \u001b[38;5;28;01mdef\u001b[39;00m \u001b[38;5;21m__call__\u001b[39m(\u001b[38;5;28mself\u001b[39m, X: InT, is_train: \u001b[38;5;28mbool\u001b[39m) \u001b[38;5;241m-\u001b[39m\u001b[38;5;241m>\u001b[39m Tuple[OutT, Callable]:\n\u001b[1;32m    308\u001b[0m \u001b[38;5;250m    \u001b[39m\u001b[38;5;124;03m\"\"\"Call the model's `forward` function, returning the output and a\u001b[39;00m\n\u001b[1;32m    309\u001b[0m \u001b[38;5;124;03m    callback to compute the gradients via backpropagation.\"\"\"\u001b[39;00m\n\u001b[0;32m--> 310\u001b[0m     \u001b[38;5;28;01mreturn\u001b[39;00m \u001b[38;5;28;43mself\u001b[39;49m\u001b[38;5;241;43m.\u001b[39;49m\u001b[43m_func\u001b[49m\u001b[43m(\u001b[49m\u001b[38;5;28;43mself\u001b[39;49m\u001b[43m,\u001b[49m\u001b[43m \u001b[49m\u001b[43mX\u001b[49m\u001b[43m,\u001b[49m\u001b[43m \u001b[49m\u001b[43mis_train\u001b[49m\u001b[38;5;241;43m=\u001b[39;49m\u001b[43mis_train\u001b[49m\u001b[43m)\u001b[49m\n",
      "File \u001b[0;32m~/Documents/masters-thesis-code/.env/lib/python3.12/site-packages/thinc/layers/chain.py:54\u001b[0m, in \u001b[0;36mforward\u001b[0;34m(model, X, is_train)\u001b[0m\n\u001b[1;32m     52\u001b[0m callbacks \u001b[38;5;241m=\u001b[39m []\n\u001b[1;32m     53\u001b[0m \u001b[38;5;28;01mfor\u001b[39;00m layer \u001b[38;5;129;01min\u001b[39;00m model\u001b[38;5;241m.\u001b[39mlayers:\n\u001b[0;32m---> 54\u001b[0m     Y, inc_layer_grad \u001b[38;5;241m=\u001b[39m \u001b[43mlayer\u001b[49m\u001b[43m(\u001b[49m\u001b[43mX\u001b[49m\u001b[43m,\u001b[49m\u001b[43m \u001b[49m\u001b[43mis_train\u001b[49m\u001b[38;5;241;43m=\u001b[39;49m\u001b[43mis_train\u001b[49m\u001b[43m)\u001b[49m\n\u001b[1;32m     55\u001b[0m     callbacks\u001b[38;5;241m.\u001b[39mappend(inc_layer_grad)\n\u001b[1;32m     56\u001b[0m     X \u001b[38;5;241m=\u001b[39m Y\n",
      "File \u001b[0;32m~/Documents/masters-thesis-code/.env/lib/python3.12/site-packages/thinc/model.py:310\u001b[0m, in \u001b[0;36mModel.__call__\u001b[0;34m(self, X, is_train)\u001b[0m\n\u001b[1;32m    307\u001b[0m \u001b[38;5;28;01mdef\u001b[39;00m \u001b[38;5;21m__call__\u001b[39m(\u001b[38;5;28mself\u001b[39m, X: InT, is_train: \u001b[38;5;28mbool\u001b[39m) \u001b[38;5;241m-\u001b[39m\u001b[38;5;241m>\u001b[39m Tuple[OutT, Callable]:\n\u001b[1;32m    308\u001b[0m \u001b[38;5;250m    \u001b[39m\u001b[38;5;124;03m\"\"\"Call the model's `forward` function, returning the output and a\u001b[39;00m\n\u001b[1;32m    309\u001b[0m \u001b[38;5;124;03m    callback to compute the gradients via backpropagation.\"\"\"\u001b[39;00m\n\u001b[0;32m--> 310\u001b[0m     \u001b[38;5;28;01mreturn\u001b[39;00m \u001b[38;5;28;43mself\u001b[39;49m\u001b[38;5;241;43m.\u001b[39;49m\u001b[43m_func\u001b[49m\u001b[43m(\u001b[49m\u001b[38;5;28;43mself\u001b[39;49m\u001b[43m,\u001b[49m\u001b[43m \u001b[49m\u001b[43mX\u001b[49m\u001b[43m,\u001b[49m\u001b[43m \u001b[49m\u001b[43mis_train\u001b[49m\u001b[38;5;241;43m=\u001b[39;49m\u001b[43mis_train\u001b[49m\u001b[43m)\u001b[49m\n",
      "File \u001b[0;32m~/Documents/masters-thesis-code/.env/lib/python3.12/site-packages/thinc/layers/chain.py:54\u001b[0m, in \u001b[0;36mforward\u001b[0;34m(model, X, is_train)\u001b[0m\n\u001b[1;32m     52\u001b[0m callbacks \u001b[38;5;241m=\u001b[39m []\n\u001b[1;32m     53\u001b[0m \u001b[38;5;28;01mfor\u001b[39;00m layer \u001b[38;5;129;01min\u001b[39;00m model\u001b[38;5;241m.\u001b[39mlayers:\n\u001b[0;32m---> 54\u001b[0m     Y, inc_layer_grad \u001b[38;5;241m=\u001b[39m \u001b[43mlayer\u001b[49m\u001b[43m(\u001b[49m\u001b[43mX\u001b[49m\u001b[43m,\u001b[49m\u001b[43m \u001b[49m\u001b[43mis_train\u001b[49m\u001b[38;5;241;43m=\u001b[39;49m\u001b[43mis_train\u001b[49m\u001b[43m)\u001b[49m\n\u001b[1;32m     55\u001b[0m     callbacks\u001b[38;5;241m.\u001b[39mappend(inc_layer_grad)\n\u001b[1;32m     56\u001b[0m     X \u001b[38;5;241m=\u001b[39m Y\n",
      "File \u001b[0;32m~/Documents/masters-thesis-code/.env/lib/python3.12/site-packages/thinc/model.py:310\u001b[0m, in \u001b[0;36mModel.__call__\u001b[0;34m(self, X, is_train)\u001b[0m\n\u001b[1;32m    307\u001b[0m \u001b[38;5;28;01mdef\u001b[39;00m \u001b[38;5;21m__call__\u001b[39m(\u001b[38;5;28mself\u001b[39m, X: InT, is_train: \u001b[38;5;28mbool\u001b[39m) \u001b[38;5;241m-\u001b[39m\u001b[38;5;241m>\u001b[39m Tuple[OutT, Callable]:\n\u001b[1;32m    308\u001b[0m \u001b[38;5;250m    \u001b[39m\u001b[38;5;124;03m\"\"\"Call the model's `forward` function, returning the output and a\u001b[39;00m\n\u001b[1;32m    309\u001b[0m \u001b[38;5;124;03m    callback to compute the gradients via backpropagation.\"\"\"\u001b[39;00m\n\u001b[0;32m--> 310\u001b[0m     \u001b[38;5;28;01mreturn\u001b[39;00m \u001b[38;5;28;43mself\u001b[39;49m\u001b[38;5;241;43m.\u001b[39;49m\u001b[43m_func\u001b[49m\u001b[43m(\u001b[49m\u001b[38;5;28;43mself\u001b[39;49m\u001b[43m,\u001b[49m\u001b[43m \u001b[49m\u001b[43mX\u001b[49m\u001b[43m,\u001b[49m\u001b[43m \u001b[49m\u001b[43mis_train\u001b[49m\u001b[38;5;241;43m=\u001b[39;49m\u001b[43mis_train\u001b[49m\u001b[43m)\u001b[49m\n",
      "File \u001b[0;32m~/Documents/masters-thesis-code/.env/lib/python3.12/site-packages/thinc/layers/with_array.py:42\u001b[0m, in \u001b[0;36mforward\u001b[0;34m(model, Xseq, is_train)\u001b[0m\n\u001b[1;32m     40\u001b[0m     \u001b[38;5;28;01mreturn\u001b[39;00m model\u001b[38;5;241m.\u001b[39mlayers[\u001b[38;5;241m0\u001b[39m](Xseq, is_train)\n\u001b[1;32m     41\u001b[0m \u001b[38;5;28;01melse\u001b[39;00m:\n\u001b[0;32m---> 42\u001b[0m     \u001b[38;5;28;01mreturn\u001b[39;00m cast(Tuple[SeqT, Callable], \u001b[43m_list_forward\u001b[49m\u001b[43m(\u001b[49m\u001b[43mmodel\u001b[49m\u001b[43m,\u001b[49m\u001b[43m \u001b[49m\u001b[43mXseq\u001b[49m\u001b[43m,\u001b[49m\u001b[43m \u001b[49m\u001b[43mis_train\u001b[49m\u001b[43m)\u001b[49m)\n",
      "File \u001b[0;32m~/Documents/masters-thesis-code/.env/lib/python3.12/site-packages/thinc/layers/with_array.py:77\u001b[0m, in \u001b[0;36m_list_forward\u001b[0;34m(model, Xs, is_train)\u001b[0m\n\u001b[1;32m     75\u001b[0m lengths \u001b[38;5;241m=\u001b[39m NUMPY_OPS\u001b[38;5;241m.\u001b[39masarray1i([\u001b[38;5;28mlen\u001b[39m(seq) \u001b[38;5;28;01mfor\u001b[39;00m seq \u001b[38;5;129;01min\u001b[39;00m Xs])\n\u001b[1;32m     76\u001b[0m Xf \u001b[38;5;241m=\u001b[39m layer\u001b[38;5;241m.\u001b[39mops\u001b[38;5;241m.\u001b[39mflatten(Xs, pad\u001b[38;5;241m=\u001b[39mpad)\n\u001b[0;32m---> 77\u001b[0m Yf, get_dXf \u001b[38;5;241m=\u001b[39m \u001b[43mlayer\u001b[49m\u001b[43m(\u001b[49m\u001b[43mXf\u001b[49m\u001b[43m,\u001b[49m\u001b[43m \u001b[49m\u001b[43mis_train\u001b[49m\u001b[43m)\u001b[49m\n\u001b[1;32m     79\u001b[0m \u001b[38;5;28;01mdef\u001b[39;00m \u001b[38;5;21mbackprop\u001b[39m(dYs: ListXd) \u001b[38;5;241m-\u001b[39m\u001b[38;5;241m>\u001b[39m ListXd:\n\u001b[1;32m     80\u001b[0m     dYf \u001b[38;5;241m=\u001b[39m layer\u001b[38;5;241m.\u001b[39mops\u001b[38;5;241m.\u001b[39mflatten(dYs, pad\u001b[38;5;241m=\u001b[39mpad)\n",
      "File \u001b[0;32m~/Documents/masters-thesis-code/.env/lib/python3.12/site-packages/thinc/model.py:310\u001b[0m, in \u001b[0;36mModel.__call__\u001b[0;34m(self, X, is_train)\u001b[0m\n\u001b[1;32m    307\u001b[0m \u001b[38;5;28;01mdef\u001b[39;00m \u001b[38;5;21m__call__\u001b[39m(\u001b[38;5;28mself\u001b[39m, X: InT, is_train: \u001b[38;5;28mbool\u001b[39m) \u001b[38;5;241m-\u001b[39m\u001b[38;5;241m>\u001b[39m Tuple[OutT, Callable]:\n\u001b[1;32m    308\u001b[0m \u001b[38;5;250m    \u001b[39m\u001b[38;5;124;03m\"\"\"Call the model's `forward` function, returning the output and a\u001b[39;00m\n\u001b[1;32m    309\u001b[0m \u001b[38;5;124;03m    callback to compute the gradients via backpropagation.\"\"\"\u001b[39;00m\n\u001b[0;32m--> 310\u001b[0m     \u001b[38;5;28;01mreturn\u001b[39;00m \u001b[38;5;28;43mself\u001b[39;49m\u001b[38;5;241;43m.\u001b[39;49m\u001b[43m_func\u001b[49m\u001b[43m(\u001b[49m\u001b[38;5;28;43mself\u001b[39;49m\u001b[43m,\u001b[49m\u001b[43m \u001b[49m\u001b[43mX\u001b[49m\u001b[43m,\u001b[49m\u001b[43m \u001b[49m\u001b[43mis_train\u001b[49m\u001b[38;5;241;43m=\u001b[39;49m\u001b[43mis_train\u001b[49m\u001b[43m)\u001b[49m\n",
      "File \u001b[0;32m~/Documents/masters-thesis-code/.env/lib/python3.12/site-packages/thinc/layers/chain.py:54\u001b[0m, in \u001b[0;36mforward\u001b[0;34m(model, X, is_train)\u001b[0m\n\u001b[1;32m     52\u001b[0m callbacks \u001b[38;5;241m=\u001b[39m []\n\u001b[1;32m     53\u001b[0m \u001b[38;5;28;01mfor\u001b[39;00m layer \u001b[38;5;129;01min\u001b[39;00m model\u001b[38;5;241m.\u001b[39mlayers:\n\u001b[0;32m---> 54\u001b[0m     Y, inc_layer_grad \u001b[38;5;241m=\u001b[39m \u001b[43mlayer\u001b[49m\u001b[43m(\u001b[49m\u001b[43mX\u001b[49m\u001b[43m,\u001b[49m\u001b[43m \u001b[49m\u001b[43mis_train\u001b[49m\u001b[38;5;241;43m=\u001b[39;49m\u001b[43mis_train\u001b[49m\u001b[43m)\u001b[49m\n\u001b[1;32m     55\u001b[0m     callbacks\u001b[38;5;241m.\u001b[39mappend(inc_layer_grad)\n\u001b[1;32m     56\u001b[0m     X \u001b[38;5;241m=\u001b[39m Y\n",
      "File \u001b[0;32m~/Documents/masters-thesis-code/.env/lib/python3.12/site-packages/thinc/model.py:310\u001b[0m, in \u001b[0;36mModel.__call__\u001b[0;34m(self, X, is_train)\u001b[0m\n\u001b[1;32m    307\u001b[0m \u001b[38;5;28;01mdef\u001b[39;00m \u001b[38;5;21m__call__\u001b[39m(\u001b[38;5;28mself\u001b[39m, X: InT, is_train: \u001b[38;5;28mbool\u001b[39m) \u001b[38;5;241m-\u001b[39m\u001b[38;5;241m>\u001b[39m Tuple[OutT, Callable]:\n\u001b[1;32m    308\u001b[0m \u001b[38;5;250m    \u001b[39m\u001b[38;5;124;03m\"\"\"Call the model's `forward` function, returning the output and a\u001b[39;00m\n\u001b[1;32m    309\u001b[0m \u001b[38;5;124;03m    callback to compute the gradients via backpropagation.\"\"\"\u001b[39;00m\n\u001b[0;32m--> 310\u001b[0m     \u001b[38;5;28;01mreturn\u001b[39;00m \u001b[38;5;28;43mself\u001b[39;49m\u001b[38;5;241;43m.\u001b[39;49m\u001b[43m_func\u001b[49m\u001b[43m(\u001b[49m\u001b[38;5;28;43mself\u001b[39;49m\u001b[43m,\u001b[49m\u001b[43m \u001b[49m\u001b[43mX\u001b[49m\u001b[43m,\u001b[49m\u001b[43m \u001b[49m\u001b[43mis_train\u001b[49m\u001b[38;5;241;43m=\u001b[39;49m\u001b[43mis_train\u001b[49m\u001b[43m)\u001b[49m\n",
      "File \u001b[0;32m~/Documents/masters-thesis-code/.env/lib/python3.12/site-packages/thinc/layers/residual.py:41\u001b[0m, in \u001b[0;36mforward\u001b[0;34m(model, X, is_train)\u001b[0m\n\u001b[1;32m     38\u001b[0m     \u001b[38;5;28;01melse\u001b[39;00m:\n\u001b[1;32m     39\u001b[0m         \u001b[38;5;28;01mreturn\u001b[39;00m d_output \u001b[38;5;241m+\u001b[39m dX\n\u001b[0;32m---> 41\u001b[0m Y, backprop_layer \u001b[38;5;241m=\u001b[39m \u001b[43mmodel\u001b[49m\u001b[38;5;241;43m.\u001b[39;49m\u001b[43mlayers\u001b[49m\u001b[43m[\u001b[49m\u001b[38;5;241;43m0\u001b[39;49m\u001b[43m]\u001b[49m\u001b[43m(\u001b[49m\u001b[43mX\u001b[49m\u001b[43m,\u001b[49m\u001b[43m \u001b[49m\u001b[43mis_train\u001b[49m\u001b[43m)\u001b[49m\n\u001b[1;32m     42\u001b[0m \u001b[38;5;28;01mif\u001b[39;00m \u001b[38;5;28misinstance\u001b[39m(X, \u001b[38;5;28mlist\u001b[39m):\n\u001b[1;32m     43\u001b[0m     \u001b[38;5;28;01mreturn\u001b[39;00m [X[i] \u001b[38;5;241m+\u001b[39m Y[i] \u001b[38;5;28;01mfor\u001b[39;00m i \u001b[38;5;129;01min\u001b[39;00m \u001b[38;5;28mrange\u001b[39m(\u001b[38;5;28mlen\u001b[39m(X))], backprop\n",
      "File \u001b[0;32m~/Documents/masters-thesis-code/.env/lib/python3.12/site-packages/thinc/model.py:310\u001b[0m, in \u001b[0;36mModel.__call__\u001b[0;34m(self, X, is_train)\u001b[0m\n\u001b[1;32m    307\u001b[0m \u001b[38;5;28;01mdef\u001b[39;00m \u001b[38;5;21m__call__\u001b[39m(\u001b[38;5;28mself\u001b[39m, X: InT, is_train: \u001b[38;5;28mbool\u001b[39m) \u001b[38;5;241m-\u001b[39m\u001b[38;5;241m>\u001b[39m Tuple[OutT, Callable]:\n\u001b[1;32m    308\u001b[0m \u001b[38;5;250m    \u001b[39m\u001b[38;5;124;03m\"\"\"Call the model's `forward` function, returning the output and a\u001b[39;00m\n\u001b[1;32m    309\u001b[0m \u001b[38;5;124;03m    callback to compute the gradients via backpropagation.\"\"\"\u001b[39;00m\n\u001b[0;32m--> 310\u001b[0m     \u001b[38;5;28;01mreturn\u001b[39;00m \u001b[38;5;28;43mself\u001b[39;49m\u001b[38;5;241;43m.\u001b[39;49m\u001b[43m_func\u001b[49m\u001b[43m(\u001b[49m\u001b[38;5;28;43mself\u001b[39;49m\u001b[43m,\u001b[49m\u001b[43m \u001b[49m\u001b[43mX\u001b[49m\u001b[43m,\u001b[49m\u001b[43m \u001b[49m\u001b[43mis_train\u001b[49m\u001b[38;5;241;43m=\u001b[39;49m\u001b[43mis_train\u001b[49m\u001b[43m)\u001b[49m\n",
      "File \u001b[0;32m~/Documents/masters-thesis-code/.env/lib/python3.12/site-packages/thinc/layers/chain.py:54\u001b[0m, in \u001b[0;36mforward\u001b[0;34m(model, X, is_train)\u001b[0m\n\u001b[1;32m     52\u001b[0m callbacks \u001b[38;5;241m=\u001b[39m []\n\u001b[1;32m     53\u001b[0m \u001b[38;5;28;01mfor\u001b[39;00m layer \u001b[38;5;129;01min\u001b[39;00m model\u001b[38;5;241m.\u001b[39mlayers:\n\u001b[0;32m---> 54\u001b[0m     Y, inc_layer_grad \u001b[38;5;241m=\u001b[39m \u001b[43mlayer\u001b[49m\u001b[43m(\u001b[49m\u001b[43mX\u001b[49m\u001b[43m,\u001b[49m\u001b[43m \u001b[49m\u001b[43mis_train\u001b[49m\u001b[38;5;241;43m=\u001b[39;49m\u001b[43mis_train\u001b[49m\u001b[43m)\u001b[49m\n\u001b[1;32m     55\u001b[0m     callbacks\u001b[38;5;241m.\u001b[39mappend(inc_layer_grad)\n\u001b[1;32m     56\u001b[0m     X \u001b[38;5;241m=\u001b[39m Y\n",
      "File \u001b[0;32m~/Documents/masters-thesis-code/.env/lib/python3.12/site-packages/thinc/model.py:310\u001b[0m, in \u001b[0;36mModel.__call__\u001b[0;34m(self, X, is_train)\u001b[0m\n\u001b[1;32m    307\u001b[0m \u001b[38;5;28;01mdef\u001b[39;00m \u001b[38;5;21m__call__\u001b[39m(\u001b[38;5;28mself\u001b[39m, X: InT, is_train: \u001b[38;5;28mbool\u001b[39m) \u001b[38;5;241m-\u001b[39m\u001b[38;5;241m>\u001b[39m Tuple[OutT, Callable]:\n\u001b[1;32m    308\u001b[0m \u001b[38;5;250m    \u001b[39m\u001b[38;5;124;03m\"\"\"Call the model's `forward` function, returning the output and a\u001b[39;00m\n\u001b[1;32m    309\u001b[0m \u001b[38;5;124;03m    callback to compute the gradients via backpropagation.\"\"\"\u001b[39;00m\n\u001b[0;32m--> 310\u001b[0m     \u001b[38;5;28;01mreturn\u001b[39;00m \u001b[38;5;28;43mself\u001b[39;49m\u001b[38;5;241;43m.\u001b[39;49m\u001b[43m_func\u001b[49m\u001b[43m(\u001b[49m\u001b[38;5;28;43mself\u001b[39;49m\u001b[43m,\u001b[49m\u001b[43m \u001b[49m\u001b[43mX\u001b[49m\u001b[43m,\u001b[49m\u001b[43m \u001b[49m\u001b[43mis_train\u001b[49m\u001b[38;5;241;43m=\u001b[39;49m\u001b[43mis_train\u001b[49m\u001b[43m)\u001b[49m\n",
      "File \u001b[0;32m~/Documents/masters-thesis-code/.env/lib/python3.12/site-packages/thinc/layers/chain.py:54\u001b[0m, in \u001b[0;36mforward\u001b[0;34m(model, X, is_train)\u001b[0m\n\u001b[1;32m     52\u001b[0m callbacks \u001b[38;5;241m=\u001b[39m []\n\u001b[1;32m     53\u001b[0m \u001b[38;5;28;01mfor\u001b[39;00m layer \u001b[38;5;129;01min\u001b[39;00m model\u001b[38;5;241m.\u001b[39mlayers:\n\u001b[0;32m---> 54\u001b[0m     Y, inc_layer_grad \u001b[38;5;241m=\u001b[39m \u001b[43mlayer\u001b[49m\u001b[43m(\u001b[49m\u001b[43mX\u001b[49m\u001b[43m,\u001b[49m\u001b[43m \u001b[49m\u001b[43mis_train\u001b[49m\u001b[38;5;241;43m=\u001b[39;49m\u001b[43mis_train\u001b[49m\u001b[43m)\u001b[49m\n\u001b[1;32m     55\u001b[0m     callbacks\u001b[38;5;241m.\u001b[39mappend(inc_layer_grad)\n\u001b[1;32m     56\u001b[0m     X \u001b[38;5;241m=\u001b[39m Y\n",
      "    \u001b[0;31m[... skipping similar frames: Model.__call__ at line 310 (1 times)]\u001b[0m\n",
      "File \u001b[0;32m~/Documents/masters-thesis-code/.env/lib/python3.12/site-packages/thinc/layers/chain.py:54\u001b[0m, in \u001b[0;36mforward\u001b[0;34m(model, X, is_train)\u001b[0m\n\u001b[1;32m     52\u001b[0m callbacks \u001b[38;5;241m=\u001b[39m []\n\u001b[1;32m     53\u001b[0m \u001b[38;5;28;01mfor\u001b[39;00m layer \u001b[38;5;129;01min\u001b[39;00m model\u001b[38;5;241m.\u001b[39mlayers:\n\u001b[0;32m---> 54\u001b[0m     Y, inc_layer_grad \u001b[38;5;241m=\u001b[39m \u001b[43mlayer\u001b[49m\u001b[43m(\u001b[49m\u001b[43mX\u001b[49m\u001b[43m,\u001b[49m\u001b[43m \u001b[49m\u001b[43mis_train\u001b[49m\u001b[38;5;241;43m=\u001b[39;49m\u001b[43mis_train\u001b[49m\u001b[43m)\u001b[49m\n\u001b[1;32m     55\u001b[0m     callbacks\u001b[38;5;241m.\u001b[39mappend(inc_layer_grad)\n\u001b[1;32m     56\u001b[0m     X \u001b[38;5;241m=\u001b[39m Y\n",
      "File \u001b[0;32m~/Documents/masters-thesis-code/.env/lib/python3.12/site-packages/thinc/model.py:310\u001b[0m, in \u001b[0;36mModel.__call__\u001b[0;34m(self, X, is_train)\u001b[0m\n\u001b[1;32m    307\u001b[0m \u001b[38;5;28;01mdef\u001b[39;00m \u001b[38;5;21m__call__\u001b[39m(\u001b[38;5;28mself\u001b[39m, X: InT, is_train: \u001b[38;5;28mbool\u001b[39m) \u001b[38;5;241m-\u001b[39m\u001b[38;5;241m>\u001b[39m Tuple[OutT, Callable]:\n\u001b[1;32m    308\u001b[0m \u001b[38;5;250m    \u001b[39m\u001b[38;5;124;03m\"\"\"Call the model's `forward` function, returning the output and a\u001b[39;00m\n\u001b[1;32m    309\u001b[0m \u001b[38;5;124;03m    callback to compute the gradients via backpropagation.\"\"\"\u001b[39;00m\n\u001b[0;32m--> 310\u001b[0m     \u001b[38;5;28;01mreturn\u001b[39;00m \u001b[38;5;28;43mself\u001b[39;49m\u001b[38;5;241;43m.\u001b[39;49m\u001b[43m_func\u001b[49m\u001b[43m(\u001b[49m\u001b[38;5;28;43mself\u001b[39;49m\u001b[43m,\u001b[49m\u001b[43m \u001b[49m\u001b[43mX\u001b[49m\u001b[43m,\u001b[49m\u001b[43m \u001b[49m\u001b[43mis_train\u001b[49m\u001b[38;5;241;43m=\u001b[39;49m\u001b[43mis_train\u001b[49m\u001b[43m)\u001b[49m\n",
      "File \u001b[0;32m~/Documents/masters-thesis-code/.env/lib/python3.12/site-packages/thinc/layers/maxout.py:52\u001b[0m, in \u001b[0;36mforward\u001b[0;34m(model, X, is_train)\u001b[0m\n\u001b[1;32m     50\u001b[0m W \u001b[38;5;241m=\u001b[39m model\u001b[38;5;241m.\u001b[39mget_param(\u001b[38;5;124m\"\u001b[39m\u001b[38;5;124mW\u001b[39m\u001b[38;5;124m\"\u001b[39m)\n\u001b[1;32m     51\u001b[0m W \u001b[38;5;241m=\u001b[39m model\u001b[38;5;241m.\u001b[39mops\u001b[38;5;241m.\u001b[39mreshape2f(W, nO \u001b[38;5;241m*\u001b[39m nP, nI)\n\u001b[0;32m---> 52\u001b[0m Y \u001b[38;5;241m=\u001b[39m \u001b[43mmodel\u001b[49m\u001b[38;5;241;43m.\u001b[39;49m\u001b[43mops\u001b[49m\u001b[38;5;241;43m.\u001b[39;49m\u001b[43mgemm\u001b[49m\u001b[43m(\u001b[49m\u001b[43mX\u001b[49m\u001b[43m,\u001b[49m\u001b[43m \u001b[49m\u001b[43mW\u001b[49m\u001b[43m,\u001b[49m\u001b[43m \u001b[49m\u001b[43mtrans2\u001b[49m\u001b[38;5;241;43m=\u001b[39;49m\u001b[38;5;28;43;01mTrue\u001b[39;49;00m\u001b[43m)\u001b[49m\n\u001b[1;32m     53\u001b[0m Y \u001b[38;5;241m+\u001b[39m\u001b[38;5;241m=\u001b[39m model\u001b[38;5;241m.\u001b[39mops\u001b[38;5;241m.\u001b[39mreshape1f(b, nO \u001b[38;5;241m*\u001b[39m nP)\n\u001b[1;32m     54\u001b[0m Z \u001b[38;5;241m=\u001b[39m model\u001b[38;5;241m.\u001b[39mops\u001b[38;5;241m.\u001b[39mreshape3f(Y, Y\u001b[38;5;241m.\u001b[39mshape[\u001b[38;5;241m0\u001b[39m], nO, nP)\n",
      "\u001b[0;31mKeyboardInterrupt\u001b[0m: "
     ]
    }
   ],
   "source": [
    "text = \"On a dark, gloomy New Year's Eve night, an ill nurse, her life slowly ebbing away, demands that David Holm be presented to her at once. We don't yet know who David Holm is, or why this nurse wishes to see him, but her only dying wish is to speak with him just one more time. On the other side of the town, nestled comfortably amongst the gravestones of the local cemetery, Holm (Victor Sjöström, who also directed) and two of his drunken associates merrily await the coming of the New Year. Here we can tell just when to drink\"\n",
    "# text = \"On a dark, gloomy New Year's Eve night, an ill nurse, her life slowly ebbing away, demands that David Holm be presented to her at once.\"\n",
    "# text = \"I liked the movie.\"\n",
    "\n",
    "max_attempts = 10\n",
    "for i in range(max_attempts):\n",
    "    print(f\"Attempt: {i + 1}\")\n",
    "    perturbations = pj.perturb(\n",
    "        orig_sent=text,\n",
    "        ctrl_code=\"negation\",\n",
    "        num_perturbations=3,\n",
    "        perplex_thred=None,\n",
    "        verbose=True,\n",
    "    )\n",
    "    if perturbations:\n",
    "        break\n"
   ]
  },
  {
   "cell_type": "code",
   "execution_count": 6,
   "id": "fa8e72ac",
   "metadata": {},
   "outputs": [
    {
     "name": "stderr",
     "output_type": "stream",
     "text": [
      "Hardware accelerator e.g. GPU is available in the environment, but no `device` argument is passed to the `Pipeline` object. Model will be on CPU.\n",
      "Truncation was not explicitly activated but `max_length` is provided a specific value, please use `truncation=True` to explicitly truncate examples to max length. Defaulting to 'longest_first' truncation strategy. If you encode pairs of sequences (GLUE-style) with the tokenizer you can select this strategy more precisely by providing a specific strategy to `truncation`.\n",
      "Setting `pad_token_id` to `eos_token_id`:50256 for open-end generation.\n"
     ]
    },
    {
     "name": "stdout",
     "output_type": "stream",
     "text": [
      "Generated Text 1: It is great for kids to have a strong connection with their teacher and family members. It is a great way to connect with teachers and parents. We're trying to get more parents involved in education so that they can participate in the learning process. We\n",
      "Generated Text 2: It is great for kids to have a good life,\" he said. \"We are the only group that doesn't have to deal with all that stuff.\"\n",
      "\n",
      "The group also plans to expand the school district's own school day care program to include\n",
      "Generated Text 3: It is great for kids, but it's not good for adults,\" he says.\n",
      "\n",
      "He says that for parents who have children, the idea that their children are \"being cared for\" is not very different from the idea that they are being\n"
     ]
    }
   ],
   "source": [
    "from transformers import pipeline\n",
    "\n",
    "# Initialize the text generation pipeline\n",
    "generator = pipeline('text-generation', model='gpt2')\n",
    "\n",
    "# Define the prompt\n",
    "prompt = \"It is great for kids\"\n",
    "\n",
    "# Generate text\n",
    "generated_texts = generator(prompt, max_length=50, num_return_sequences=3, temperature=0.7, top_k=50, top_p=0.9)\n",
    "\n",
    "# Print the generated texts\n",
    "for i, generated_text in enumerate(generated_texts):\n",
    "    print(f\"Generated Text {i + 1}: {generated_text['generated_text']}\")\n"
   ]
  },
  {
   "cell_type": "code",
   "execution_count": 7,
   "id": "3a479f7f",
   "metadata": {},
   "outputs": [
    {
     "name": "stderr",
     "output_type": "stream",
     "text": [
      "Hardware accelerator e.g. GPU is available in the environment, but no `device` argument is passed to the `Pipeline` object. Model will be on CPU.\n",
      "Setting `pad_token_id` to `eos_token_id`:50256 for open-end generation.\n"
     ]
    },
    {
     "data": {
      "text/plain": [
       "[{'generated_text': 'A dog is embraced by the woman. <|perturb|> [negation] A dog is [BLANK] the woman. [SEP] not being held by [ANSWER] '},\n",
       " {'generated_text': 'A dog is embraced by the woman. <|perturb|> [negation] A dog is [BLANK] the woman. [SEP] not being cradled by [ANSWER] '},\n",
       " {'generated_text': 'A dog is embraced by the woman. <|perturb|> [negation] A dog is [BLANK] the woman. [SEP] not being held [ANSWER] '}]"
      ]
     },
     "execution_count": 7,
     "metadata": {},
     "output_type": "execute_result"
    }
   ],
   "source": [
    "from transformers import AutoTokenizer, AutoModelWithLMHead\n",
    "from transformers import pipeline, AutoTokenizer, AutoModelForCausalLM\n",
    "\n",
    "model_path = \"uw-hai/polyjuice\"\n",
    "generator = pipeline(\"text-generation\", \n",
    "    model=AutoModelForCausalLM.from_pretrained(model_path), \n",
    "    tokenizer=AutoTokenizer.from_pretrained(model_path),\n",
    "    framework=\"pt\")\n",
    "\n",
    "prompt_text = \"A dog is embraced by the woman. <|perturb|> [negation] A dog is [BLANK] the woman.\"\n",
    "generator(prompt_text, num_beams=3, num_return_sequences=3)\n"
   ]
  },
  {
   "cell_type": "code",
   "execution_count": 8,
   "id": "5a8e1fd2",
   "metadata": {},
   "outputs": [],
   "source": [
    "# initiate a wrapper.\n",
    "# model path is defaulted to our portable model:\n",
    "# https://huggingface.co/uw-hai/polyjuice\n",
    "# No need to change this unless you are using customized model\n",
    "from polyjuice import Polyjuice\n",
    "pj = Polyjuice(model_path=\"uw-hai/polyjuice\", is_cuda=True)"
   ]
  },
  {
   "cell_type": "code",
   "execution_count": 9,
   "id": "4c007e5b",
   "metadata": {},
   "outputs": [
    {
     "name": "stderr",
     "output_type": "stream",
     "text": [
      "INFO:polyjuice.polyjuice_wrapper:Setup Polyjuice.\n",
      "INFO:polyjuice.polyjuice_wrapper:Setup SpaCy processor.\n",
      "Truncation was not explicitly activated but `max_length` is provided a specific value, please use `truncation=True` to explicitly truncate examples to max length. Defaulting to 'longest_first' truncation strategy. If you encode pairs of sequences (GLUE-style) with the tokenizer you can select this strategy more precisely by providing a specific strategy to `truncation`.\n",
      "Setting `pad_token_id` to `eos_token_id`:50256 for open-end generation.\n",
      "Setting `pad_token_id` to `eos_token_id`:50256 for open-end generation.\n",
      "Setting `pad_token_id` to `eos_token_id`:50256 for open-end generation.\n",
      "Setting `pad_token_id` to `eos_token_id`:50256 for open-end generation.\n",
      "Setting `pad_token_id` to `eos_token_id`:50256 for open-end generation.\n",
      "Setting `pad_token_id` to `eos_token_id`:50256 for open-end generation.\n",
      "Setting `pad_token_id` to `eos_token_id`:50256 for open-end generation.\n",
      "Setting `pad_token_id` to `eos_token_id`:50256 for open-end generation.\n",
      "Setting `pad_token_id` to `eos_token_id`:50256 for open-end generation.\n",
      "Setting `pad_token_id` to `eos_token_id`:50256 for open-end generation.\n",
      "Setting `pad_token_id` to `eos_token_id`:50256 for open-end generation.\n",
      "Setting `pad_token_id` to `eos_token_id`:50256 for open-end generation.\n",
      "Setting `pad_token_id` to `eos_token_id`:50256 for open-end generation.\n",
      "Setting `pad_token_id` to `eos_token_id`:50256 for open-end generation.\n",
      "Setting `pad_token_id` to `eos_token_id`:50256 for open-end generation.\n",
      "INFO:polyjuice.polyjuice_wrapper:Setup perplexity scorer.\n"
     ]
    },
    {
     "data": {
      "text/plain": [
       "'hello'"
      ]
     },
     "execution_count": 9,
     "metadata": {},
     "output_type": "execute_result"
    }
   ],
   "source": [
    "# the base sentence\n",
    "text = \"It is great for kids.\"\n",
    "\n",
    "# perturb the sentence with one line:\n",
    "# When running it for the first time, the wrapper will automatically\n",
    "# load related models, e.g. the generator and the perplexity filter.\n",
    "perturbations = pj.perturb(text)\n",
    "perturbations"
   ]
  },
  {
   "cell_type": "code",
   "execution_count": 10,
   "id": "d0e3e5b0",
   "metadata": {},
   "outputs": [
    {
     "name": "stderr",
     "output_type": "stream",
     "text": [
      "Setting `pad_token_id` to `eos_token_id`:50256 for open-end generation.\n",
      "Setting `pad_token_id` to `eos_token_id`:50256 for open-end generation.\n",
      "Setting `pad_token_id` to `eos_token_id`:50256 for open-end generation.\n"
     ]
    },
    {
     "data": {
      "text/plain": [
       "'hello'"
      ]
     },
     "execution_count": 10,
     "metadata": {},
     "output_type": "execute_result"
    }
   ],
   "source": [
    "# To perturb with more controls,\n",
    "\n",
    "perturbations = pj.perturb(\n",
    "    orig_sent=text,\n",
    "    # can specify where to put the blank. Otherwise, it's automatically selected.\n",
    "    # Can be a list or a single sentence.\n",
    "    # blanked_sent=[\"It is [BLANK] for kids.\", \"It is great for [BLANK].\"],\n",
    "    # can also specify the ctrl code (a list or a single code.)\n",
    "    # The code should be from 'resemantic', 'restructure', 'negation', 'insert', 'lexical', 'shuffle', 'quantifier', 'delete'.\n",
    "    ctrl_code=\"negation\",\n",
    "    # Customzie perplexity score. \n",
    "    perplex_thred=20,\n",
    "    # number of perturbations to return\n",
    "    num_perturbations=3,\n",
    "    # the function also takes in additional arguments for huggingface generators.\n",
    "    num_beams=3\n",
    ")\n",
    "perturbations"
   ]
  },
  {
   "cell_type": "code",
   "execution_count": 11,
   "id": "8bac5621",
   "metadata": {},
   "outputs": [
    {
     "data": {
      "text/plain": [
       "'negation'"
      ]
     },
     "execution_count": 11,
     "metadata": {},
     "output_type": "execute_result"
    }
   ],
   "source": [
    "# detect the ctrl code from a given sentence pair\n",
    "pj.detect_ctrl_code(\"it's great for kids.\", 'It is great for kids but not for any adults.')"
   ]
  },
  {
   "cell_type": "markdown",
   "id": "81bcc528",
   "metadata": {},
   "source": [
    "# Select for diversity\n",
    "\n",
    "Having each perturbation be represented by its token changes, control code, and dependency tree strcuture, we greedily select the ones that are least similar to those already selected. This tries to avoid redundancy in common perturbations such as black -> white.\n"
   ]
  },
  {
   "cell_type": "code",
   "execution_count": 12,
   "id": "793f1239",
   "metadata": {
    "scrolled": true
   },
   "outputs": [
    {
     "name": "stderr",
     "output_type": "stream",
     "text": [
      "Setting `pad_token_id` to `eos_token_id`:50256 for open-end generation.\n",
      "Setting `pad_token_id` to `eos_token_id`:50256 for open-end generation.\n",
      "Setting `pad_token_id` to `eos_token_id`:50256 for open-end generation.\n",
      "Setting `pad_token_id` to `eos_token_id`:50256 for open-end generation.\n",
      "Setting `pad_token_id` to `eos_token_id`:50256 for open-end generation.\n",
      "Setting `pad_token_id` to `eos_token_id`:50256 for open-end generation.\n",
      "Setting `pad_token_id` to `eos_token_id`:50256 for open-end generation.\n",
      "Setting `pad_token_id` to `eos_token_id`:50256 for open-end generation.\n",
      "Setting `pad_token_id` to `eos_token_id`:50256 for open-end generation.\n",
      "Setting `pad_token_id` to `eos_token_id`:50256 for open-end generation.\n",
      "Setting `pad_token_id` to `eos_token_id`:50256 for open-end generation.\n",
      "Setting `pad_token_id` to `eos_token_id`:50256 for open-end generation.\n",
      "Setting `pad_token_id` to `eos_token_id`:50256 for open-end generation.\n",
      "Setting `pad_token_id` to `eos_token_id`:50256 for open-end generation.\n",
      "Setting `pad_token_id` to `eos_token_id`:50256 for open-end generation.\n"
     ]
    },
    {
     "data": {
      "text/plain": [
       "[('It is great for kids.', 'h'),\n",
       " ('It is great for kids.', 'e'),\n",
       " ('It is great for kids.', 'l'),\n",
       " ('It is great for kids.', 'l'),\n",
       " ('It is great for kids.', 'o')]"
      ]
     },
     "execution_count": 12,
     "metadata": {},
     "output_type": "execute_result"
    }
   ],
   "source": [
    "# over-generate some examples\n",
    "\n",
    "orig_text = \"It is great for kids.\"\n",
    "perturb_texts = pj.perturb(\n",
    "    orig_sent=orig_text, perplex_thred=10, num_perturbations=None, num_beams=3)\n",
    "orig_and_perturb_pairs = [(orig_text, perturb_text) for perturb_text in perturb_texts]\n",
    "orig_and_perturb_pairs"
   ]
  },
  {
   "cell_type": "code",
   "execution_count": 13,
   "id": "85693442",
   "metadata": {},
   "outputs": [
    {
     "name": "stderr",
     "output_type": "stream",
     "text": [
      "/Users/smcaleese/Documents/masters-thesis-code/.env/lib/python3.12/site-packages/numpy/core/fromnumeric.py:3504: RuntimeWarning: Mean of empty slice.\n",
      "  return _methods._mean(a, axis=axis, dtype=dtype,\n",
      "/Users/smcaleese/Documents/masters-thesis-code/.env/lib/python3.12/site-packages/numpy/core/_methods.py:129: RuntimeWarning: invalid value encountered in scalar divide\n",
      "  ret = ret.dtype.type(ret / rcount)\n"
     ]
    },
    {
     "data": {
      "text/plain": [
       "[('It is great for kids.', 'h'),\n",
       " ('It is great for kids.', 'e'),\n",
       " ('It is great for kids.', 'l')]"
      ]
     },
     "execution_count": 13,
     "metadata": {},
     "output_type": "execute_result"
    }
   ],
   "source": [
    "sampled = pj.select_diverse_perturbations(\n",
    "    orig_and_perturb_pairs=orig_and_perturb_pairs, nsamples=3)\n",
    "sampled"
   ]
  },
  {
   "cell_type": "markdown",
   "id": "ca02b554",
   "metadata": {},
   "source": [
    "# Select surprising perturbations as counterfactual explanations\n",
    "\n",
    "Because different models/explainers may have different forms of predictions/feature weight computation methods, Polyjuice selection expects all predictions and feature weights to be precomputed. Here, we give an example of Quora Question Pair Detection. \n"
   ]
  },
  {
   "cell_type": "code",
   "execution_count": null,
   "id": "64272c50",
   "metadata": {},
   "outputs": [],
   "source": [
    "# set a perturbation base\n",
    "orig = (\n",
    "    \"How can I help a friend experiencing serious depression?\",\n",
    "    \"How do I help a friend who is in depression?\"\n",
    ")\n",
    "orig_label = 1\n",
    "\n",
    "# we perturb the second question."
   ]
  },
  {
   "cell_type": "code",
   "execution_count": null,
   "id": "3ca52692",
   "metadata": {},
   "outputs": [],
   "source": [
    "# get a model\n",
    "from transformers import pipeline, AutoTokenizer, AutoModelForSequenceClassification\n",
    "import torch\n",
    "model_name = \"textattack/bert-base-uncased-QQP\"\n",
    "tokenizer = AutoTokenizer.from_pretrained(model_name)\n",
    "model = AutoModelForSequenceClassification.from_pretrained(model_name)\n",
    "# sentiment analysis is a general name in Huggingface to load the pipeline for text classification tasks.\n",
    "# set device=-1 if you don't have a gpu\n",
    "pipe = pipeline(\n",
    "    \"sentiment-analysis\", model=model, tokenizer=tokenizer, \n",
    "    framework=\"pt\", device=0 if is_cuda else -1, return_all_scores=True)"
   ]
  },
  {
   "cell_type": "code",
   "execution_count": null,
   "id": "172c43d3",
   "metadata": {},
   "outputs": [],
   "source": [
    "# some wrapper for prediction\n",
    "import numpy as np\n",
    "def extract_predict_label(raw_pred):\n",
    "    raw_pred = sorted(raw_pred, key=lambda r: -r[\"score\"])\n",
    "    if raw_pred:\n",
    "        return raw_pred[0][\"label\"]\n",
    "    return None\n",
    "def predict(examples, predictor, batch_size=128):\n",
    "    raw_preds, preds, distribution = [], [], []\n",
    "    with torch.no_grad():\n",
    "        for e in (range(0, len(examples), batch_size)):\n",
    "            raw_preds.extend(predictor(examples[e:e+batch_size]))\n",
    "    for raw_pred in raw_preds:\n",
    "        raw_pred = raw_pred if type(raw_pred) == list else [raw_pred]\n",
    "        for m in raw_pred:\n",
    "            m[\"label\"] = int(m[\"label\"].split(\"_\")[1])\n",
    "    return raw_preds\n",
    "\n",
    "p = predict([orig], predictor=pipe)[0]\n",
    "(p, extract_predict_label(p))"
   ]
  },
  {
   "cell_type": "code",
   "execution_count": null,
   "id": "893571aa",
   "metadata": {
    "scrolled": true
   },
   "outputs": [],
   "source": [
    "## collect some base perturbations\n",
    "from polyjuice.generations import ALL_CTRL_CODES\n",
    "\n",
    "# perturb the second question in orig.\n",
    "perturb_idx = 1\n",
    "perturb_texts = pj.perturb(\n",
    "    orig[perturb_idx], \n",
    "    ctrl_code=ALL_CTRL_CODES, \n",
    "    num_perturbations=None, perplex_thred=10)\n",
    "\n",
    "perturb_texts\n"
   ]
  },
  {
   "cell_type": "code",
   "execution_count": null,
   "id": "1ee1ab28",
   "metadata": {},
   "outputs": [],
   "source": [
    "# To estimate feature importance, we set up shap explainer\n",
    "# install shap\n",
    "!pip install shap"
   ]
  },
  {
   "cell_type": "code",
   "execution_count": null,
   "id": "f71b6d05",
   "metadata": {},
   "outputs": [],
   "source": [
    "import shap\n",
    "import functools\n",
    "from copy import deepcopy\n",
    "# setup a prediction function for computing the shap feature importance\n",
    "\n",
    "def wrap_perturbed_instances(perturb_texts, orig, perturb_idx=1):\n",
    "    perturbs = []\n",
    "    for a in perturb_texts:\n",
    "        curr_example = deepcopy(list(orig))\n",
    "        curr_example[perturb_idx] = a\n",
    "        perturbs.append(tuple(curr_example))\n",
    "    return perturbs\n",
    "\n",
    "def predict_on_perturbs(perturb_texts, orig, predictor, perturb_idx=1):\n",
    "    perturbs = wrap_perturbed_instances(perturb_texts, orig, perturb_idx)\n",
    "    perturbs_preds = predict(perturbs, predictor=predictor)\n",
    "    perturbs_pred_dicts = [{p[\"label\"]: p[\"score\"] for p in perturbs_pred} for perturbs_pred in perturbs_preds]\n",
    "    orig_preds = predict([orig], predictor=predictor)\n",
    "    orig_pred = extract_predict_label(orig_preds[0])\n",
    "    # the return is probability of the originally predicted label\n",
    "    return [pr_dict[orig_pred] for pr_dict in perturbs_pred_dicts]\n",
    "def normalize_shap_importance(features, importances, is_use_abs=True):\n",
    "    normalized_features = {}\n",
    "    for idx, (f, v) in enumerate(zip(features, importances)):\n",
    "        f = f.strip('Ġ')\n",
    "        if not f.startswith(\"##\"): \n",
    "            key, val = \"\", 0\n",
    "        key += f.replace(\"#\", \"\").strip()\n",
    "        val += v\n",
    "        if (idx == len(features)-1 or (not features[idx+1].startswith(\"##\"))) and key != \"\":\n",
    "            normalized_features[key] = abs(val) if is_use_abs else val\n",
    "    return normalized_features\n",
    "def explain_with_shap(orig, predictor=pipe, tokenzier=pipe.tokenizer, perturb_idx=1):\n",
    "    predict_for_shap_func = functools.partial(\n",
    "        predict_on_perturbs, orig=orig, predictor=predictor, perturb_idx=perturb_idx)\n",
    "    shap_explainer = shap.Explainer(predict_for_shap_func, tokenizer) \n",
    "    exp = shap_explainer([str(orig[perturb_idx])])\n",
    "    return normalize_shap_importance(exp.data[0], exp.values[0])\n",
    "\n",
    "feature_importance_dict = explain_with_shap(orig)\n",
    "feature_importance_dict"
   ]
  },
  {
   "cell_type": "code",
   "execution_count": null,
   "id": "569debb3",
   "metadata": {},
   "outputs": [],
   "source": [
    "# get the predictions for original and also new instances\n",
    "orig_pred = predict([orig], predictor=pipe)[0]\n",
    "\n",
    "perturb_instances = wrap_perturbed_instances(perturb_texts, orig, perturb_idx)\n",
    "perturb_preds = predict(perturb_instances, predictor=pipe)\n",
    "\n",
    "surprises = pj.select_surprise_explanations(\n",
    "    orig_text=orig[perturb_idx], \n",
    "    perturb_texts=perturb_texts, \n",
    "    orig_pred=orig_pred, \n",
    "    perturb_preds=perturb_preds, \n",
    "    feature_importance_dict=feature_importance_dict)\n",
    "surprises"
   ]
  },
  {
   "cell_type": "code",
   "execution_count": null,
   "id": "bc3215f1",
   "metadata": {},
   "outputs": [],
   "source": []
  },
  {
   "cell_type": "markdown",
   "id": "84a62d2e",
   "metadata": {},
   "source": [
    "## Change the context length"
   ]
  },
  {
   "cell_type": "code",
   "execution_count": 11,
   "id": "505028df",
   "metadata": {},
   "outputs": [
    {
     "ename": "RuntimeError",
     "evalue": "Error(s) in loading state_dict for GPT2LMHeadModel:\n\tsize mismatch for transformer.wpe.weight: copying a param with shape torch.Size([1024, 768]) from checkpoint, the shape in current model is torch.Size([2048, 768]).\n\tYou may consider adding `ignore_mismatched_sizes=True` in the model `from_pretrained` method.",
     "output_type": "error",
     "traceback": [
      "\u001b[0;31m---------------------------------------------------------------------------\u001b[0m",
      "\u001b[0;31mRuntimeError\u001b[0m                              Traceback (most recent call last)",
      "Cell \u001b[0;32mIn[11], line 10\u001b[0m\n\u001b[1;32m      7\u001b[0m config\u001b[38;5;241m.\u001b[39mn_positions \u001b[38;5;241m=\u001b[39m new_context_length\n\u001b[1;32m      8\u001b[0m \u001b[38;5;66;03m# config.n_ctx = new_context_length\u001b[39;00m\n\u001b[0;32m---> 10\u001b[0m model \u001b[38;5;241m=\u001b[39m \u001b[43mAutoModelForCausalLM\u001b[49m\u001b[38;5;241;43m.\u001b[39;49m\u001b[43mfrom_pretrained\u001b[49m\u001b[43m(\u001b[49m\u001b[43mmodel_path\u001b[49m\u001b[43m,\u001b[49m\u001b[43m \u001b[49m\u001b[43mconfig\u001b[49m\u001b[38;5;241;43m=\u001b[39;49m\u001b[43mconfig\u001b[49m\u001b[43m)\u001b[49m\n\u001b[1;32m     11\u001b[0m tokenizer \u001b[38;5;241m=\u001b[39m AutoTokenizer\u001b[38;5;241m.\u001b[39mfrom_pretrained(model_path)\n\u001b[1;32m     13\u001b[0m pipeline \u001b[38;5;241m=\u001b[39m pipeline(\n\u001b[1;32m     14\u001b[0m     \u001b[38;5;124m\"\u001b[39m\u001b[38;5;124mtext-generation\u001b[39m\u001b[38;5;124m\"\u001b[39m, \n\u001b[1;32m     15\u001b[0m     model\u001b[38;5;241m=\u001b[39mmodel, \n\u001b[1;32m     16\u001b[0m     tokenizer\u001b[38;5;241m=\u001b[39mtokenizer\n\u001b[1;32m     17\u001b[0m )\n",
      "File \u001b[0;32m~/Documents/masters-thesis-code/.env/lib/python3.12/site-packages/transformers/models/auto/auto_factory.py:564\u001b[0m, in \u001b[0;36m_BaseAutoModelClass.from_pretrained\u001b[0;34m(cls, pretrained_model_name_or_path, *model_args, **kwargs)\u001b[0m\n\u001b[1;32m    562\u001b[0m \u001b[38;5;28;01melif\u001b[39;00m \u001b[38;5;28mtype\u001b[39m(config) \u001b[38;5;129;01min\u001b[39;00m \u001b[38;5;28mcls\u001b[39m\u001b[38;5;241m.\u001b[39m_model_mapping\u001b[38;5;241m.\u001b[39mkeys():\n\u001b[1;32m    563\u001b[0m     model_class \u001b[38;5;241m=\u001b[39m _get_model_class(config, \u001b[38;5;28mcls\u001b[39m\u001b[38;5;241m.\u001b[39m_model_mapping)\n\u001b[0;32m--> 564\u001b[0m     \u001b[38;5;28;01mreturn\u001b[39;00m \u001b[43mmodel_class\u001b[49m\u001b[38;5;241;43m.\u001b[39;49m\u001b[43mfrom_pretrained\u001b[49m\u001b[43m(\u001b[49m\n\u001b[1;32m    565\u001b[0m \u001b[43m        \u001b[49m\u001b[43mpretrained_model_name_or_path\u001b[49m\u001b[43m,\u001b[49m\u001b[43m \u001b[49m\u001b[38;5;241;43m*\u001b[39;49m\u001b[43mmodel_args\u001b[49m\u001b[43m,\u001b[49m\u001b[43m \u001b[49m\u001b[43mconfig\u001b[49m\u001b[38;5;241;43m=\u001b[39;49m\u001b[43mconfig\u001b[49m\u001b[43m,\u001b[49m\u001b[43m \u001b[49m\u001b[38;5;241;43m*\u001b[39;49m\u001b[38;5;241;43m*\u001b[39;49m\u001b[43mhub_kwargs\u001b[49m\u001b[43m,\u001b[49m\u001b[43m \u001b[49m\u001b[38;5;241;43m*\u001b[39;49m\u001b[38;5;241;43m*\u001b[39;49m\u001b[43mkwargs\u001b[49m\n\u001b[1;32m    566\u001b[0m \u001b[43m    \u001b[49m\u001b[43m)\u001b[49m\n\u001b[1;32m    567\u001b[0m \u001b[38;5;28;01mraise\u001b[39;00m \u001b[38;5;167;01mValueError\u001b[39;00m(\n\u001b[1;32m    568\u001b[0m     \u001b[38;5;124mf\u001b[39m\u001b[38;5;124m\"\u001b[39m\u001b[38;5;124mUnrecognized configuration class \u001b[39m\u001b[38;5;132;01m{\u001b[39;00mconfig\u001b[38;5;241m.\u001b[39m\u001b[38;5;18m__class__\u001b[39m\u001b[38;5;132;01m}\u001b[39;00m\u001b[38;5;124m for this kind of AutoModel: \u001b[39m\u001b[38;5;132;01m{\u001b[39;00m\u001b[38;5;28mcls\u001b[39m\u001b[38;5;241m.\u001b[39m\u001b[38;5;18m__name__\u001b[39m\u001b[38;5;132;01m}\u001b[39;00m\u001b[38;5;124m.\u001b[39m\u001b[38;5;130;01m\\n\u001b[39;00m\u001b[38;5;124m\"\u001b[39m\n\u001b[1;32m    569\u001b[0m     \u001b[38;5;124mf\u001b[39m\u001b[38;5;124m\"\u001b[39m\u001b[38;5;124mModel type should be one of \u001b[39m\u001b[38;5;132;01m{\u001b[39;00m\u001b[38;5;124m'\u001b[39m\u001b[38;5;124m, \u001b[39m\u001b[38;5;124m'\u001b[39m\u001b[38;5;241m.\u001b[39mjoin(c\u001b[38;5;241m.\u001b[39m\u001b[38;5;18m__name__\u001b[39m\u001b[38;5;250m \u001b[39m\u001b[38;5;28;01mfor\u001b[39;00m\u001b[38;5;250m \u001b[39mc\u001b[38;5;250m \u001b[39m\u001b[38;5;129;01min\u001b[39;00m\u001b[38;5;250m \u001b[39m\u001b[38;5;28mcls\u001b[39m\u001b[38;5;241m.\u001b[39m_model_mapping\u001b[38;5;241m.\u001b[39mkeys())\u001b[38;5;132;01m}\u001b[39;00m\u001b[38;5;124m.\u001b[39m\u001b[38;5;124m\"\u001b[39m\n\u001b[1;32m    570\u001b[0m )\n",
      "File \u001b[0;32m~/Documents/masters-thesis-code/.env/lib/python3.12/site-packages/transformers/modeling_utils.py:3838\u001b[0m, in \u001b[0;36mPreTrainedModel.from_pretrained\u001b[0;34m(cls, pretrained_model_name_or_path, config, cache_dir, ignore_mismatched_sizes, force_download, local_files_only, token, revision, use_safetensors, *model_args, **kwargs)\u001b[0m\n\u001b[1;32m   3828\u001b[0m     \u001b[38;5;28;01mif\u001b[39;00m dtype_orig \u001b[38;5;129;01mis\u001b[39;00m \u001b[38;5;129;01mnot\u001b[39;00m \u001b[38;5;28;01mNone\u001b[39;00m:\n\u001b[1;32m   3829\u001b[0m         torch\u001b[38;5;241m.\u001b[39mset_default_dtype(dtype_orig)\n\u001b[1;32m   3831\u001b[0m     (\n\u001b[1;32m   3832\u001b[0m         model,\n\u001b[1;32m   3833\u001b[0m         missing_keys,\n\u001b[1;32m   3834\u001b[0m         unexpected_keys,\n\u001b[1;32m   3835\u001b[0m         mismatched_keys,\n\u001b[1;32m   3836\u001b[0m         offload_index,\n\u001b[1;32m   3837\u001b[0m         error_msgs,\n\u001b[0;32m-> 3838\u001b[0m     ) \u001b[38;5;241m=\u001b[39m \u001b[38;5;28;43mcls\u001b[39;49m\u001b[38;5;241;43m.\u001b[39;49m\u001b[43m_load_pretrained_model\u001b[49m\u001b[43m(\u001b[49m\n\u001b[1;32m   3839\u001b[0m \u001b[43m        \u001b[49m\u001b[43mmodel\u001b[49m\u001b[43m,\u001b[49m\n\u001b[1;32m   3840\u001b[0m \u001b[43m        \u001b[49m\u001b[43mstate_dict\u001b[49m\u001b[43m,\u001b[49m\n\u001b[1;32m   3841\u001b[0m \u001b[43m        \u001b[49m\u001b[43mloaded_state_dict_keys\u001b[49m\u001b[43m,\u001b[49m\u001b[43m  \u001b[49m\u001b[38;5;66;43;03m# XXX: rename?\u001b[39;49;00m\n\u001b[1;32m   3842\u001b[0m \u001b[43m        \u001b[49m\u001b[43mresolved_archive_file\u001b[49m\u001b[43m,\u001b[49m\n\u001b[1;32m   3843\u001b[0m \u001b[43m        \u001b[49m\u001b[43mpretrained_model_name_or_path\u001b[49m\u001b[43m,\u001b[49m\n\u001b[1;32m   3844\u001b[0m \u001b[43m        \u001b[49m\u001b[43mignore_mismatched_sizes\u001b[49m\u001b[38;5;241;43m=\u001b[39;49m\u001b[43mignore_mismatched_sizes\u001b[49m\u001b[43m,\u001b[49m\n\u001b[1;32m   3845\u001b[0m \u001b[43m        \u001b[49m\u001b[43msharded_metadata\u001b[49m\u001b[38;5;241;43m=\u001b[39;49m\u001b[43msharded_metadata\u001b[49m\u001b[43m,\u001b[49m\n\u001b[1;32m   3846\u001b[0m \u001b[43m        \u001b[49m\u001b[43m_fast_init\u001b[49m\u001b[38;5;241;43m=\u001b[39;49m\u001b[43m_fast_init\u001b[49m\u001b[43m,\u001b[49m\n\u001b[1;32m   3847\u001b[0m \u001b[43m        \u001b[49m\u001b[43mlow_cpu_mem_usage\u001b[49m\u001b[38;5;241;43m=\u001b[39;49m\u001b[43mlow_cpu_mem_usage\u001b[49m\u001b[43m,\u001b[49m\n\u001b[1;32m   3848\u001b[0m \u001b[43m        \u001b[49m\u001b[43mdevice_map\u001b[49m\u001b[38;5;241;43m=\u001b[39;49m\u001b[43mdevice_map\u001b[49m\u001b[43m,\u001b[49m\n\u001b[1;32m   3849\u001b[0m \u001b[43m        \u001b[49m\u001b[43moffload_folder\u001b[49m\u001b[38;5;241;43m=\u001b[39;49m\u001b[43moffload_folder\u001b[49m\u001b[43m,\u001b[49m\n\u001b[1;32m   3850\u001b[0m \u001b[43m        \u001b[49m\u001b[43moffload_state_dict\u001b[49m\u001b[38;5;241;43m=\u001b[39;49m\u001b[43moffload_state_dict\u001b[49m\u001b[43m,\u001b[49m\n\u001b[1;32m   3851\u001b[0m \u001b[43m        \u001b[49m\u001b[43mdtype\u001b[49m\u001b[38;5;241;43m=\u001b[39;49m\u001b[43mtorch_dtype\u001b[49m\u001b[43m,\u001b[49m\n\u001b[1;32m   3852\u001b[0m \u001b[43m        \u001b[49m\u001b[43mhf_quantizer\u001b[49m\u001b[38;5;241;43m=\u001b[39;49m\u001b[43mhf_quantizer\u001b[49m\u001b[43m,\u001b[49m\n\u001b[1;32m   3853\u001b[0m \u001b[43m        \u001b[49m\u001b[43mkeep_in_fp32_modules\u001b[49m\u001b[38;5;241;43m=\u001b[39;49m\u001b[43mkeep_in_fp32_modules\u001b[49m\u001b[43m,\u001b[49m\n\u001b[1;32m   3854\u001b[0m \u001b[43m        \u001b[49m\u001b[43mgguf_path\u001b[49m\u001b[38;5;241;43m=\u001b[39;49m\u001b[43mgguf_path\u001b[49m\u001b[43m,\u001b[49m\n\u001b[1;32m   3855\u001b[0m \u001b[43m    \u001b[49m\u001b[43m)\u001b[49m\n\u001b[1;32m   3857\u001b[0m \u001b[38;5;66;03m# make sure token embedding weights are still tied if needed\u001b[39;00m\n\u001b[1;32m   3858\u001b[0m model\u001b[38;5;241m.\u001b[39mtie_weights()\n",
      "File \u001b[0;32m~/Documents/masters-thesis-code/.env/lib/python3.12/site-packages/transformers/modeling_utils.py:4349\u001b[0m, in \u001b[0;36mPreTrainedModel._load_pretrained_model\u001b[0;34m(cls, model, state_dict, loaded_keys, resolved_archive_file, pretrained_model_name_or_path, ignore_mismatched_sizes, sharded_metadata, _fast_init, low_cpu_mem_usage, device_map, offload_folder, offload_state_dict, dtype, hf_quantizer, keep_in_fp32_modules, gguf_path)\u001b[0m\n\u001b[1;32m   4345\u001b[0m     \u001b[38;5;28;01mif\u001b[39;00m \u001b[38;5;124m\"\u001b[39m\u001b[38;5;124msize mismatch\u001b[39m\u001b[38;5;124m\"\u001b[39m \u001b[38;5;129;01min\u001b[39;00m error_msg:\n\u001b[1;32m   4346\u001b[0m         error_msg \u001b[38;5;241m+\u001b[39m\u001b[38;5;241m=\u001b[39m (\n\u001b[1;32m   4347\u001b[0m             \u001b[38;5;124m\"\u001b[39m\u001b[38;5;130;01m\\n\u001b[39;00m\u001b[38;5;130;01m\\t\u001b[39;00m\u001b[38;5;124mYou may consider adding `ignore_mismatched_sizes=True` in the model `from_pretrained` method.\u001b[39m\u001b[38;5;124m\"\u001b[39m\n\u001b[1;32m   4348\u001b[0m         )\n\u001b[0;32m-> 4349\u001b[0m     \u001b[38;5;28;01mraise\u001b[39;00m \u001b[38;5;167;01mRuntimeError\u001b[39;00m(\u001b[38;5;124mf\u001b[39m\u001b[38;5;124m\"\u001b[39m\u001b[38;5;124mError(s) in loading state_dict for \u001b[39m\u001b[38;5;132;01m{\u001b[39;00mmodel\u001b[38;5;241m.\u001b[39m\u001b[38;5;18m__class__\u001b[39m\u001b[38;5;241m.\u001b[39m\u001b[38;5;18m__name__\u001b[39m\u001b[38;5;132;01m}\u001b[39;00m\u001b[38;5;124m:\u001b[39m\u001b[38;5;130;01m\\n\u001b[39;00m\u001b[38;5;130;01m\\t\u001b[39;00m\u001b[38;5;132;01m{\u001b[39;00merror_msg\u001b[38;5;132;01m}\u001b[39;00m\u001b[38;5;124m\"\u001b[39m)\n\u001b[1;32m   4351\u001b[0m \u001b[38;5;28;01mif\u001b[39;00m \u001b[38;5;28mlen\u001b[39m(unexpected_keys) \u001b[38;5;241m>\u001b[39m \u001b[38;5;241m0\u001b[39m:\n\u001b[1;32m   4352\u001b[0m     archs \u001b[38;5;241m=\u001b[39m [] \u001b[38;5;28;01mif\u001b[39;00m model\u001b[38;5;241m.\u001b[39mconfig\u001b[38;5;241m.\u001b[39marchitectures \u001b[38;5;129;01mis\u001b[39;00m \u001b[38;5;28;01mNone\u001b[39;00m \u001b[38;5;28;01melse\u001b[39;00m model\u001b[38;5;241m.\u001b[39mconfig\u001b[38;5;241m.\u001b[39marchitectures\n",
      "\u001b[0;31mRuntimeError\u001b[0m: Error(s) in loading state_dict for GPT2LMHeadModel:\n\tsize mismatch for transformer.wpe.weight: copying a param with shape torch.Size([1024, 768]) from checkpoint, the shape in current model is torch.Size([2048, 768]).\n\tYou may consider adding `ignore_mismatched_sizes=True` in the model `from_pretrained` method."
     ]
    }
   ],
   "source": [
    "from transformers import pipeline, AutoTokenizer, AutoModelForCausalLM, GPT2Config\n",
    "\n",
    "model_path = \"uw-hai/polyjuice\"\n",
    "new_context_length = 2048\n",
    "\n",
    "config = GPT2Config.from_pretrained(model_path)\n",
    "config.n_positions = new_context_length\n",
    "# config.n_ctx = new_context_length\n",
    "\n",
    "model = AutoModelForCausalLM.from_pretrained(model_path, config=config)\n",
    "tokenizer = AutoTokenizer.from_pretrained(model_path)\n",
    "\n",
    "pipeline = pipeline(\n",
    "    \"text-generation\", \n",
    "    model=model, \n",
    "    tokenizer=tokenizer\n",
    ")\n"
   ]
  },
  {
   "cell_type": "code",
   "execution_count": 7,
   "id": "434fa3cf",
   "metadata": {},
   "outputs": [
    {
     "name": "stderr",
     "output_type": "stream",
     "text": [
      "Setting `pad_token_id` to `eos_token_id`:50256 for open-end generation.\n"
     ]
    },
    {
     "data": {
      "text/plain": [
       "[{'generated_text': 'The quick brown fox can be distinguished from smooth brown fox by the dark brown irregular spots. <|perturb|> [resemantic] The quick brown [BLANK] brown [BLANK] by the dark brown irregular spots. [SE'}]"
      ]
     },
     "execution_count": 7,
     "metadata": {},
     "output_type": "execute_result"
    }
   ],
   "source": [
    "text = \"The quick brown fox\"\n",
    "output = pipeline(text)\n",
    "output"
   ]
  },
  {
   "cell_type": "code",
   "execution_count": 9,
   "id": "b425f52d",
   "metadata": {},
   "outputs": [
    {
     "data": {
      "text/plain": [
       "GPT2Config {\n",
       "  \"_name_or_path\": \"/home/wtshuang/datasets/models//gpt2_polyjuice/checkpoint-213650\",\n",
       "  \"activation_function\": \"gelu_new\",\n",
       "  \"architectures\": [\n",
       "    \"GPT2LMHeadModel\"\n",
       "  ],\n",
       "  \"attn_pdrop\": 0.1,\n",
       "  \"bos_token_id\": 50256,\n",
       "  \"embd_pdrop\": 0.1,\n",
       "  \"eos_token_id\": 50256,\n",
       "  \"gradient_checkpointing\": false,\n",
       "  \"initializer_range\": 0.02,\n",
       "  \"layer_norm_epsilon\": 1e-05,\n",
       "  \"model_type\": \"gpt2\",\n",
       "  \"n_ctx\": 1024,\n",
       "  \"n_embd\": 768,\n",
       "  \"n_head\": 12,\n",
       "  \"n_inner\": null,\n",
       "  \"n_layer\": 12,\n",
       "  \"n_positions\": 1024,\n",
       "  \"reorder_and_upcast_attn\": false,\n",
       "  \"resid_pdrop\": 0.1,\n",
       "  \"scale_attn_by_inverse_layer_idx\": false,\n",
       "  \"scale_attn_weights\": true,\n",
       "  \"summary_activation\": null,\n",
       "  \"summary_first_dropout\": 0.1,\n",
       "  \"summary_proj_to_labels\": true,\n",
       "  \"summary_type\": \"cls_index\",\n",
       "  \"summary_use_proj\": true,\n",
       "  \"task_specific_params\": {\n",
       "    \"text-generation\": {\n",
       "      \"do_sample\": true,\n",
       "      \"max_length\": 50\n",
       "    }\n",
       "  },\n",
       "  \"transformers_version\": \"4.42.3\",\n",
       "  \"use_cache\": true,\n",
       "  \"vocab_size\": 50257\n",
       "}"
      ]
     },
     "execution_count": 9,
     "metadata": {},
     "output_type": "execute_result"
    }
   ],
   "source": [
    "config"
   ]
  },
  {
   "cell_type": "code",
   "execution_count": null,
   "id": "7c414aba",
   "metadata": {},
   "outputs": [],
   "source": []
  }
 ],
 "metadata": {
  "kernelspec": {
   "display_name": "Python 3",
   "language": "python",
   "name": "python3"
  },
  "language_info": {
   "codemirror_mode": {
    "name": "ipython",
    "version": 3
   },
   "file_extension": ".py",
   "mimetype": "text/x-python",
   "name": "python",
   "nbconvert_exporter": "python",
   "pygments_lexer": "ipython3",
   "version": "3.12.4"
  }
 },
 "nbformat": 4,
 "nbformat_minor": 5
}
