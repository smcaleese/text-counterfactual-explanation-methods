{
 "cells": [
  {
   "cell_type": "markdown",
   "metadata": {},
   "source": [
    "## Naive method prompt\n",
    "\n",
    "### Prompts\n",
    "\n",
    "The prompts for the naive and guided approaches are in table 1 of the paper.\n",
    "\n",
    "Naive prompt:\n",
    "\n",
    "```\n",
    "In the task of <task on task-dataset>, a trained black-box classifier correctly predicted the label ‘<yi>’ for the following text. Generate a counterfactual explanation by making minimal changes to the input text, so that the label changes from ‘<yi>’ to ‘<ycf >’. Use the following definition of ‘counterfactual explanation’: “A counterfactual explanation reveals what should have been different in an instance to observe a diverse outcome.\" Enclose the generated text within <new> tags.\\n—\\nText: <xi>.\n",
    "```\n",
    "\n",
    "<task on task-dataset> denotes the task description such as “natural language inference on the SNLI dataset\". <xi> denotes the input text. <yi> denotes the label output by the black-box classifier for the input text <xi>. <ycf > denotes the desired label for the counterfactual text (any label other than <yi>).\n"
   ]
  },
  {
   "cell_type": "code",
   "execution_count": 21,
   "metadata": {},
   "outputs": [],
   "source": []
  },
  {
   "cell_type": "code",
   "execution_count": 23,
   "metadata": {},
   "outputs": [
    {
     "data": {
      "text/plain": [
       "'<new>An uninspiring love story that brings out the latent 15-year-old romantic in everyone.</new>'"
      ]
     },
     "execution_count": 23,
     "metadata": {},
     "output_type": "execute_result"
    }
   ],
   "source": [
    "from openai import OpenAI\n",
    "client = OpenAI()\n"
   ]
  },
  {
   "cell_type": "code",
   "execution_count": 43,
   "metadata": {},
   "outputs": [],
   "source": [
    "import re\n",
    "\n",
    "task = \"sentiment analysis on the SST-2 dataset\"\n",
    "\n",
    "def generate_fizle_counterfactual(original_text, args):\n",
    "    original_label = args[\"original_label\"]\n",
    "    cf_label = 0 if original_label == 1 else 1\n",
    "\n",
    "    prompt = f\"\"\"In the task of {task}, a trained black-box classifier correctly predicted the label '{original_label}' for the following text. Generate a counterfactual explanation by making minimal changes to the input text, so that the label changes from '{original_label}' to '{cf_label}'. Use the following definition of 'counterfactual explanation': \"A counterfactual explanation reveals what should have been different in an instance to observe a diverse outcome.\" Enclose the generated text within <new> tags.\n",
    "    -\n",
    "    Text: {original_text}\"\"\"\n",
    "\n",
    "    completion = client.chat.completions.create(\n",
    "        model=\"gpt-4-turbo\",\n",
    "        messages=[\n",
    "            {\"role\": \"system\", \"content\": prompt}\n",
    "        ]\n",
    "    )\n",
    "\n",
    "    output = completion.choices[0].message.content\n",
    "\n",
    "    counterfactual_text = re.search(\"<new>(.*?)</new>\", output).group(1)\n",
    "    return counterfactual_text\n"
   ]
  },
  {
   "cell_type": "code",
   "execution_count": 44,
   "metadata": {},
   "outputs": [
    {
     "name": "stdout",
     "output_type": "stream",
     "text": [
      "original_text       : an idealistic love story that brings out the latent 15-year-old romantic in everyone .\n",
      "counterfactual_text : An unrealistic love story that disappoints the latent 15-year-old romantic in everyone.\n"
     ]
    }
   ],
   "source": [
    "original_text = \"an idealistic love story that brings out the latent 15-year-old romantic in everyone .\"\n",
    "args = {\n",
    "    \"original_label\": 1\n",
    "}\n",
    "\n",
    "counterfactual_text = generate_fizle_counterfactual(original_text, args)\n",
    "\n",
    "print(f\"{'original_text'.ljust(20)}: {original_text}\")\n",
    "print(f\"{'counterfactual_text'.ljust(20)}: {counterfactual_text}\")"
   ]
  },
  {
   "cell_type": "code",
   "execution_count": 45,
   "metadata": {},
   "outputs": [
    {
     "name": "stdout",
     "output_type": "stream",
     "text": [
      "2\n"
     ]
    }
   ],
   "source": [
    "x = 2\n",
    "\n",
    "def print_var():\n",
    "    print(x)\n",
    "\n",
    "print_var()"
   ]
  },
  {
   "cell_type": "code",
   "execution_count": null,
   "metadata": {},
   "outputs": [],
   "source": []
  }
 ],
 "metadata": {
  "kernelspec": {
   "display_name": ".env",
   "language": "python",
   "name": "python3"
  },
  "language_info": {
   "codemirror_mode": {
    "name": "ipython",
    "version": 3
   },
   "file_extension": ".py",
   "mimetype": "text/x-python",
   "name": "python",
   "nbconvert_exporter": "python",
   "pygments_lexer": "ipython3",
   "version": "3.12.4"
  }
 },
 "nbformat": 4,
 "nbformat_minor": 2
}
