{
 "cells": [
  {
   "cell_type": "code",
   "execution_count": 1,
   "metadata": {},
   "outputs": [],
   "source": [
    "import pandas as pd"
   ]
  },
  {
   "cell_type": "markdown",
   "metadata": {},
   "source": [
    "## CLOSS output analysis and evaluation"
   ]
  },
  {
   "cell_type": "code",
   "execution_count": 30,
   "metadata": {},
   "outputs": [
    {
     "data": {
      "text/html": [
       "<div>\n",
       "<style scoped>\n",
       "    .dataframe tbody tr th:only-of-type {\n",
       "        vertical-align: middle;\n",
       "    }\n",
       "\n",
       "    .dataframe tbody tr th {\n",
       "        vertical-align: top;\n",
       "    }\n",
       "\n",
       "    .dataframe thead th {\n",
       "        text-align: right;\n",
       "    }\n",
       "</style>\n",
       "<table border=\"1\" class=\"dataframe\">\n",
       "  <thead>\n",
       "    <tr style=\"text-align: right;\">\n",
       "      <th></th>\n",
       "      <th>original_text</th>\n",
       "      <th>original_score</th>\n",
       "      <th>original_perplexity</th>\n",
       "      <th>counterfactual_text</th>\n",
       "      <th>counterfactual_score</th>\n",
       "      <th>counterfactual_perplexity</th>\n",
       "      <th>found_flip</th>\n",
       "      <th>frac_tokens_same</th>\n",
       "    </tr>\n",
       "  </thead>\n",
       "  <tbody>\n",
       "    <tr>\n",
       "      <th>0</th>\n",
       "      <td>This movie was sadly under-promoted but proved...</td>\n",
       "      <td>0.999810</td>\n",
       "      <td>34.899414</td>\n",
       "      <td>This movie was eventually under-promoted but a...</td>\n",
       "      <td>0.457455</td>\n",
       "      <td>93.200562</td>\n",
       "      <td>True</td>\n",
       "      <td>0.921739</td>\n",
       "    </tr>\n",
       "    <tr>\n",
       "      <th>1</th>\n",
       "      <td>On a dark, gloomy new year's eve night, an ill...</td>\n",
       "      <td>0.998378</td>\n",
       "      <td>42.523102</td>\n",
       "      <td>On a dark, gloomy new year's eve night, an ill...</td>\n",
       "      <td>0.002253</td>\n",
       "      <td>43.910484</td>\n",
       "      <td>True</td>\n",
       "      <td>0.998047</td>\n",
       "    </tr>\n",
       "    <tr>\n",
       "      <th>2</th>\n",
       "      <td>Haines is excellent as the brash cadet who thi...</td>\n",
       "      <td>0.999730</td>\n",
       "      <td>135.480118</td>\n",
       "      <td>Haines is failed as the brash cadet who thinks...</td>\n",
       "      <td>0.451663</td>\n",
       "      <td>147.042648</td>\n",
       "      <td>True</td>\n",
       "      <td>0.984925</td>\n",
       "    </tr>\n",
       "    <tr>\n",
       "      <th>3</th>\n",
       "      <td>This movie states through its protagonist that...</td>\n",
       "      <td>0.000304</td>\n",
       "      <td>37.368423</td>\n",
       "      <td>This movie states through its protagonist that...</td>\n",
       "      <td>0.989142</td>\n",
       "      <td>40.474190</td>\n",
       "      <td>True</td>\n",
       "      <td>0.990291</td>\n",
       "    </tr>\n",
       "    <tr>\n",
       "      <th>4</th>\n",
       "      <td>Just saw this movie on opening night. I read s...</td>\n",
       "      <td>0.000141</td>\n",
       "      <td>30.122791</td>\n",
       "      <td>Just saw this movie on opening night. I read s...</td>\n",
       "      <td>0.950138</td>\n",
       "      <td>30.520218</td>\n",
       "      <td>True</td>\n",
       "      <td>0.988950</td>\n",
       "    </tr>\n",
       "  </tbody>\n",
       "</table>\n",
       "</div>"
      ],
      "text/plain": [
       "                                       original_text  original_score  \\\n",
       "0  This movie was sadly under-promoted but proved...        0.999810   \n",
       "1  On a dark, gloomy new year's eve night, an ill...        0.998378   \n",
       "2  Haines is excellent as the brash cadet who thi...        0.999730   \n",
       "3  This movie states through its protagonist that...        0.000304   \n",
       "4  Just saw this movie on opening night. I read s...        0.000141   \n",
       "\n",
       "   original_perplexity                                counterfactual_text  \\\n",
       "0            34.899414  This movie was eventually under-promoted but a...   \n",
       "1            42.523102  On a dark, gloomy new year's eve night, an ill...   \n",
       "2           135.480118  Haines is failed as the brash cadet who thinks...   \n",
       "3            37.368423  This movie states through its protagonist that...   \n",
       "4            30.122791  Just saw this movie on opening night. I read s...   \n",
       "\n",
       "   counterfactual_score  counterfactual_perplexity  found_flip  \\\n",
       "0              0.457455                  93.200562        True   \n",
       "1              0.002253                  43.910484        True   \n",
       "2              0.451663                 147.042648        True   \n",
       "3              0.989142                  40.474190        True   \n",
       "4              0.950138                  30.520218        True   \n",
       "\n",
       "   frac_tokens_same  \n",
       "0          0.921739  \n",
       "1          0.998047  \n",
       "2          0.984925  \n",
       "3          0.990291  \n",
       "4          0.988950  "
      ]
     },
     "execution_count": 30,
     "metadata": {},
     "output_type": "execute_result"
    }
   ],
   "source": [
    "df = pd.read_csv(\"../output/closs-output.csv\")\n",
    "df.head()"
   ]
  },
  {
   "cell_type": "code",
   "execution_count": 11,
   "metadata": {},
   "outputs": [
    {
     "data": {
      "text/html": [
       "<div>\n",
       "<style scoped>\n",
       "    .dataframe tbody tr th:only-of-type {\n",
       "        vertical-align: middle;\n",
       "    }\n",
       "\n",
       "    .dataframe tbody tr th {\n",
       "        vertical-align: top;\n",
       "    }\n",
       "\n",
       "    .dataframe thead th {\n",
       "        text-align: right;\n",
       "    }\n",
       "</style>\n",
       "<table border=\"1\" class=\"dataframe\">\n",
       "  <thead>\n",
       "    <tr style=\"text-align: right;\">\n",
       "      <th></th>\n",
       "      <th>original_text</th>\n",
       "      <th>original_score</th>\n",
       "      <th>original_perplexity</th>\n",
       "      <th>counterfactual_text</th>\n",
       "      <th>counterfactual_score</th>\n",
       "      <th>counterfactual_perplexity</th>\n",
       "      <th>found_flip</th>\n",
       "      <th>frac_tokens_same</th>\n",
       "    </tr>\n",
       "  </thead>\n",
       "  <tbody>\n",
       "    <tr>\n",
       "      <th>0</th>\n",
       "      <td>This movie was sadly under-promoted but proved...</td>\n",
       "      <td>0.999810</td>\n",
       "      <td>34.899414</td>\n",
       "      <td>This movie was recently under-promoted but pro...</td>\n",
       "      <td>0.224318</td>\n",
       "      <td>84.701691</td>\n",
       "      <td>True</td>\n",
       "      <td>0.930435</td>\n",
       "    </tr>\n",
       "    <tr>\n",
       "      <th>1</th>\n",
       "      <td>On a dark, gloomy new year's eve night, an ill...</td>\n",
       "      <td>0.998378</td>\n",
       "      <td>42.523079</td>\n",
       "      <td>On a dark, gloomy new year's eve night, an ill...</td>\n",
       "      <td>0.010024</td>\n",
       "      <td>44.452606</td>\n",
       "      <td>True</td>\n",
       "      <td>0.998047</td>\n",
       "    </tr>\n",
       "    <tr>\n",
       "      <th>2</th>\n",
       "      <td>Haines is excellent as the brash cadet who thi...</td>\n",
       "      <td>0.999730</td>\n",
       "      <td>135.480377</td>\n",
       "      <td>Haines is excellent as the brash cadet who thi...</td>\n",
       "      <td>0.459861</td>\n",
       "      <td>145.363571</td>\n",
       "      <td>True</td>\n",
       "      <td>0.984925</td>\n",
       "    </tr>\n",
       "    <tr>\n",
       "      <th>3</th>\n",
       "      <td>This movie states through its protagonist that...</td>\n",
       "      <td>0.000304</td>\n",
       "      <td>37.368465</td>\n",
       "      <td>This movie states through its protagonist that...</td>\n",
       "      <td>0.591664</td>\n",
       "      <td>45.895756</td>\n",
       "      <td>True</td>\n",
       "      <td>0.990291</td>\n",
       "    </tr>\n",
       "    <tr>\n",
       "      <th>4</th>\n",
       "      <td>Just saw this movie on opening night. I read s...</td>\n",
       "      <td>0.000141</td>\n",
       "      <td>30.122791</td>\n",
       "      <td>Just saw this movie on opening night. I read s...</td>\n",
       "      <td>0.809161</td>\n",
       "      <td>33.185787</td>\n",
       "      <td>True</td>\n",
       "      <td>0.988950</td>\n",
       "    </tr>\n",
       "  </tbody>\n",
       "</table>\n",
       "</div>"
      ],
      "text/plain": [
       "                                       original_text  original_score  \\\n",
       "0  This movie was sadly under-promoted but proved...        0.999810   \n",
       "1  On a dark, gloomy new year's eve night, an ill...        0.998378   \n",
       "2  Haines is excellent as the brash cadet who thi...        0.999730   \n",
       "3  This movie states through its protagonist that...        0.000304   \n",
       "4  Just saw this movie on opening night. I read s...        0.000141   \n",
       "\n",
       "   original_perplexity                                counterfactual_text  \\\n",
       "0            34.899414  This movie was recently under-promoted but pro...   \n",
       "1            42.523079  On a dark, gloomy new year's eve night, an ill...   \n",
       "2           135.480377  Haines is excellent as the brash cadet who thi...   \n",
       "3            37.368465  This movie states through its protagonist that...   \n",
       "4            30.122791  Just saw this movie on opening night. I read s...   \n",
       "\n",
       "   counterfactual_score  counterfactual_perplexity  found_flip  \\\n",
       "0              0.224318                  84.701691        True   \n",
       "1              0.010024                  44.452606        True   \n",
       "2              0.459861                 145.363571        True   \n",
       "3              0.591664                  45.895756        True   \n",
       "4              0.809161                  33.185787        True   \n",
       "\n",
       "   frac_tokens_same  \n",
       "0          0.930435  \n",
       "1          0.998047  \n",
       "2          0.984925  \n",
       "3          0.990291  \n",
       "4          0.988950  "
      ]
     },
     "execution_count": 11,
     "metadata": {},
     "output_type": "execute_result"
    }
   ],
   "source": [
    "# remove the first column:\n",
    "df = df.drop(df.columns[0], axis=1)\n",
    "df.head()"
   ]
  },
  {
   "cell_type": "markdown",
   "metadata": {},
   "source": [
    "The metrics we want to calculate are:\n",
    "\n",
    "- **Label flip score:** the percentage of the time the counterfactual flips the output of the classifier.\n",
    "    - You can calculate this easily using the found flip column.\n",
    "-  **Fraction of tokens changed:** the average fraction of tokens that are changed in the input when generating the counterfactual.\n",
    "    - Calculate this using the frac_tokens_same column.\n",
    "- **Perplexity:** the perplexity score of the generated counterfactual (lower is better)\n",
    "    - Calculate the average perplexity for the original and counterfactual text."
   ]
  },
  {
   "cell_type": "markdown",
   "metadata": {},
   "source": [
    "Label flip score:"
   ]
  },
  {
   "cell_type": "code",
   "execution_count": 28,
   "metadata": {},
   "outputs": [
    {
     "name": "stdout",
     "output_type": "stream",
     "text": [
      "Label flip score: 0.900\n"
     ]
    }
   ],
   "source": [
    "label_flip_score = df[\"found_flip\"].mean()\n",
    "print(f\"Label flip score: {label_flip_score:.3f}\")"
   ]
  },
  {
   "cell_type": "markdown",
   "metadata": {},
   "source": [
    "Mean fraction of tokens unchanged:"
   ]
  },
  {
   "cell_type": "code",
   "execution_count": 34,
   "metadata": {},
   "outputs": [
    {
     "name": "stdout",
     "output_type": "stream",
     "text": [
      "mean fraction of tokens the same: 0.980\n"
     ]
    }
   ],
   "source": [
    "mean_fraction_tokens_same = df[\"frac_tokens_same\"].mean()\n",
    "print(f\"mean fraction of tokens the same: {mean_fraction_tokens_same:.3f}\")"
   ]
  },
  {
   "cell_type": "markdown",
   "metadata": {},
   "source": [
    "Calculate the mean perplexity. You can use the mean original perplexity as an ideal to compare the counterfactual perplexity to."
   ]
  },
  {
   "cell_type": "code",
   "execution_count": 36,
   "metadata": {},
   "outputs": [
    {
     "name": "stdout",
     "output_type": "stream",
     "text": [
      "mean original perplexity: 53.870\n",
      "mean counterfactual perplexity: 65.052\n",
      "\n",
      "inverted original perplexity: 0.019\n",
      "inverted counterfactual perplexity: 0.015\n"
     ]
    }
   ],
   "source": [
    "def min_max_scaler(x):\n",
    "    return (x - x.min()) / (x.max() - x.min())\n",
    "\n",
    "mean_original_perplexity = df[\"original_perplexity\"].mean()\n",
    "inverted_original_perplexity = 1 / mean_original_perplexity\n",
    "\n",
    "mean_counterfactual_perplexity = df[\"counterfactual_perplexity\"].mean()\n",
    "inverted_counterfactual_perplexity = 1 / mean_counterfactual_perplexity\n",
    "\n",
    "print(f\"mean original perplexity: {mean_original_perplexity:.3f}\")\n",
    "print(f\"mean counterfactual perplexity: {mean_perplexity:.3f}\", end=\"\\n\\n\")\n",
    "\n",
    "print(f\"inverted original perplexity: {inverted_original_perplexity:.3f}\")\n",
    "print(f\"inverted counterfactual perplexity: {inverted_counterfactual_perplexity:.3f}\")"
   ]
  },
  {
   "cell_type": "markdown",
   "metadata": {},
   "source": [
    "Note: you could use minmax scaling to scale the perplexity score range from 0 to 1."
   ]
  },
  {
   "cell_type": "markdown",
   "metadata": {},
   "source": [
    "Create a grouped bar chart showing the three metrics for CLOSS. I would like a grouped bar chart showing the three metrics for each model:\n",
    "- Label flip rate: how often the counterfactual flips the label\n",
    "- Fraction of tokens the same: how similar the counterfactual is to the original text\n",
    "- Inverted perplexity: how natural and realistic the counterfactual is"
   ]
  },
  {
   "cell_type": "code",
   "execution_count": 42,
   "metadata": {},
   "outputs": [
    {
     "data": {
      "text/html": [
       "<div>\n",
       "<style scoped>\n",
       "    .dataframe tbody tr th:only-of-type {\n",
       "        vertical-align: middle;\n",
       "    }\n",
       "\n",
       "    .dataframe tbody tr th {\n",
       "        vertical-align: top;\n",
       "    }\n",
       "\n",
       "    .dataframe thead th {\n",
       "        text-align: right;\n",
       "    }\n",
       "</style>\n",
       "<table border=\"1\" class=\"dataframe\">\n",
       "  <thead>\n",
       "    <tr style=\"text-align: right;\">\n",
       "      <th></th>\n",
       "      <th>label_flip_score</th>\n",
       "      <th>mean_fraction_tokens_same</th>\n",
       "      <th>mean_inverted_counterfactual_perplexity</th>\n",
       "    </tr>\n",
       "    <tr>\n",
       "      <th>method_name</th>\n",
       "      <th></th>\n",
       "      <th></th>\n",
       "      <th></th>\n",
       "    </tr>\n",
       "  </thead>\n",
       "  <tbody>\n",
       "    <tr>\n",
       "      <th>CLOSS</th>\n",
       "      <td>0.9</td>\n",
       "      <td>0.980383</td>\n",
       "      <td>0.015372</td>\n",
       "    </tr>\n",
       "  </tbody>\n",
       "</table>\n",
       "</div>"
      ],
      "text/plain": [
       "             label_flip_score  mean_fraction_tokens_same  \\\n",
       "method_name                                                \n",
       "CLOSS                     0.9                   0.980383   \n",
       "\n",
       "             mean_inverted_counterfactual_perplexity  \n",
       "method_name                                           \n",
       "CLOSS                                       0.015372  "
      ]
     },
     "execution_count": 42,
     "metadata": {},
     "output_type": "execute_result"
    }
   ],
   "source": [
    "data = {\n",
    "    \"method_name\": [\"CLOSS\"],\n",
    "    \"label_flip_score\": [label_flip_score],\n",
    "    \"mean_fraction_tokens_same\": [mean_fraction_tokens_same],\n",
    "    \"mean_inverted_counterfactual_perplexity\": [inverted_counterfactual_perplexity],\n",
    "}\n",
    "# df = pd.DataFrame(data, index=[\"method_name\"])\n",
    "df = pd.DataFrame(data)\n",
    "df = df.set_index(\"method_name\")\n",
    "df.head()"
   ]
  },
  {
   "cell_type": "code",
   "execution_count": 49,
   "metadata": {},
   "outputs": [
    {
     "data": {
      "text/plain": [
       "<matplotlib.legend.Legend at 0x1286efb00>"
      ]
     },
     "execution_count": 49,
     "metadata": {},
     "output_type": "execute_result"
    },
    {
     "data": {
      "image/png": "[encoded data removed]",
      "text/plain": [
       "<Figure size 1600x800 with 1 Axes>"
      ]
     },
     "metadata": {},
     "output_type": "display_data"
    }
   ],
   "source": [
    "ax = df.plot.bar(figsize=(16, 8), fontsize=12)\n",
    "ax.set_xlabel(\"\", fontsize=12)\n",
    "ax.set_xticklabels(df.index, rotation=0)\n",
    "ax.set_title(\"Counterfactual methods\", fontsize=14)\n",
    "ax.legend([\"Label flip score\", \"Mean fraction of tokens same\", \"Mean inverted counterfactual perplexity\"], fontsize=12)\n",
    "\n",
    "# ax = df.plot.bar(figsize=(15, 4), fontsize=14)\n",
    "# # customize the axes and title\n",
    "# ax.set_ylim((0,25))\n",
    "# ax.set_xlabel(\"Student\", fontsize=14)\n",
    "# ax.set_ylabel(\"Mark %\", fontsize=14)\n",
    "# ax.set_title(\"Module Results\", fontsize=14)\n",
    "# # move the legend to outside the plot\n",
    "# ax.legend(loc='center left', bbox_to_anchor=(1.0, 0.5), fontsize=14);"
   ]
  },
  {
   "cell_type": "code",
   "execution_count": null,
   "metadata": {},
   "outputs": [],
   "source": []
  }
 ],
 "metadata": {
  "kernelspec": {
   "display_name": ".env",
   "language": "python",
   "name": "python3"
  },
  "language_info": {
   "codemirror_mode": {
    "name": "ipython",
    "version": 3
   },
   "file_extension": ".py",
   "mimetype": "text/x-python",
   "name": "python",
   "nbconvert_exporter": "python",
   "pygments_lexer": "ipython3",
   "version": "3.12.4"
  }
 },
 "nbformat": 4,
 "nbformat_minor": 2
}
