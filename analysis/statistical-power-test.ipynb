{
 "cells": [
  {
   "cell_type": "code",
   "execution_count": 10,
   "metadata": {},
   "outputs": [
    {
     "name": "stdout",
     "output_type": "stream",
     "text": [
      "Required sample size per group: 1571 for effect size 0.1\n",
      "Required sample size per group: 394 for effect size 0.2\n",
      "Required sample size per group: 176 for effect size 0.3\n",
      "Required sample size per group: 100 for effect size 0.4\n",
      "Required sample size per group: 64 for effect size 0.5\n"
     ]
    }
   ],
   "source": [
    "import statsmodels.stats.power as smp\n",
    "import numpy as np\n",
    "\n",
    "# Define parameters\n",
    "effect_size = 0.1  # The difference in proportions you want to detect\n",
    "alpha = 0.05  # Significance level\n",
    "power = 0.8  # Desired power\n",
    "ratio = 1  # Assume equal sample sizes for both methods\n",
    "\n",
    "# Perform power analysis\n",
    "for effect_size in [0.1, 0.2, 0.3, 0.4, 0.5]:\n",
    "    analysis = smp.TTestIndPower()\n",
    "    sample_size = analysis.solve_power(effect_size=effect_size, \n",
    "                                    alpha=alpha, \n",
    "                                    power=power, \n",
    "                                    ratio=ratio,\n",
    "                                    alternative=\"two-sided\")\n",
    "\n",
    "    print(f\"Required sample size per group: {int(np.ceil(sample_size))} for effect size {effect_size}\")\n"
   ]
  },
  {
   "cell_type": "code",
   "execution_count": null,
   "metadata": {},
   "outputs": [],
   "source": []
  }
 ],
 "metadata": {
  "kernelspec": {
   "display_name": ".env",
   "language": "python",
   "name": "python3"
  },
  "language_info": {
   "codemirror_mode": {
    "name": "ipython",
    "version": 3
   },
   "file_extension": ".py",
   "mimetype": "text/x-python",
   "name": "python",
   "nbconvert_exporter": "python",
   "pygments_lexer": "ipython3",
   "version": "3.12.4"
  }
 },
 "nbformat": 4,
 "nbformat_minor": 2
}
