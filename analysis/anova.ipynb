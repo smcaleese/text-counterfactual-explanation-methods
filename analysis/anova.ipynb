{
 "cells": [
  {
   "cell_type": "code",
   "execution_count": 1,
   "metadata": {},
   "outputs": [],
   "source": [
    "import pandas as pd\n",
    "import statsmodels.api as sm\n",
    "from statsmodels.formula.api import ols\n",
    "from statsmodels.stats.anova import AnovaRM"
   ]
  },
  {
   "cell_type": "code",
   "execution_count": 3,
   "metadata": {},
   "outputs": [
    {
     "name": "stdout",
     "output_type": "stream",
     "text": [
      "               Anova\n",
      "===================================\n",
      "       F Value Num DF Den DF Pr > F\n",
      "-----------------------------------\n",
      "Metric 47.1538 2.0000 2.0000 0.0208\n",
      "===================================\n",
      "\n"
     ]
    }
   ],
   "source": [
    "# Example DataFrame\n",
    "data = pd.DataFrame({\n",
    "    'Method': ['Method1', 'Method1', 'Method1', 'Method2', 'Method2', 'Method2'],\n",
    "    'Metric': ['Metric1', 'Metric2', 'Metric3', 'Metric1', 'Metric2', 'Metric3'],\n",
    "    'Score': [2.5, 3.0, 4.1, 2.8, 3.2, 4.0]\n",
    "})\n",
    "\n",
    "# Run Repeated Measures ANOVA\n",
    "anova_results = AnovaRM(data, 'Score', 'Method', within=['Metric']).fit()\n",
    "\n",
    "print(anova_results)\n"
   ]
  },
  {
   "cell_type": "code",
   "execution_count": 4,
   "metadata": {},
   "outputs": [
    {
     "data": {
      "text/html": [
       "<div>\n",
       "<style scoped>\n",
       "    .dataframe tbody tr th:only-of-type {\n",
       "        vertical-align: middle;\n",
       "    }\n",
       "\n",
       "    .dataframe tbody tr th {\n",
       "        vertical-align: top;\n",
       "    }\n",
       "\n",
       "    .dataframe thead th {\n",
       "        text-align: right;\n",
       "    }\n",
       "</style>\n",
       "<table border=\"1\" class=\"dataframe\">\n",
       "  <thead>\n",
       "    <tr style=\"text-align: right;\">\n",
       "      <th></th>\n",
       "      <th>Method</th>\n",
       "      <th>Metric</th>\n",
       "      <th>Score</th>\n",
       "    </tr>\n",
       "  </thead>\n",
       "  <tbody>\n",
       "    <tr>\n",
       "      <th>0</th>\n",
       "      <td>Method1</td>\n",
       "      <td>Metric1</td>\n",
       "      <td>2.5</td>\n",
       "    </tr>\n",
       "    <tr>\n",
       "      <th>1</th>\n",
       "      <td>Method1</td>\n",
       "      <td>Metric2</td>\n",
       "      <td>3.0</td>\n",
       "    </tr>\n",
       "    <tr>\n",
       "      <th>2</th>\n",
       "      <td>Method1</td>\n",
       "      <td>Metric3</td>\n",
       "      <td>4.1</td>\n",
       "    </tr>\n",
       "    <tr>\n",
       "      <th>3</th>\n",
       "      <td>Method2</td>\n",
       "      <td>Metric1</td>\n",
       "      <td>2.8</td>\n",
       "    </tr>\n",
       "    <tr>\n",
       "      <th>4</th>\n",
       "      <td>Method2</td>\n",
       "      <td>Metric2</td>\n",
       "      <td>3.2</td>\n",
       "    </tr>\n",
       "  </tbody>\n",
       "</table>\n",
       "</div>"
      ],
      "text/plain": [
       "    Method   Metric  Score\n",
       "0  Method1  Metric1    2.5\n",
       "1  Method1  Metric2    3.0\n",
       "2  Method1  Metric3    4.1\n",
       "3  Method2  Metric1    2.8\n",
       "4  Method2  Metric2    3.2"
      ]
     },
     "execution_count": 4,
     "metadata": {},
     "output_type": "execute_result"
    }
   ],
   "source": [
    "data.head()"
   ]
  },
  {
   "cell_type": "code",
   "execution_count": 5,
   "metadata": {},
   "outputs": [],
   "source": [
    "import numpy as np\n",
    "import pandas as pd\n",
    "from scipy.stats import kruskal\n",
    "import seaborn as sns\n",
    "import matplotlib.pyplot as plt\n"
   ]
  },
  {
   "cell_type": "code",
   "execution_count": 9,
   "metadata": {},
   "outputs": [
    {
     "name": "stdout",
     "output_type": "stream",
     "text": [
      "       Value   Group\n",
      "0  14.967142  Group1\n",
      "1   8.617357  Group1\n",
      "2  16.476885  Group1\n",
      "3  25.230299  Group1\n",
      "4   7.658466  Group1\n"
     ]
    }
   ],
   "source": [
    "# Sample data for three groups\n",
    "np.random.seed(42)\n",
    "group1 = np.random.normal(loc=10, scale=10, size=30)  # Normally distributed data\n",
    "group2 = np.random.exponential(scale=50, size=30)      # Exponentially distributed data\n",
    "group3 = np.random.uniform(low=30, high=70, size=30)   # Uniformly distributed data\n",
    "\n",
    "# Combine the data into a DataFrame\n",
    "data = pd.DataFrame({\n",
    "    'Value': np.concatenate([group1, group2, group3]),\n",
    "    'Group': ['Group1'] * 30 + ['Group2'] * 30 + ['Group3'] * 30\n",
    "})\n",
    "\n",
    "# Display the first few rows of the DataFrame\n",
    "print(data.head())\n"
   ]
  },
  {
   "cell_type": "code",
   "execution_count": 14,
   "metadata": {},
   "outputs": [
    {
     "data": {
      "text/html": [
       "<div>\n",
       "<style scoped>\n",
       "    .dataframe tbody tr th:only-of-type {\n",
       "        vertical-align: middle;\n",
       "    }\n",
       "\n",
       "    .dataframe tbody tr th {\n",
       "        vertical-align: top;\n",
       "    }\n",
       "\n",
       "    .dataframe thead th {\n",
       "        text-align: right;\n",
       "    }\n",
       "</style>\n",
       "<table border=\"1\" class=\"dataframe\">\n",
       "  <thead>\n",
       "    <tr style=\"text-align: right;\">\n",
       "      <th></th>\n",
       "      <th>Value</th>\n",
       "      <th>Group</th>\n",
       "    </tr>\n",
       "  </thead>\n",
       "  <tbody>\n",
       "    <tr>\n",
       "      <th>0</th>\n",
       "      <td>14.967142</td>\n",
       "      <td>Group1</td>\n",
       "    </tr>\n",
       "    <tr>\n",
       "      <th>1</th>\n",
       "      <td>8.617357</td>\n",
       "      <td>Group1</td>\n",
       "    </tr>\n",
       "    <tr>\n",
       "      <th>2</th>\n",
       "      <td>16.476885</td>\n",
       "      <td>Group1</td>\n",
       "    </tr>\n",
       "    <tr>\n",
       "      <th>3</th>\n",
       "      <td>25.230299</td>\n",
       "      <td>Group1</td>\n",
       "    </tr>\n",
       "    <tr>\n",
       "      <th>4</th>\n",
       "      <td>7.658466</td>\n",
       "      <td>Group1</td>\n",
       "    </tr>\n",
       "    <tr>\n",
       "      <th>...</th>\n",
       "      <td>...</td>\n",
       "      <td>...</td>\n",
       "    </tr>\n",
       "    <tr>\n",
       "      <th>85</th>\n",
       "      <td>52.451088</td>\n",
       "      <td>Group3</td>\n",
       "    </tr>\n",
       "    <tr>\n",
       "      <th>86</th>\n",
       "      <td>60.838687</td>\n",
       "      <td>Group3</td>\n",
       "    </tr>\n",
       "    <tr>\n",
       "      <th>87</th>\n",
       "      <td>49.751824</td>\n",
       "      <td>Group3</td>\n",
       "    </tr>\n",
       "    <tr>\n",
       "      <th>88</th>\n",
       "      <td>50.909313</td>\n",
       "      <td>Group3</td>\n",
       "    </tr>\n",
       "    <tr>\n",
       "      <th>89</th>\n",
       "      <td>47.101641</td>\n",
       "      <td>Group3</td>\n",
       "    </tr>\n",
       "  </tbody>\n",
       "</table>\n",
       "<p>90 rows × 2 columns</p>\n",
       "</div>"
      ],
      "text/plain": [
       "        Value   Group\n",
       "0   14.967142  Group1\n",
       "1    8.617357  Group1\n",
       "2   16.476885  Group1\n",
       "3   25.230299  Group1\n",
       "4    7.658466  Group1\n",
       "..        ...     ...\n",
       "85  52.451088  Group3\n",
       "86  60.838687  Group3\n",
       "87  49.751824  Group3\n",
       "88  50.909313  Group3\n",
       "89  47.101641  Group3\n",
       "\n",
       "[90 rows x 2 columns]"
      ]
     },
     "execution_count": 14,
     "metadata": {},
     "output_type": "execute_result"
    }
   ],
   "source": [
    "data.head(90)"
   ]
  },
  {
   "cell_type": "code",
   "execution_count": 10,
   "metadata": {},
   "outputs": [
    {
     "data": {
      "image/png": "[encoded data removed]",
      "text/plain": [
       "<Figure size 800x600 with 1 Axes>"
      ]
     },
     "metadata": {},
     "output_type": "display_data"
    }
   ],
   "source": [
    "# Calculate the mean value for each group\n",
    "mean_values = data.groupby('Group').mean().reset_index()\n",
    "\n",
    "# Plotting the bar chart\n",
    "plt.figure(figsize=(8, 6))\n",
    "sns.barplot(x='Group', y='Value', data=mean_values)\n",
    "plt.title('Mean Values for Each Group')\n",
    "plt.ylabel('Mean Value')\n",
    "plt.show()\n"
   ]
  },
  {
   "cell_type": "code",
   "execution_count": 11,
   "metadata": {},
   "outputs": [
    {
     "name": "stdout",
     "output_type": "stream",
     "text": [
      "Kruskal-Wallis H-statistic: 45.85504273504273\n",
      "p-value: 1.1033263400958758e-10\n"
     ]
    }
   ],
   "source": [
    "# Run the Kruskal-Wallis test\n",
    "statistic, p_value = kruskal(group1, group2, group3)\n",
    "\n",
    "# Print the test results\n",
    "print(f\"Kruskal-Wallis H-statistic: {statistic}\")\n",
    "print(f\"p-value: {p_value}\")\n"
   ]
  },
  {
   "cell_type": "code",
   "execution_count": null,
   "metadata": {},
   "outputs": [],
   "source": []
  }
 ],
 "metadata": {
  "kernelspec": {
   "display_name": ".env",
   "language": "python",
   "name": "python3"
  },
  "language_info": {
   "codemirror_mode": {
    "name": "ipython",
    "version": 3
   },
   "file_extension": ".py",
   "mimetype": "text/x-python",
   "name": "python",
   "nbconvert_exporter": "python",
   "pygments_lexer": "ipython3",
   "version": "3.12.4"
  }
 },
 "nbformat": 4,
 "nbformat_minor": 2
}
